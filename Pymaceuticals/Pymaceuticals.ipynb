{
 "cells": [
  {
   "attachments": {},
   "cell_type": "markdown",
   "id": "0a368bbe",
   "metadata": {},
   "source": [
    "# Pymaceuticals Inc.\n",
    "---\n",
    "\n",
    "### Analysis\n",
    "\n",
    "Over the course of 45 days, this study analyzed the effects of a placebo and a range of nine drug treatment regimens on the tumor development of 248 mice suffering from a commonly occurring form of skin cancer, squamous cell carcinoma (SCC).  The most promising treatments in this range included Ceftamin, Infubinol, Ramicane, and this company’s drug of interest, Capomulin.  The ultimate purpose of this study was to compare the performance of Capomulin against the other drug candidates.\n",
    "\n",
    "A superficial analysis of this study yields some interesting observations concerning the efficacy of the top four drugs.  Except for Ramicane with its symmetrical tumor volume distribution, all the treatment regimens have skewed distributions towards the low end indicated by a margin between the median and mean below.  Moreover, Ramicane and Capomulin have the narrowest distributions while Ceftamin’s is the widest, about as wide as the placebo’s, followed by Infubinol.  Generally, the narrower distributions with their lower variances infer a consistency in outcomes.  On top of that, Ramicane and Capomulin have the lowest median tumor volumes; Ceftamin and Infubinol have the same median, which is noticeably higher and comparable to the placebo’s value.  What’s more, Capomulin’s mouse weight and tumor volume metrics have a very strong relationship evidenced by a 0.842 linear correlation.\n",
    "\n",
    "Unfortunately, upon closer examination, there are serious anomalies in this study’s data collection and quality control.  For instance, Infubinol’s distribution has a single statistically insignificant low outlier: inexplicably, one of only two data points from a single mouse in a study where each mouse should have ten data points.  Further investigation reveals that Ramicane and Capomulin have 22-29% more data points than the other treatment regimens except for Propriva where the difference grows to 55%.  This discrepancy comes from the number of data points per mouse: each candidate has about 25 mice for its trial, however, unlike the others who have fewer, Ramicane’s and Capomulin’s mice overwhelmingly have ten data points.  This situation begs the question: would comparable numbers of data points per mouse change the outcomes?  Would more data points for all the candidates?  Furthermore, the original number of mice was 249, but one mouse had duplicate timepoints with suspiciously different tumor volumes.  \n",
    "\n",
    "Ostensibly, Ramicane is the most promising drug with Capomulin a close second, and neither Ceftamin nor Infubinol have any discernable effect on decreasing tumor volume.  In truth, this study should be invalidated due to asymmetrical data collection, inconsistencies, and insufficient sample spaces.  Therefore, I recommend another study of these treatments where each mouse provides ten data points for analysis, the number of mice per trial increases from 25 to 100, the weight of each mouse in the study is approximately the same, and clinical trial managers review data for inconsistencies immediately after collection.   Once a decision based on a valid and accurate study is forthcoming, the company can begin investigating the best possible dosage of Capomulin, or any other treatment for SCC, based on a subject’s weight."
   ]
  },
  {
   "cell_type": "code",
   "execution_count": 1,
   "id": "bfa45f8e",
   "metadata": {},
   "outputs": [
    {
     "data": {
      "application/javascript": [
       "(function(root) {\n",
       "  function now() {\n",
       "    return new Date();\n",
       "  }\n",
       "\n",
       "  var force = true;\n",
       "  var py_version = '3.2.1'.replace('rc', '-rc.').replace('.dev', '-dev.');\n",
       "  var is_dev = py_version.indexOf(\"+\") !== -1 || py_version.indexOf(\"-\") !== -1;\n",
       "  var reloading = false;\n",
       "  var Bokeh = root.Bokeh;\n",
       "  var bokeh_loaded = Bokeh != null && (Bokeh.version === py_version || (Bokeh.versions !== undefined && Bokeh.versions.has(py_version)));\n",
       "\n",
       "  if (typeof (root._bokeh_timeout) === \"undefined\" || force) {\n",
       "    root._bokeh_timeout = Date.now() + 5000;\n",
       "    root._bokeh_failed_load = false;\n",
       "  }\n",
       "\n",
       "  function run_callbacks() {\n",
       "    try {\n",
       "      root._bokeh_onload_callbacks.forEach(function(callback) {\n",
       "        if (callback != null)\n",
       "          callback();\n",
       "      });\n",
       "    } finally {\n",
       "      delete root._bokeh_onload_callbacks;\n",
       "    }\n",
       "    console.debug(\"Bokeh: all callbacks have finished\");\n",
       "  }\n",
       "\n",
       "  function load_libs(css_urls, js_urls, js_modules, js_exports, callback) {\n",
       "    if (css_urls == null) css_urls = [];\n",
       "    if (js_urls == null) js_urls = [];\n",
       "    if (js_modules == null) js_modules = [];\n",
       "    if (js_exports == null) js_exports = {};\n",
       "\n",
       "    root._bokeh_onload_callbacks.push(callback);\n",
       "\n",
       "    if (root._bokeh_is_loading > 0) {\n",
       "      console.debug(\"Bokeh: BokehJS is being loaded, scheduling callback at\", now());\n",
       "      return null;\n",
       "    }\n",
       "    if (js_urls.length === 0 && js_modules.length === 0 && Object.keys(js_exports).length === 0) {\n",
       "      run_callbacks();\n",
       "      return null;\n",
       "    }\n",
       "    if (!reloading) {\n",
       "      console.debug(\"Bokeh: BokehJS not loaded, scheduling load and callback at\", now());\n",
       "    }\n",
       "\n",
       "    function on_load() {\n",
       "      root._bokeh_is_loading--;\n",
       "      if (root._bokeh_is_loading === 0) {\n",
       "        console.debug(\"Bokeh: all BokehJS libraries/stylesheets loaded\");\n",
       "        run_callbacks()\n",
       "      }\n",
       "    }\n",
       "    window._bokeh_on_load = on_load\n",
       "\n",
       "    function on_error() {\n",
       "      console.error(\"failed to load \" + url);\n",
       "    }\n",
       "\n",
       "    var skip = [];\n",
       "    if (window.requirejs) {\n",
       "      window.requirejs.config({'packages': {}, 'paths': {'jspanel': 'https://cdn.jsdelivr.net/npm/jspanel4@4.12.0/dist/jspanel', 'jspanel-modal': 'https://cdn.jsdelivr.net/npm/jspanel4@4.12.0/dist/extensions/modal/jspanel.modal', 'jspanel-tooltip': 'https://cdn.jsdelivr.net/npm/jspanel4@4.12.0/dist/extensions/tooltip/jspanel.tooltip', 'jspanel-hint': 'https://cdn.jsdelivr.net/npm/jspanel4@4.12.0/dist/extensions/hint/jspanel.hint', 'jspanel-layout': 'https://cdn.jsdelivr.net/npm/jspanel4@4.12.0/dist/extensions/layout/jspanel.layout', 'jspanel-contextmenu': 'https://cdn.jsdelivr.net/npm/jspanel4@4.12.0/dist/extensions/contextmenu/jspanel.contextmenu', 'jspanel-dock': 'https://cdn.jsdelivr.net/npm/jspanel4@4.12.0/dist/extensions/dock/jspanel.dock', 'gridstack': 'https://cdn.jsdelivr.net/npm/gridstack@7.2.3/dist/gridstack-all', 'notyf': 'https://cdn.jsdelivr.net/npm/notyf@3/notyf.min'}, 'shim': {'jspanel': {'exports': 'jsPanel'}, 'gridstack': {'exports': 'GridStack'}}});\n",
       "      require([\"jspanel\"], function(jsPanel) {\n",
       "\twindow.jsPanel = jsPanel\n",
       "\ton_load()\n",
       "      })\n",
       "      require([\"jspanel-modal\"], function() {\n",
       "\ton_load()\n",
       "      })\n",
       "      require([\"jspanel-tooltip\"], function() {\n",
       "\ton_load()\n",
       "      })\n",
       "      require([\"jspanel-hint\"], function() {\n",
       "\ton_load()\n",
       "      })\n",
       "      require([\"jspanel-layout\"], function() {\n",
       "\ton_load()\n",
       "      })\n",
       "      require([\"jspanel-contextmenu\"], function() {\n",
       "\ton_load()\n",
       "      })\n",
       "      require([\"jspanel-dock\"], function() {\n",
       "\ton_load()\n",
       "      })\n",
       "      require([\"gridstack\"], function(GridStack) {\n",
       "\twindow.GridStack = GridStack\n",
       "\ton_load()\n",
       "      })\n",
       "      require([\"notyf\"], function() {\n",
       "\ton_load()\n",
       "      })\n",
       "      root._bokeh_is_loading = css_urls.length + 9;\n",
       "    } else {\n",
       "      root._bokeh_is_loading = css_urls.length + js_urls.length + js_modules.length + Object.keys(js_exports).length;\n",
       "    }\n",
       "\n",
       "    var existing_stylesheets = []\n",
       "    var links = document.getElementsByTagName('link')\n",
       "    for (var i = 0; i < links.length; i++) {\n",
       "      var link = links[i]\n",
       "      if (link.href != null) {\n",
       "\texisting_stylesheets.push(link.href)\n",
       "      }\n",
       "    }\n",
       "    for (var i = 0; i < css_urls.length; i++) {\n",
       "      var url = css_urls[i];\n",
       "      if (existing_stylesheets.indexOf(url) !== -1) {\n",
       "\ton_load()\n",
       "\tcontinue;\n",
       "      }\n",
       "      const element = document.createElement(\"link\");\n",
       "      element.onload = on_load;\n",
       "      element.onerror = on_error;\n",
       "      element.rel = \"stylesheet\";\n",
       "      element.type = \"text/css\";\n",
       "      element.href = url;\n",
       "      console.debug(\"Bokeh: injecting link tag for BokehJS stylesheet: \", url);\n",
       "      document.body.appendChild(element);\n",
       "    }    if (((window['jsPanel'] !== undefined) && (!(window['jsPanel'] instanceof HTMLElement))) || window.requirejs) {\n",
       "      var urls = ['https://cdn.holoviz.org/panel/1.2.1/dist/bundled/floatpanel/jspanel4@4.12.0/dist/jspanel.js', 'https://cdn.holoviz.org/panel/1.2.1/dist/bundled/floatpanel/jspanel4@4.12.0/dist/extensions/modal/jspanel.modal.js', 'https://cdn.holoviz.org/panel/1.2.1/dist/bundled/floatpanel/jspanel4@4.12.0/dist/extensions/tooltip/jspanel.tooltip.js', 'https://cdn.holoviz.org/panel/1.2.1/dist/bundled/floatpanel/jspanel4@4.12.0/dist/extensions/hint/jspanel.hint.js', 'https://cdn.holoviz.org/panel/1.2.1/dist/bundled/floatpanel/jspanel4@4.12.0/dist/extensions/layout/jspanel.layout.js', 'https://cdn.holoviz.org/panel/1.2.1/dist/bundled/floatpanel/jspanel4@4.12.0/dist/extensions/contextmenu/jspanel.contextmenu.js', 'https://cdn.holoviz.org/panel/1.2.1/dist/bundled/floatpanel/jspanel4@4.12.0/dist/extensions/dock/jspanel.dock.js'];\n",
       "      for (var i = 0; i < urls.length; i++) {\n",
       "        skip.push(urls[i])\n",
       "      }\n",
       "    }    if (((window['GridStack'] !== undefined) && (!(window['GridStack'] instanceof HTMLElement))) || window.requirejs) {\n",
       "      var urls = ['https://cdn.holoviz.org/panel/1.2.1/dist/bundled/gridstack/gridstack@7.2.3/dist/gridstack-all.js'];\n",
       "      for (var i = 0; i < urls.length; i++) {\n",
       "        skip.push(urls[i])\n",
       "      }\n",
       "    }    if (((window['Notyf'] !== undefined) && (!(window['Notyf'] instanceof HTMLElement))) || window.requirejs) {\n",
       "      var urls = ['https://cdn.holoviz.org/panel/1.2.1/dist/bundled/notificationarea/notyf@3/notyf.min.js'];\n",
       "      for (var i = 0; i < urls.length; i++) {\n",
       "        skip.push(urls[i])\n",
       "      }\n",
       "    }    var existing_scripts = []\n",
       "    var scripts = document.getElementsByTagName('script')\n",
       "    for (var i = 0; i < scripts.length; i++) {\n",
       "      var script = scripts[i]\n",
       "      if (script.src != null) {\n",
       "\texisting_scripts.push(script.src)\n",
       "      }\n",
       "    }\n",
       "    for (var i = 0; i < js_urls.length; i++) {\n",
       "      var url = js_urls[i];\n",
       "      if (skip.indexOf(url) !== -1 || existing_scripts.indexOf(url) !== -1) {\n",
       "\tif (!window.requirejs) {\n",
       "\t  on_load();\n",
       "\t}\n",
       "\tcontinue;\n",
       "      }\n",
       "      var element = document.createElement('script');\n",
       "      element.onload = on_load;\n",
       "      element.onerror = on_error;\n",
       "      element.async = false;\n",
       "      element.src = url;\n",
       "      console.debug(\"Bokeh: injecting script tag for BokehJS library: \", url);\n",
       "      document.head.appendChild(element);\n",
       "    }\n",
       "    for (var i = 0; i < js_modules.length; i++) {\n",
       "      var url = js_modules[i];\n",
       "      if (skip.indexOf(url) !== -1 || existing_scripts.indexOf(url) !== -1) {\n",
       "\tif (!window.requirejs) {\n",
       "\t  on_load();\n",
       "\t}\n",
       "\tcontinue;\n",
       "      }\n",
       "      var element = document.createElement('script');\n",
       "      element.onload = on_load;\n",
       "      element.onerror = on_error;\n",
       "      element.async = false;\n",
       "      element.src = url;\n",
       "      element.type = \"module\";\n",
       "      console.debug(\"Bokeh: injecting script tag for BokehJS library: \", url);\n",
       "      document.head.appendChild(element);\n",
       "    }\n",
       "    for (const name in js_exports) {\n",
       "      var url = js_exports[name];\n",
       "      if (skip.indexOf(url) >= 0 || root[name] != null) {\n",
       "\tif (!window.requirejs) {\n",
       "\t  on_load();\n",
       "\t}\n",
       "\tcontinue;\n",
       "      }\n",
       "      var element = document.createElement('script');\n",
       "      element.onerror = on_error;\n",
       "      element.async = false;\n",
       "      element.type = \"module\";\n",
       "      console.debug(\"Bokeh: injecting script tag for BokehJS library: \", url);\n",
       "      element.textContent = `\n",
       "      import ${name} from \"${url}\"\n",
       "      window.${name} = ${name}\n",
       "      window._bokeh_on_load()\n",
       "      `\n",
       "      document.head.appendChild(element);\n",
       "    }\n",
       "    if (!js_urls.length && !js_modules.length) {\n",
       "      on_load()\n",
       "    }\n",
       "  };\n",
       "\n",
       "  function inject_raw_css(css) {\n",
       "    const element = document.createElement(\"style\");\n",
       "    element.appendChild(document.createTextNode(css));\n",
       "    document.body.appendChild(element);\n",
       "  }\n",
       "\n",
       "  var js_urls = [\"https://cdn.bokeh.org/bokeh/release/bokeh-3.2.1.min.js\", \"https://cdn.bokeh.org/bokeh/release/bokeh-gl-3.2.1.min.js\", \"https://cdn.bokeh.org/bokeh/release/bokeh-widgets-3.2.1.min.js\", \"https://cdn.bokeh.org/bokeh/release/bokeh-tables-3.2.1.min.js\", \"https://cdn.holoviz.org/panel/1.2.1/dist/panel.min.js\"];\n",
       "  var js_modules = [];\n",
       "  var js_exports = {};\n",
       "  var css_urls = [];\n",
       "  var inline_js = [    function(Bokeh) {\n",
       "      Bokeh.set_log_level(\"info\");\n",
       "    },\n",
       "function(Bokeh) {} // ensure no trailing comma for IE\n",
       "  ];\n",
       "\n",
       "  function run_inline_js() {\n",
       "    if ((root.Bokeh !== undefined) || (force === true)) {\n",
       "      for (var i = 0; i < inline_js.length; i++) {\n",
       "        inline_js[i].call(root, root.Bokeh);\n",
       "      }\n",
       "      // Cache old bokeh versions\n",
       "      if (Bokeh != undefined && !reloading) {\n",
       "\tvar NewBokeh = root.Bokeh;\n",
       "\tif (Bokeh.versions === undefined) {\n",
       "\t  Bokeh.versions = new Map();\n",
       "\t}\n",
       "\tif (NewBokeh.version !== Bokeh.version) {\n",
       "\t  Bokeh.versions.set(NewBokeh.version, NewBokeh)\n",
       "\t}\n",
       "\troot.Bokeh = Bokeh;\n",
       "      }} else if (Date.now() < root._bokeh_timeout) {\n",
       "      setTimeout(run_inline_js, 100);\n",
       "    } else if (!root._bokeh_failed_load) {\n",
       "      console.log(\"Bokeh: BokehJS failed to load within specified timeout.\");\n",
       "      root._bokeh_failed_load = true;\n",
       "    }\n",
       "    root._bokeh_is_initializing = false\n",
       "  }\n",
       "\n",
       "  function load_or_wait() {\n",
       "    // Implement a backoff loop that tries to ensure we do not load multiple\n",
       "    // versions of Bokeh and its dependencies at the same time.\n",
       "    // In recent versions we use the root._bokeh_is_initializing flag\n",
       "    // to determine whether there is an ongoing attempt to initialize\n",
       "    // bokeh, however for backward compatibility we also try to ensure\n",
       "    // that we do not start loading a newer (Panel>=1.0 and Bokeh>3) version\n",
       "    // before older versions are fully initialized.\n",
       "    if (root._bokeh_is_initializing && Date.now() > root._bokeh_timeout) {\n",
       "      root._bokeh_is_initializing = false;\n",
       "      root._bokeh_onload_callbacks = undefined;\n",
       "      console.log(\"Bokeh: BokehJS was loaded multiple times but one version failed to initialize.\");\n",
       "      load_or_wait();\n",
       "    } else if (root._bokeh_is_initializing || (typeof root._bokeh_is_initializing === \"undefined\" && root._bokeh_onload_callbacks !== undefined)) {\n",
       "      setTimeout(load_or_wait, 100);\n",
       "    } else {\n",
       "      Bokeh = root.Bokeh;\n",
       "      bokeh_loaded = Bokeh != null && (Bokeh.version === py_version || (Bokeh.versions !== undefined && Bokeh.versions.has(py_version)));\n",
       "      root._bokeh_is_initializing = true\n",
       "      root._bokeh_onload_callbacks = []\n",
       "      if (!reloading && (!bokeh_loaded || is_dev)) {\n",
       "\troot.Bokeh = undefined;\n",
       "      }\n",
       "      load_libs(css_urls, js_urls, js_modules, js_exports, function() {\n",
       "\tconsole.debug(\"Bokeh: BokehJS plotting callback run at\", now());\n",
       "\trun_inline_js();\n",
       "      });\n",
       "    }\n",
       "  }\n",
       "  // Give older versions of the autoload script a head-start to ensure\n",
       "  // they initialize before we start loading newer version.\n",
       "  setTimeout(load_or_wait, 100)\n",
       "}(window));"
      ],
      "application/vnd.holoviews_load.v0+json": "(function(root) {\n  function now() {\n    return new Date();\n  }\n\n  var force = true;\n  var py_version = '3.2.1'.replace('rc', '-rc.').replace('.dev', '-dev.');\n  var is_dev = py_version.indexOf(\"+\") !== -1 || py_version.indexOf(\"-\") !== -1;\n  var reloading = false;\n  var Bokeh = root.Bokeh;\n  var bokeh_loaded = Bokeh != null && (Bokeh.version === py_version || (Bokeh.versions !== undefined && Bokeh.versions.has(py_version)));\n\n  if (typeof (root._bokeh_timeout) === \"undefined\" || force) {\n    root._bokeh_timeout = Date.now() + 5000;\n    root._bokeh_failed_load = false;\n  }\n\n  function run_callbacks() {\n    try {\n      root._bokeh_onload_callbacks.forEach(function(callback) {\n        if (callback != null)\n          callback();\n      });\n    } finally {\n      delete root._bokeh_onload_callbacks;\n    }\n    console.debug(\"Bokeh: all callbacks have finished\");\n  }\n\n  function load_libs(css_urls, js_urls, js_modules, js_exports, callback) {\n    if (css_urls == null) css_urls = [];\n    if (js_urls == null) js_urls = [];\n    if (js_modules == null) js_modules = [];\n    if (js_exports == null) js_exports = {};\n\n    root._bokeh_onload_callbacks.push(callback);\n\n    if (root._bokeh_is_loading > 0) {\n      console.debug(\"Bokeh: BokehJS is being loaded, scheduling callback at\", now());\n      return null;\n    }\n    if (js_urls.length === 0 && js_modules.length === 0 && Object.keys(js_exports).length === 0) {\n      run_callbacks();\n      return null;\n    }\n    if (!reloading) {\n      console.debug(\"Bokeh: BokehJS not loaded, scheduling load and callback at\", now());\n    }\n\n    function on_load() {\n      root._bokeh_is_loading--;\n      if (root._bokeh_is_loading === 0) {\n        console.debug(\"Bokeh: all BokehJS libraries/stylesheets loaded\");\n        run_callbacks()\n      }\n    }\n    window._bokeh_on_load = on_load\n\n    function on_error() {\n      console.error(\"failed to load \" + url);\n    }\n\n    var skip = [];\n    if (window.requirejs) {\n      window.requirejs.config({'packages': {}, 'paths': {'jspanel': 'https://cdn.jsdelivr.net/npm/jspanel4@4.12.0/dist/jspanel', 'jspanel-modal': 'https://cdn.jsdelivr.net/npm/jspanel4@4.12.0/dist/extensions/modal/jspanel.modal', 'jspanel-tooltip': 'https://cdn.jsdelivr.net/npm/jspanel4@4.12.0/dist/extensions/tooltip/jspanel.tooltip', 'jspanel-hint': 'https://cdn.jsdelivr.net/npm/jspanel4@4.12.0/dist/extensions/hint/jspanel.hint', 'jspanel-layout': 'https://cdn.jsdelivr.net/npm/jspanel4@4.12.0/dist/extensions/layout/jspanel.layout', 'jspanel-contextmenu': 'https://cdn.jsdelivr.net/npm/jspanel4@4.12.0/dist/extensions/contextmenu/jspanel.contextmenu', 'jspanel-dock': 'https://cdn.jsdelivr.net/npm/jspanel4@4.12.0/dist/extensions/dock/jspanel.dock', 'gridstack': 'https://cdn.jsdelivr.net/npm/gridstack@7.2.3/dist/gridstack-all', 'notyf': 'https://cdn.jsdelivr.net/npm/notyf@3/notyf.min'}, 'shim': {'jspanel': {'exports': 'jsPanel'}, 'gridstack': {'exports': 'GridStack'}}});\n      require([\"jspanel\"], function(jsPanel) {\n\twindow.jsPanel = jsPanel\n\ton_load()\n      })\n      require([\"jspanel-modal\"], function() {\n\ton_load()\n      })\n      require([\"jspanel-tooltip\"], function() {\n\ton_load()\n      })\n      require([\"jspanel-hint\"], function() {\n\ton_load()\n      })\n      require([\"jspanel-layout\"], function() {\n\ton_load()\n      })\n      require([\"jspanel-contextmenu\"], function() {\n\ton_load()\n      })\n      require([\"jspanel-dock\"], function() {\n\ton_load()\n      })\n      require([\"gridstack\"], function(GridStack) {\n\twindow.GridStack = GridStack\n\ton_load()\n      })\n      require([\"notyf\"], function() {\n\ton_load()\n      })\n      root._bokeh_is_loading = css_urls.length + 9;\n    } else {\n      root._bokeh_is_loading = css_urls.length + js_urls.length + js_modules.length + Object.keys(js_exports).length;\n    }\n\n    var existing_stylesheets = []\n    var links = document.getElementsByTagName('link')\n    for (var i = 0; i < links.length; i++) {\n      var link = links[i]\n      if (link.href != null) {\n\texisting_stylesheets.push(link.href)\n      }\n    }\n    for (var i = 0; i < css_urls.length; i++) {\n      var url = css_urls[i];\n      if (existing_stylesheets.indexOf(url) !== -1) {\n\ton_load()\n\tcontinue;\n      }\n      const element = document.createElement(\"link\");\n      element.onload = on_load;\n      element.onerror = on_error;\n      element.rel = \"stylesheet\";\n      element.type = \"text/css\";\n      element.href = url;\n      console.debug(\"Bokeh: injecting link tag for BokehJS stylesheet: \", url);\n      document.body.appendChild(element);\n    }    if (((window['jsPanel'] !== undefined) && (!(window['jsPanel'] instanceof HTMLElement))) || window.requirejs) {\n      var urls = ['https://cdn.holoviz.org/panel/1.2.1/dist/bundled/floatpanel/jspanel4@4.12.0/dist/jspanel.js', 'https://cdn.holoviz.org/panel/1.2.1/dist/bundled/floatpanel/jspanel4@4.12.0/dist/extensions/modal/jspanel.modal.js', 'https://cdn.holoviz.org/panel/1.2.1/dist/bundled/floatpanel/jspanel4@4.12.0/dist/extensions/tooltip/jspanel.tooltip.js', 'https://cdn.holoviz.org/panel/1.2.1/dist/bundled/floatpanel/jspanel4@4.12.0/dist/extensions/hint/jspanel.hint.js', 'https://cdn.holoviz.org/panel/1.2.1/dist/bundled/floatpanel/jspanel4@4.12.0/dist/extensions/layout/jspanel.layout.js', 'https://cdn.holoviz.org/panel/1.2.1/dist/bundled/floatpanel/jspanel4@4.12.0/dist/extensions/contextmenu/jspanel.contextmenu.js', 'https://cdn.holoviz.org/panel/1.2.1/dist/bundled/floatpanel/jspanel4@4.12.0/dist/extensions/dock/jspanel.dock.js'];\n      for (var i = 0; i < urls.length; i++) {\n        skip.push(urls[i])\n      }\n    }    if (((window['GridStack'] !== undefined) && (!(window['GridStack'] instanceof HTMLElement))) || window.requirejs) {\n      var urls = ['https://cdn.holoviz.org/panel/1.2.1/dist/bundled/gridstack/gridstack@7.2.3/dist/gridstack-all.js'];\n      for (var i = 0; i < urls.length; i++) {\n        skip.push(urls[i])\n      }\n    }    if (((window['Notyf'] !== undefined) && (!(window['Notyf'] instanceof HTMLElement))) || window.requirejs) {\n      var urls = ['https://cdn.holoviz.org/panel/1.2.1/dist/bundled/notificationarea/notyf@3/notyf.min.js'];\n      for (var i = 0; i < urls.length; i++) {\n        skip.push(urls[i])\n      }\n    }    var existing_scripts = []\n    var scripts = document.getElementsByTagName('script')\n    for (var i = 0; i < scripts.length; i++) {\n      var script = scripts[i]\n      if (script.src != null) {\n\texisting_scripts.push(script.src)\n      }\n    }\n    for (var i = 0; i < js_urls.length; i++) {\n      var url = js_urls[i];\n      if (skip.indexOf(url) !== -1 || existing_scripts.indexOf(url) !== -1) {\n\tif (!window.requirejs) {\n\t  on_load();\n\t}\n\tcontinue;\n      }\n      var element = document.createElement('script');\n      element.onload = on_load;\n      element.onerror = on_error;\n      element.async = false;\n      element.src = url;\n      console.debug(\"Bokeh: injecting script tag for BokehJS library: \", url);\n      document.head.appendChild(element);\n    }\n    for (var i = 0; i < js_modules.length; i++) {\n      var url = js_modules[i];\n      if (skip.indexOf(url) !== -1 || existing_scripts.indexOf(url) !== -1) {\n\tif (!window.requirejs) {\n\t  on_load();\n\t}\n\tcontinue;\n      }\n      var element = document.createElement('script');\n      element.onload = on_load;\n      element.onerror = on_error;\n      element.async = false;\n      element.src = url;\n      element.type = \"module\";\n      console.debug(\"Bokeh: injecting script tag for BokehJS library: \", url);\n      document.head.appendChild(element);\n    }\n    for (const name in js_exports) {\n      var url = js_exports[name];\n      if (skip.indexOf(url) >= 0 || root[name] != null) {\n\tif (!window.requirejs) {\n\t  on_load();\n\t}\n\tcontinue;\n      }\n      var element = document.createElement('script');\n      element.onerror = on_error;\n      element.async = false;\n      element.type = \"module\";\n      console.debug(\"Bokeh: injecting script tag for BokehJS library: \", url);\n      element.textContent = `\n      import ${name} from \"${url}\"\n      window.${name} = ${name}\n      window._bokeh_on_load()\n      `\n      document.head.appendChild(element);\n    }\n    if (!js_urls.length && !js_modules.length) {\n      on_load()\n    }\n  };\n\n  function inject_raw_css(css) {\n    const element = document.createElement(\"style\");\n    element.appendChild(document.createTextNode(css));\n    document.body.appendChild(element);\n  }\n\n  var js_urls = [\"https://cdn.bokeh.org/bokeh/release/bokeh-3.2.1.min.js\", \"https://cdn.bokeh.org/bokeh/release/bokeh-gl-3.2.1.min.js\", \"https://cdn.bokeh.org/bokeh/release/bokeh-widgets-3.2.1.min.js\", \"https://cdn.bokeh.org/bokeh/release/bokeh-tables-3.2.1.min.js\", \"https://cdn.holoviz.org/panel/1.2.1/dist/panel.min.js\"];\n  var js_modules = [];\n  var js_exports = {};\n  var css_urls = [];\n  var inline_js = [    function(Bokeh) {\n      Bokeh.set_log_level(\"info\");\n    },\nfunction(Bokeh) {} // ensure no trailing comma for IE\n  ];\n\n  function run_inline_js() {\n    if ((root.Bokeh !== undefined) || (force === true)) {\n      for (var i = 0; i < inline_js.length; i++) {\n        inline_js[i].call(root, root.Bokeh);\n      }\n      // Cache old bokeh versions\n      if (Bokeh != undefined && !reloading) {\n\tvar NewBokeh = root.Bokeh;\n\tif (Bokeh.versions === undefined) {\n\t  Bokeh.versions = new Map();\n\t}\n\tif (NewBokeh.version !== Bokeh.version) {\n\t  Bokeh.versions.set(NewBokeh.version, NewBokeh)\n\t}\n\troot.Bokeh = Bokeh;\n      }} else if (Date.now() < root._bokeh_timeout) {\n      setTimeout(run_inline_js, 100);\n    } else if (!root._bokeh_failed_load) {\n      console.log(\"Bokeh: BokehJS failed to load within specified timeout.\");\n      root._bokeh_failed_load = true;\n    }\n    root._bokeh_is_initializing = false\n  }\n\n  function load_or_wait() {\n    // Implement a backoff loop that tries to ensure we do not load multiple\n    // versions of Bokeh and its dependencies at the same time.\n    // In recent versions we use the root._bokeh_is_initializing flag\n    // to determine whether there is an ongoing attempt to initialize\n    // bokeh, however for backward compatibility we also try to ensure\n    // that we do not start loading a newer (Panel>=1.0 and Bokeh>3) version\n    // before older versions are fully initialized.\n    if (root._bokeh_is_initializing && Date.now() > root._bokeh_timeout) {\n      root._bokeh_is_initializing = false;\n      root._bokeh_onload_callbacks = undefined;\n      console.log(\"Bokeh: BokehJS was loaded multiple times but one version failed to initialize.\");\n      load_or_wait();\n    } else if (root._bokeh_is_initializing || (typeof root._bokeh_is_initializing === \"undefined\" && root._bokeh_onload_callbacks !== undefined)) {\n      setTimeout(load_or_wait, 100);\n    } else {\n      Bokeh = root.Bokeh;\n      bokeh_loaded = Bokeh != null && (Bokeh.version === py_version || (Bokeh.versions !== undefined && Bokeh.versions.has(py_version)));\n      root._bokeh_is_initializing = true\n      root._bokeh_onload_callbacks = []\n      if (!reloading && (!bokeh_loaded || is_dev)) {\n\troot.Bokeh = undefined;\n      }\n      load_libs(css_urls, js_urls, js_modules, js_exports, function() {\n\tconsole.debug(\"Bokeh: BokehJS plotting callback run at\", now());\n\trun_inline_js();\n      });\n    }\n  }\n  // Give older versions of the autoload script a head-start to ensure\n  // they initialize before we start loading newer version.\n  setTimeout(load_or_wait, 100)\n}(window));"
     },
     "metadata": {},
     "output_type": "display_data"
    },
    {
     "data": {
      "application/javascript": [
       "\n",
       "if ((window.PyViz === undefined) || (window.PyViz instanceof HTMLElement)) {\n",
       "  window.PyViz = {comms: {}, comm_status:{}, kernels:{}, receivers: {}, plot_index: []}\n",
       "}\n",
       "\n",
       "\n",
       "    function JupyterCommManager() {\n",
       "    }\n",
       "\n",
       "    JupyterCommManager.prototype.register_target = function(plot_id, comm_id, msg_handler) {\n",
       "      if (window.comm_manager || ((window.Jupyter !== undefined) && (Jupyter.notebook.kernel != null))) {\n",
       "        var comm_manager = window.comm_manager || Jupyter.notebook.kernel.comm_manager;\n",
       "        comm_manager.register_target(comm_id, function(comm) {\n",
       "          comm.on_msg(msg_handler);\n",
       "        });\n",
       "      } else if ((plot_id in window.PyViz.kernels) && (window.PyViz.kernels[plot_id])) {\n",
       "        window.PyViz.kernels[plot_id].registerCommTarget(comm_id, function(comm) {\n",
       "          comm.onMsg = msg_handler;\n",
       "        });\n",
       "      } else if (typeof google != 'undefined' && google.colab.kernel != null) {\n",
       "        google.colab.kernel.comms.registerTarget(comm_id, (comm) => {\n",
       "          var messages = comm.messages[Symbol.asyncIterator]();\n",
       "          function processIteratorResult(result) {\n",
       "            var message = result.value;\n",
       "            console.log(message)\n",
       "            var content = {data: message.data, comm_id};\n",
       "            var buffers = []\n",
       "            for (var buffer of message.buffers || []) {\n",
       "              buffers.push(new DataView(buffer))\n",
       "            }\n",
       "            var metadata = message.metadata || {};\n",
       "            var msg = {content, buffers, metadata}\n",
       "            msg_handler(msg);\n",
       "            return messages.next().then(processIteratorResult);\n",
       "          }\n",
       "          return messages.next().then(processIteratorResult);\n",
       "        })\n",
       "      }\n",
       "    }\n",
       "\n",
       "    JupyterCommManager.prototype.get_client_comm = function(plot_id, comm_id, msg_handler) {\n",
       "      if (comm_id in window.PyViz.comms) {\n",
       "        return window.PyViz.comms[comm_id];\n",
       "      } else if (window.comm_manager || ((window.Jupyter !== undefined) && (Jupyter.notebook.kernel != null))) {\n",
       "        var comm_manager = window.comm_manager || Jupyter.notebook.kernel.comm_manager;\n",
       "        var comm = comm_manager.new_comm(comm_id, {}, {}, {}, comm_id);\n",
       "        if (msg_handler) {\n",
       "          comm.on_msg(msg_handler);\n",
       "        }\n",
       "      } else if ((plot_id in window.PyViz.kernels) && (window.PyViz.kernels[plot_id])) {\n",
       "        var comm = window.PyViz.kernels[plot_id].connectToComm(comm_id);\n",
       "        comm.open();\n",
       "        if (msg_handler) {\n",
       "          comm.onMsg = msg_handler;\n",
       "        }\n",
       "      } else if (typeof google != 'undefined' && google.colab.kernel != null) {\n",
       "        var comm_promise = google.colab.kernel.comms.open(comm_id)\n",
       "        comm_promise.then((comm) => {\n",
       "          window.PyViz.comms[comm_id] = comm;\n",
       "          if (msg_handler) {\n",
       "            var messages = comm.messages[Symbol.asyncIterator]();\n",
       "            function processIteratorResult(result) {\n",
       "              var message = result.value;\n",
       "              var content = {data: message.data};\n",
       "              var metadata = message.metadata || {comm_id};\n",
       "              var msg = {content, metadata}\n",
       "              msg_handler(msg);\n",
       "              return messages.next().then(processIteratorResult);\n",
       "            }\n",
       "            return messages.next().then(processIteratorResult);\n",
       "          }\n",
       "        }) \n",
       "        var sendClosure = (data, metadata, buffers, disposeOnDone) => {\n",
       "          return comm_promise.then((comm) => {\n",
       "            comm.send(data, metadata, buffers, disposeOnDone);\n",
       "          });\n",
       "        };\n",
       "        var comm = {\n",
       "          send: sendClosure\n",
       "        };\n",
       "      }\n",
       "      window.PyViz.comms[comm_id] = comm;\n",
       "      return comm;\n",
       "    }\n",
       "    window.PyViz.comm_manager = new JupyterCommManager();\n",
       "    \n",
       "\n",
       "\n",
       "var JS_MIME_TYPE = 'application/javascript';\n",
       "var HTML_MIME_TYPE = 'text/html';\n",
       "var EXEC_MIME_TYPE = 'application/vnd.holoviews_exec.v0+json';\n",
       "var CLASS_NAME = 'output';\n",
       "\n",
       "/**\n",
       " * Render data to the DOM node\n",
       " */\n",
       "function render(props, node) {\n",
       "  var div = document.createElement(\"div\");\n",
       "  var script = document.createElement(\"script\");\n",
       "  node.appendChild(div);\n",
       "  node.appendChild(script);\n",
       "}\n",
       "\n",
       "/**\n",
       " * Handle when a new output is added\n",
       " */\n",
       "function handle_add_output(event, handle) {\n",
       "  var output_area = handle.output_area;\n",
       "  var output = handle.output;\n",
       "  if ((output.data == undefined) || (!output.data.hasOwnProperty(EXEC_MIME_TYPE))) {\n",
       "    return\n",
       "  }\n",
       "  var id = output.metadata[EXEC_MIME_TYPE][\"id\"];\n",
       "  var toinsert = output_area.element.find(\".\" + CLASS_NAME.split(' ')[0]);\n",
       "  if (id !== undefined) {\n",
       "    var nchildren = toinsert.length;\n",
       "    var html_node = toinsert[nchildren-1].children[0];\n",
       "    html_node.innerHTML = output.data[HTML_MIME_TYPE];\n",
       "    var scripts = [];\n",
       "    var nodelist = html_node.querySelectorAll(\"script\");\n",
       "    for (var i in nodelist) {\n",
       "      if (nodelist.hasOwnProperty(i)) {\n",
       "        scripts.push(nodelist[i])\n",
       "      }\n",
       "    }\n",
       "\n",
       "    scripts.forEach( function (oldScript) {\n",
       "      var newScript = document.createElement(\"script\");\n",
       "      var attrs = [];\n",
       "      var nodemap = oldScript.attributes;\n",
       "      for (var j in nodemap) {\n",
       "        if (nodemap.hasOwnProperty(j)) {\n",
       "          attrs.push(nodemap[j])\n",
       "        }\n",
       "      }\n",
       "      attrs.forEach(function(attr) { newScript.setAttribute(attr.name, attr.value) });\n",
       "      newScript.appendChild(document.createTextNode(oldScript.innerHTML));\n",
       "      oldScript.parentNode.replaceChild(newScript, oldScript);\n",
       "    });\n",
       "    if (JS_MIME_TYPE in output.data) {\n",
       "      toinsert[nchildren-1].children[1].textContent = output.data[JS_MIME_TYPE];\n",
       "    }\n",
       "    output_area._hv_plot_id = id;\n",
       "    if ((window.Bokeh !== undefined) && (id in Bokeh.index)) {\n",
       "      window.PyViz.plot_index[id] = Bokeh.index[id];\n",
       "    } else {\n",
       "      window.PyViz.plot_index[id] = null;\n",
       "    }\n",
       "  } else if (output.metadata[EXEC_MIME_TYPE][\"server_id\"] !== undefined) {\n",
       "    var bk_div = document.createElement(\"div\");\n",
       "    bk_div.innerHTML = output.data[HTML_MIME_TYPE];\n",
       "    var script_attrs = bk_div.children[0].attributes;\n",
       "    for (var i = 0; i < script_attrs.length; i++) {\n",
       "      toinsert[toinsert.length - 1].childNodes[1].setAttribute(script_attrs[i].name, script_attrs[i].value);\n",
       "    }\n",
       "    // store reference to server id on output_area\n",
       "    output_area._bokeh_server_id = output.metadata[EXEC_MIME_TYPE][\"server_id\"];\n",
       "  }\n",
       "}\n",
       "\n",
       "/**\n",
       " * Handle when an output is cleared or removed\n",
       " */\n",
       "function handle_clear_output(event, handle) {\n",
       "  var id = handle.cell.output_area._hv_plot_id;\n",
       "  var server_id = handle.cell.output_area._bokeh_server_id;\n",
       "  if (((id === undefined) || !(id in PyViz.plot_index)) && (server_id !== undefined)) { return; }\n",
       "  var comm = window.PyViz.comm_manager.get_client_comm(\"hv-extension-comm\", \"hv-extension-comm\", function () {});\n",
       "  if (server_id !== null) {\n",
       "    comm.send({event_type: 'server_delete', 'id': server_id});\n",
       "    return;\n",
       "  } else if (comm !== null) {\n",
       "    comm.send({event_type: 'delete', 'id': id});\n",
       "  }\n",
       "  delete PyViz.plot_index[id];\n",
       "  if ((window.Bokeh !== undefined) & (id in window.Bokeh.index)) {\n",
       "    var doc = window.Bokeh.index[id].model.document\n",
       "    doc.clear();\n",
       "    const i = window.Bokeh.documents.indexOf(doc);\n",
       "    if (i > -1) {\n",
       "      window.Bokeh.documents.splice(i, 1);\n",
       "    }\n",
       "  }\n",
       "}\n",
       "\n",
       "/**\n",
       " * Handle kernel restart event\n",
       " */\n",
       "function handle_kernel_cleanup(event, handle) {\n",
       "  delete PyViz.comms[\"hv-extension-comm\"];\n",
       "  window.PyViz.plot_index = {}\n",
       "}\n",
       "\n",
       "/**\n",
       " * Handle update_display_data messages\n",
       " */\n",
       "function handle_update_output(event, handle) {\n",
       "  handle_clear_output(event, {cell: {output_area: handle.output_area}})\n",
       "  handle_add_output(event, handle)\n",
       "}\n",
       "\n",
       "function register_renderer(events, OutputArea) {\n",
       "  function append_mime(data, metadata, element) {\n",
       "    // create a DOM node to render to\n",
       "    var toinsert = this.create_output_subarea(\n",
       "    metadata,\n",
       "    CLASS_NAME,\n",
       "    EXEC_MIME_TYPE\n",
       "    );\n",
       "    this.keyboard_manager.register_events(toinsert);\n",
       "    // Render to node\n",
       "    var props = {data: data, metadata: metadata[EXEC_MIME_TYPE]};\n",
       "    render(props, toinsert[0]);\n",
       "    element.append(toinsert);\n",
       "    return toinsert\n",
       "  }\n",
       "\n",
       "  events.on('output_added.OutputArea', handle_add_output);\n",
       "  events.on('output_updated.OutputArea', handle_update_output);\n",
       "  events.on('clear_output.CodeCell', handle_clear_output);\n",
       "  events.on('delete.Cell', handle_clear_output);\n",
       "  events.on('kernel_ready.Kernel', handle_kernel_cleanup);\n",
       "\n",
       "  OutputArea.prototype.register_mime_type(EXEC_MIME_TYPE, append_mime, {\n",
       "    safe: true,\n",
       "    index: 0\n",
       "  });\n",
       "}\n",
       "\n",
       "if (window.Jupyter !== undefined) {\n",
       "  try {\n",
       "    var events = require('base/js/events');\n",
       "    var OutputArea = require('notebook/js/outputarea').OutputArea;\n",
       "    if (OutputArea.prototype.mime_types().indexOf(EXEC_MIME_TYPE) == -1) {\n",
       "      register_renderer(events, OutputArea);\n",
       "    }\n",
       "  } catch(err) {\n",
       "  }\n",
       "}\n"
      ],
      "application/vnd.holoviews_load.v0+json": "\nif ((window.PyViz === undefined) || (window.PyViz instanceof HTMLElement)) {\n  window.PyViz = {comms: {}, comm_status:{}, kernels:{}, receivers: {}, plot_index: []}\n}\n\n\n    function JupyterCommManager() {\n    }\n\n    JupyterCommManager.prototype.register_target = function(plot_id, comm_id, msg_handler) {\n      if (window.comm_manager || ((window.Jupyter !== undefined) && (Jupyter.notebook.kernel != null))) {\n        var comm_manager = window.comm_manager || Jupyter.notebook.kernel.comm_manager;\n        comm_manager.register_target(comm_id, function(comm) {\n          comm.on_msg(msg_handler);\n        });\n      } else if ((plot_id in window.PyViz.kernels) && (window.PyViz.kernels[plot_id])) {\n        window.PyViz.kernels[plot_id].registerCommTarget(comm_id, function(comm) {\n          comm.onMsg = msg_handler;\n        });\n      } else if (typeof google != 'undefined' && google.colab.kernel != null) {\n        google.colab.kernel.comms.registerTarget(comm_id, (comm) => {\n          var messages = comm.messages[Symbol.asyncIterator]();\n          function processIteratorResult(result) {\n            var message = result.value;\n            console.log(message)\n            var content = {data: message.data, comm_id};\n            var buffers = []\n            for (var buffer of message.buffers || []) {\n              buffers.push(new DataView(buffer))\n            }\n            var metadata = message.metadata || {};\n            var msg = {content, buffers, metadata}\n            msg_handler(msg);\n            return messages.next().then(processIteratorResult);\n          }\n          return messages.next().then(processIteratorResult);\n        })\n      }\n    }\n\n    JupyterCommManager.prototype.get_client_comm = function(plot_id, comm_id, msg_handler) {\n      if (comm_id in window.PyViz.comms) {\n        return window.PyViz.comms[comm_id];\n      } else if (window.comm_manager || ((window.Jupyter !== undefined) && (Jupyter.notebook.kernel != null))) {\n        var comm_manager = window.comm_manager || Jupyter.notebook.kernel.comm_manager;\n        var comm = comm_manager.new_comm(comm_id, {}, {}, {}, comm_id);\n        if (msg_handler) {\n          comm.on_msg(msg_handler);\n        }\n      } else if ((plot_id in window.PyViz.kernels) && (window.PyViz.kernels[plot_id])) {\n        var comm = window.PyViz.kernels[plot_id].connectToComm(comm_id);\n        comm.open();\n        if (msg_handler) {\n          comm.onMsg = msg_handler;\n        }\n      } else if (typeof google != 'undefined' && google.colab.kernel != null) {\n        var comm_promise = google.colab.kernel.comms.open(comm_id)\n        comm_promise.then((comm) => {\n          window.PyViz.comms[comm_id] = comm;\n          if (msg_handler) {\n            var messages = comm.messages[Symbol.asyncIterator]();\n            function processIteratorResult(result) {\n              var message = result.value;\n              var content = {data: message.data};\n              var metadata = message.metadata || {comm_id};\n              var msg = {content, metadata}\n              msg_handler(msg);\n              return messages.next().then(processIteratorResult);\n            }\n            return messages.next().then(processIteratorResult);\n          }\n        }) \n        var sendClosure = (data, metadata, buffers, disposeOnDone) => {\n          return comm_promise.then((comm) => {\n            comm.send(data, metadata, buffers, disposeOnDone);\n          });\n        };\n        var comm = {\n          send: sendClosure\n        };\n      }\n      window.PyViz.comms[comm_id] = comm;\n      return comm;\n    }\n    window.PyViz.comm_manager = new JupyterCommManager();\n    \n\n\nvar JS_MIME_TYPE = 'application/javascript';\nvar HTML_MIME_TYPE = 'text/html';\nvar EXEC_MIME_TYPE = 'application/vnd.holoviews_exec.v0+json';\nvar CLASS_NAME = 'output';\n\n/**\n * Render data to the DOM node\n */\nfunction render(props, node) {\n  var div = document.createElement(\"div\");\n  var script = document.createElement(\"script\");\n  node.appendChild(div);\n  node.appendChild(script);\n}\n\n/**\n * Handle when a new output is added\n */\nfunction handle_add_output(event, handle) {\n  var output_area = handle.output_area;\n  var output = handle.output;\n  if ((output.data == undefined) || (!output.data.hasOwnProperty(EXEC_MIME_TYPE))) {\n    return\n  }\n  var id = output.metadata[EXEC_MIME_TYPE][\"id\"];\n  var toinsert = output_area.element.find(\".\" + CLASS_NAME.split(' ')[0]);\n  if (id !== undefined) {\n    var nchildren = toinsert.length;\n    var html_node = toinsert[nchildren-1].children[0];\n    html_node.innerHTML = output.data[HTML_MIME_TYPE];\n    var scripts = [];\n    var nodelist = html_node.querySelectorAll(\"script\");\n    for (var i in nodelist) {\n      if (nodelist.hasOwnProperty(i)) {\n        scripts.push(nodelist[i])\n      }\n    }\n\n    scripts.forEach( function (oldScript) {\n      var newScript = document.createElement(\"script\");\n      var attrs = [];\n      var nodemap = oldScript.attributes;\n      for (var j in nodemap) {\n        if (nodemap.hasOwnProperty(j)) {\n          attrs.push(nodemap[j])\n        }\n      }\n      attrs.forEach(function(attr) { newScript.setAttribute(attr.name, attr.value) });\n      newScript.appendChild(document.createTextNode(oldScript.innerHTML));\n      oldScript.parentNode.replaceChild(newScript, oldScript);\n    });\n    if (JS_MIME_TYPE in output.data) {\n      toinsert[nchildren-1].children[1].textContent = output.data[JS_MIME_TYPE];\n    }\n    output_area._hv_plot_id = id;\n    if ((window.Bokeh !== undefined) && (id in Bokeh.index)) {\n      window.PyViz.plot_index[id] = Bokeh.index[id];\n    } else {\n      window.PyViz.plot_index[id] = null;\n    }\n  } else if (output.metadata[EXEC_MIME_TYPE][\"server_id\"] !== undefined) {\n    var bk_div = document.createElement(\"div\");\n    bk_div.innerHTML = output.data[HTML_MIME_TYPE];\n    var script_attrs = bk_div.children[0].attributes;\n    for (var i = 0; i < script_attrs.length; i++) {\n      toinsert[toinsert.length - 1].childNodes[1].setAttribute(script_attrs[i].name, script_attrs[i].value);\n    }\n    // store reference to server id on output_area\n    output_area._bokeh_server_id = output.metadata[EXEC_MIME_TYPE][\"server_id\"];\n  }\n}\n\n/**\n * Handle when an output is cleared or removed\n */\nfunction handle_clear_output(event, handle) {\n  var id = handle.cell.output_area._hv_plot_id;\n  var server_id = handle.cell.output_area._bokeh_server_id;\n  if (((id === undefined) || !(id in PyViz.plot_index)) && (server_id !== undefined)) { return; }\n  var comm = window.PyViz.comm_manager.get_client_comm(\"hv-extension-comm\", \"hv-extension-comm\", function () {});\n  if (server_id !== null) {\n    comm.send({event_type: 'server_delete', 'id': server_id});\n    return;\n  } else if (comm !== null) {\n    comm.send({event_type: 'delete', 'id': id});\n  }\n  delete PyViz.plot_index[id];\n  if ((window.Bokeh !== undefined) & (id in window.Bokeh.index)) {\n    var doc = window.Bokeh.index[id].model.document\n    doc.clear();\n    const i = window.Bokeh.documents.indexOf(doc);\n    if (i > -1) {\n      window.Bokeh.documents.splice(i, 1);\n    }\n  }\n}\n\n/**\n * Handle kernel restart event\n */\nfunction handle_kernel_cleanup(event, handle) {\n  delete PyViz.comms[\"hv-extension-comm\"];\n  window.PyViz.plot_index = {}\n}\n\n/**\n * Handle update_display_data messages\n */\nfunction handle_update_output(event, handle) {\n  handle_clear_output(event, {cell: {output_area: handle.output_area}})\n  handle_add_output(event, handle)\n}\n\nfunction register_renderer(events, OutputArea) {\n  function append_mime(data, metadata, element) {\n    // create a DOM node to render to\n    var toinsert = this.create_output_subarea(\n    metadata,\n    CLASS_NAME,\n    EXEC_MIME_TYPE\n    );\n    this.keyboard_manager.register_events(toinsert);\n    // Render to node\n    var props = {data: data, metadata: metadata[EXEC_MIME_TYPE]};\n    render(props, toinsert[0]);\n    element.append(toinsert);\n    return toinsert\n  }\n\n  events.on('output_added.OutputArea', handle_add_output);\n  events.on('output_updated.OutputArea', handle_update_output);\n  events.on('clear_output.CodeCell', handle_clear_output);\n  events.on('delete.Cell', handle_clear_output);\n  events.on('kernel_ready.Kernel', handle_kernel_cleanup);\n\n  OutputArea.prototype.register_mime_type(EXEC_MIME_TYPE, append_mime, {\n    safe: true,\n    index: 0\n  });\n}\n\nif (window.Jupyter !== undefined) {\n  try {\n    var events = require('base/js/events');\n    var OutputArea = require('notebook/js/outputarea').OutputArea;\n    if (OutputArea.prototype.mime_types().indexOf(EXEC_MIME_TYPE) == -1) {\n      register_renderer(events, OutputArea);\n    }\n  } catch(err) {\n  }\n}\n"
     },
     "metadata": {},
     "output_type": "display_data"
    },
    {
     "data": {
      "text/html": [
       "<style>*[data-root-id],\n",
       "*[data-root-id] > * {\n",
       "  box-sizing: border-box;\n",
       "  font-family: var(--jp-ui-font-family);\n",
       "  font-size: var(--jp-ui-font-size1);\n",
       "  color: var(--vscode-editor-foreground, var(--jp-ui-font-color1));\n",
       "}\n",
       "\n",
       "/* Override VSCode background color */\n",
       ".cell-output-ipywidget-background:has(\n",
       "    > .cell-output-ipywidget-background > .lm-Widget > *[data-root-id]\n",
       "  ),\n",
       ".cell-output-ipywidget-background:has(> .lm-Widget > *[data-root-id]) {\n",
       "  background-color: transparent !important;\n",
       "}\n",
       "</style>"
      ]
     },
     "metadata": {},
     "output_type": "display_data"
    }
   ],
   "source": [
    "#*******************************************************************************************\n",
    " #\n",
    " #  File Name:  Pymaceuticals.ipynb\n",
    " #\n",
    " #  File Description:\n",
    " #      This interactive Python notebook, Pymaceuticals.ipynb, reads two csv files,\n",
    " #      Mouse_metadata.csv and Study_results.csv, in the Resources folder, which \n",
    " #      contain data about a pharmaceutical company's most recent animal study. \n",
    " #      In this study, two hundred forty-nine mice, who were identified with SCC \n",
    " #      tumors, received treatment with a range of drug regimens. Over the course \n",
    " #      of 45 days, tumor development was observed and measured. The purpose of \n",
    " #      this study was to compare the performance of Pymaceuticals’ drug of interest, \n",
    " #      Capomulin, against the other treatment regimens.  This Python script generates \n",
    " #      all of the tables and figures needed for a technical report of this clinical \n",
    " #      study.\n",
    " #\n",
    " #\n",
    " #  Date            Description                             Programmer\n",
    " #  ----------      ------------------------------------    ------------------\n",
    " #  08/18/2023      Initial Development                     N. James George\n",
    " #\n",
    " #******************************************************************************************/\n",
    "\n",
    "import PymaceuticalsFunctions as local_function\n",
    "import PymaceuticalsSubRoutines as local_subroutine\n",
    "\n",
    "import PyConstants as constant\n",
    "import PyFunctions as function\n",
    "import PyLogConstants as log_constant\n",
    "import PyLogFunctions as log_function\n",
    "import PyLogSubRoutines as log_subroutine\n",
    "import PySubroutines as subroutine\n",
    "\n",
    "import numpy as np\n",
    "import pandas as pd"
   ]
  },
  {
   "cell_type": "code",
   "execution_count": 2,
   "id": "1574e45d",
   "metadata": {},
   "outputs": [
    {
     "name": "stdout",
     "output_type": "stream",
     "text": [
      "Program execution begins...\n",
      "\n"
     ]
    }
   ],
   "source": [
    "CONSTANT_LOCAL_FILE_NAME \\\n",
    "    = 'Pymaceuticals.ipynb'\n",
    "\n",
    "CONSTANT_MOUSE_INFO_CSV_FILE_PATH \\\n",
    "    = './Resources/MouseMetaData.csv'\n",
    "\n",
    "CONSTANT_MEDICAL_STUDY_CSV_FILE_PATH \\\n",
    "    = './Resources/StudyResults.csv'\n",
    "\n",
    "\n",
    "log_subroutine \\\n",
    "    .SetLogMode \\\n",
    "        (False)\n",
    "\n",
    "log_subroutine \\\n",
    "    .SetDebugMode \\\n",
    "        (False)\n",
    "\n",
    "log_subroutine \\\n",
    "    .SetImageMode \\\n",
    "        (False)\n",
    "\n",
    "\n",
    "log_subroutine \\\n",
    "    .BeginProgramExecution \\\n",
    "        ('Pymaceuticals')"
   ]
  },
  {
   "cell_type": "markdown",
   "id": "6fd0d4b9",
   "metadata": {},
   "source": [
    "# <br> **Section 1: Data Preparation**"
   ]
  },
  {
   "cell_type": "markdown",
   "id": "6a2bef29",
   "metadata": {},
   "source": [
    "### **Read CSV Files into DataFrames**"
   ]
  },
  {
   "cell_type": "code",
   "execution_count": 3,
   "id": "1db110f2",
   "metadata": {},
   "outputs": [],
   "source": [
    "mouseInfoDataFrame \\\n",
    "    = function. \\\n",
    "        ReturnCSVFileAsDataFrame \\\n",
    "            (CONSTANT_MOUSE_INFO_CSV_FILE_PATH)\n",
    "\n",
    "\n",
    "log_function \\\n",
    "    .DebugReturnObjectWriteObject \\\n",
    "        (mouseInfoDataFrame)"
   ]
  },
  {
   "cell_type": "code",
   "execution_count": 4,
   "id": "8b6dea00",
   "metadata": {},
   "outputs": [],
   "source": [
    "medicalStudyDataFrame \\\n",
    "    = function. \\\n",
    "        ReturnCSVFileAsDataFrame \\\n",
    "            (CONSTANT_MEDICAL_STUDY_CSV_FILE_PATH)\n",
    "\n",
    "\n",
    "log_function \\\n",
    "    .DebugReturnObjectWriteObject \\\n",
    "        (medicalStudyDataFrame)"
   ]
  },
  {
   "cell_type": "markdown",
   "id": "73bc6ac5",
   "metadata": {},
   "source": [
    "###  **<span style='color: red;'>Merge DataFrames</span>**"
   ]
  },
  {
   "cell_type": "code",
   "execution_count": 5,
   "id": "9a79daa8",
   "metadata": {},
   "outputs": [],
   "source": [
    "completeMedicalStudyDataFrame \\\n",
    "    = function \\\n",
    "        .ReturnMergedDataFrame \\\n",
    "            (mouseInfoDataFrame,\n",
    "             medicalStudyDataFrame,\n",
    "             'left',\n",
    "             'Mouse ID')\n",
    "\n",
    "\n",
    "log_function \\\n",
    "    .DebugReturnObjectWriteObject \\\n",
    "        (completeMedicalStudyDataFrame)"
   ]
  },
  {
   "cell_type": "markdown",
   "id": "114d8c64",
   "metadata": {},
   "source": [
    "### **Display Merged DataFrame Subset**"
   ]
  },
  {
   "cell_type": "code",
   "execution_count": 6,
   "id": "170229b8",
   "metadata": {},
   "outputs": [
    {
     "data": {
      "text/html": [
       "<style type=\"text/css\">\n",
       "#T_59124 caption {\n",
       "  color: black;\n",
       "  font-size: 20px;\n",
       "  font-style: bold;\n",
       "  text-align: center;\n",
       "}\n",
       "#T_59124_row0_col0, #T_59124_row0_col1, #T_59124_row0_col2, #T_59124_row0_col3, #T_59124_row0_col4, #T_59124_row0_col5, #T_59124_row0_col6, #T_59124_row0_col7, #T_59124_row1_col0, #T_59124_row1_col1, #T_59124_row1_col2, #T_59124_row1_col3, #T_59124_row1_col4, #T_59124_row1_col5, #T_59124_row1_col6, #T_59124_row1_col7, #T_59124_row2_col0, #T_59124_row2_col1, #T_59124_row2_col2, #T_59124_row2_col3, #T_59124_row2_col4, #T_59124_row2_col5, #T_59124_row2_col6, #T_59124_row2_col7, #T_59124_row3_col0, #T_59124_row3_col1, #T_59124_row3_col2, #T_59124_row3_col3, #T_59124_row3_col4, #T_59124_row3_col5, #T_59124_row3_col6, #T_59124_row3_col7, #T_59124_row4_col0, #T_59124_row4_col1, #T_59124_row4_col2, #T_59124_row4_col3, #T_59124_row4_col4, #T_59124_row4_col5, #T_59124_row4_col6, #T_59124_row4_col7, #T_59124_row5_col0, #T_59124_row5_col1, #T_59124_row5_col2, #T_59124_row5_col3, #T_59124_row5_col4, #T_59124_row5_col5, #T_59124_row5_col6, #T_59124_row5_col7, #T_59124_row6_col0, #T_59124_row6_col1, #T_59124_row6_col2, #T_59124_row6_col3, #T_59124_row6_col4, #T_59124_row6_col5, #T_59124_row6_col6, #T_59124_row6_col7, #T_59124_row7_col0, #T_59124_row7_col1, #T_59124_row7_col2, #T_59124_row7_col3, #T_59124_row7_col4, #T_59124_row7_col5, #T_59124_row7_col6, #T_59124_row7_col7, #T_59124_row8_col0, #T_59124_row8_col1, #T_59124_row8_col2, #T_59124_row8_col3, #T_59124_row8_col4, #T_59124_row8_col5, #T_59124_row8_col6, #T_59124_row8_col7, #T_59124_row9_col0, #T_59124_row9_col1, #T_59124_row9_col2, #T_59124_row9_col3, #T_59124_row9_col4, #T_59124_row9_col5, #T_59124_row9_col6, #T_59124_row9_col7, #T_59124_row10_col0, #T_59124_row10_col1, #T_59124_row10_col2, #T_59124_row10_col3, #T_59124_row10_col4, #T_59124_row10_col5, #T_59124_row10_col6, #T_59124_row10_col7, #T_59124_row11_col0, #T_59124_row11_col1, #T_59124_row11_col2, #T_59124_row11_col3, #T_59124_row11_col4, #T_59124_row11_col5, #T_59124_row11_col6, #T_59124_row11_col7 {\n",
       "  text-align: center;\n",
       "  border: 1.3px solid red;\n",
       "  color: blue;\n",
       "}\n",
       "</style>\n",
       "<table id=\"T_59124\">\n",
       "  <caption>Table 1.1: Complete Medical Study Data</caption>\n",
       "  <thead>\n",
       "    <tr>\n",
       "      <th id=\"T_59124_level0_col0\" class=\"col_heading level0 col0\" >Mouse ID</th>\n",
       "      <th id=\"T_59124_level0_col1\" class=\"col_heading level0 col1\" >Drug Regimen</th>\n",
       "      <th id=\"T_59124_level0_col2\" class=\"col_heading level0 col2\" >Sex</th>\n",
       "      <th id=\"T_59124_level0_col3\" class=\"col_heading level0 col3\" >Age_months</th>\n",
       "      <th id=\"T_59124_level0_col4\" class=\"col_heading level0 col4\" >Weight (g)</th>\n",
       "      <th id=\"T_59124_level0_col5\" class=\"col_heading level0 col5\" >Timepoint</th>\n",
       "      <th id=\"T_59124_level0_col6\" class=\"col_heading level0 col6\" >Tumor Volume (mm3)</th>\n",
       "      <th id=\"T_59124_level0_col7\" class=\"col_heading level0 col7\" >Metastatic Sites</th>\n",
       "    </tr>\n",
       "  </thead>\n",
       "  <tbody>\n",
       "    <tr>\n",
       "      <td id=\"T_59124_row0_col0\" class=\"data row0 col0\" >k403</td>\n",
       "      <td id=\"T_59124_row0_col1\" class=\"data row0 col1\" >Ramicane</td>\n",
       "      <td id=\"T_59124_row0_col2\" class=\"data row0 col2\" >Male</td>\n",
       "      <td id=\"T_59124_row0_col3\" class=\"data row0 col3\" >21</td>\n",
       "      <td id=\"T_59124_row0_col4\" class=\"data row0 col4\" >16.00</td>\n",
       "      <td id=\"T_59124_row0_col5\" class=\"data row0 col5\" >0</td>\n",
       "      <td id=\"T_59124_row0_col6\" class=\"data row0 col6\" >45.00</td>\n",
       "      <td id=\"T_59124_row0_col7\" class=\"data row0 col7\" >0</td>\n",
       "    </tr>\n",
       "    <tr>\n",
       "      <td id=\"T_59124_row1_col0\" class=\"data row1 col0\" >k403</td>\n",
       "      <td id=\"T_59124_row1_col1\" class=\"data row1 col1\" >Ramicane</td>\n",
       "      <td id=\"T_59124_row1_col2\" class=\"data row1 col2\" >Male</td>\n",
       "      <td id=\"T_59124_row1_col3\" class=\"data row1 col3\" >21</td>\n",
       "      <td id=\"T_59124_row1_col4\" class=\"data row1 col4\" >16.00</td>\n",
       "      <td id=\"T_59124_row1_col5\" class=\"data row1 col5\" >5</td>\n",
       "      <td id=\"T_59124_row1_col6\" class=\"data row1 col6\" >38.83</td>\n",
       "      <td id=\"T_59124_row1_col7\" class=\"data row1 col7\" >0</td>\n",
       "    </tr>\n",
       "    <tr>\n",
       "      <td id=\"T_59124_row2_col0\" class=\"data row2 col0\" >k403</td>\n",
       "      <td id=\"T_59124_row2_col1\" class=\"data row2 col1\" >Ramicane</td>\n",
       "      <td id=\"T_59124_row2_col2\" class=\"data row2 col2\" >Male</td>\n",
       "      <td id=\"T_59124_row2_col3\" class=\"data row2 col3\" >21</td>\n",
       "      <td id=\"T_59124_row2_col4\" class=\"data row2 col4\" >16.00</td>\n",
       "      <td id=\"T_59124_row2_col5\" class=\"data row2 col5\" >10</td>\n",
       "      <td id=\"T_59124_row2_col6\" class=\"data row2 col6\" >35.01</td>\n",
       "      <td id=\"T_59124_row2_col7\" class=\"data row2 col7\" >1</td>\n",
       "    </tr>\n",
       "    <tr>\n",
       "      <td id=\"T_59124_row3_col0\" class=\"data row3 col0\" >k403</td>\n",
       "      <td id=\"T_59124_row3_col1\" class=\"data row3 col1\" >Ramicane</td>\n",
       "      <td id=\"T_59124_row3_col2\" class=\"data row3 col2\" >Male</td>\n",
       "      <td id=\"T_59124_row3_col3\" class=\"data row3 col3\" >21</td>\n",
       "      <td id=\"T_59124_row3_col4\" class=\"data row3 col4\" >16.00</td>\n",
       "      <td id=\"T_59124_row3_col5\" class=\"data row3 col5\" >15</td>\n",
       "      <td id=\"T_59124_row3_col6\" class=\"data row3 col6\" >34.22</td>\n",
       "      <td id=\"T_59124_row3_col7\" class=\"data row3 col7\" >1</td>\n",
       "    </tr>\n",
       "    <tr>\n",
       "      <td id=\"T_59124_row4_col0\" class=\"data row4 col0\" >k403</td>\n",
       "      <td id=\"T_59124_row4_col1\" class=\"data row4 col1\" >Ramicane</td>\n",
       "      <td id=\"T_59124_row4_col2\" class=\"data row4 col2\" >Male</td>\n",
       "      <td id=\"T_59124_row4_col3\" class=\"data row4 col3\" >21</td>\n",
       "      <td id=\"T_59124_row4_col4\" class=\"data row4 col4\" >16.00</td>\n",
       "      <td id=\"T_59124_row4_col5\" class=\"data row4 col5\" >20</td>\n",
       "      <td id=\"T_59124_row4_col6\" class=\"data row4 col6\" >33.00</td>\n",
       "      <td id=\"T_59124_row4_col7\" class=\"data row4 col7\" >1</td>\n",
       "    </tr>\n",
       "    <tr>\n",
       "      <td id=\"T_59124_row5_col0\" class=\"data row5 col0\" >k403</td>\n",
       "      <td id=\"T_59124_row5_col1\" class=\"data row5 col1\" >Ramicane</td>\n",
       "      <td id=\"T_59124_row5_col2\" class=\"data row5 col2\" >Male</td>\n",
       "      <td id=\"T_59124_row5_col3\" class=\"data row5 col3\" >21</td>\n",
       "      <td id=\"T_59124_row5_col4\" class=\"data row5 col4\" >16.00</td>\n",
       "      <td id=\"T_59124_row5_col5\" class=\"data row5 col5\" >25</td>\n",
       "      <td id=\"T_59124_row5_col6\" class=\"data row5 col6\" >33.46</td>\n",
       "      <td id=\"T_59124_row5_col7\" class=\"data row5 col7\" >1</td>\n",
       "    </tr>\n",
       "    <tr>\n",
       "      <td id=\"T_59124_row6_col0\" class=\"data row6 col0\" >k403</td>\n",
       "      <td id=\"T_59124_row6_col1\" class=\"data row6 col1\" >Ramicane</td>\n",
       "      <td id=\"T_59124_row6_col2\" class=\"data row6 col2\" >Male</td>\n",
       "      <td id=\"T_59124_row6_col3\" class=\"data row6 col3\" >21</td>\n",
       "      <td id=\"T_59124_row6_col4\" class=\"data row6 col4\" >16.00</td>\n",
       "      <td id=\"T_59124_row6_col5\" class=\"data row6 col5\" >30</td>\n",
       "      <td id=\"T_59124_row6_col6\" class=\"data row6 col6\" >31.10</td>\n",
       "      <td id=\"T_59124_row6_col7\" class=\"data row6 col7\" >1</td>\n",
       "    </tr>\n",
       "    <tr>\n",
       "      <td id=\"T_59124_row7_col0\" class=\"data row7 col0\" >k403</td>\n",
       "      <td id=\"T_59124_row7_col1\" class=\"data row7 col1\" >Ramicane</td>\n",
       "      <td id=\"T_59124_row7_col2\" class=\"data row7 col2\" >Male</td>\n",
       "      <td id=\"T_59124_row7_col3\" class=\"data row7 col3\" >21</td>\n",
       "      <td id=\"T_59124_row7_col4\" class=\"data row7 col4\" >16.00</td>\n",
       "      <td id=\"T_59124_row7_col5\" class=\"data row7 col5\" >35</td>\n",
       "      <td id=\"T_59124_row7_col6\" class=\"data row7 col6\" >26.55</td>\n",
       "      <td id=\"T_59124_row7_col7\" class=\"data row7 col7\" >1</td>\n",
       "    </tr>\n",
       "    <tr>\n",
       "      <td id=\"T_59124_row8_col0\" class=\"data row8 col0\" >k403</td>\n",
       "      <td id=\"T_59124_row8_col1\" class=\"data row8 col1\" >Ramicane</td>\n",
       "      <td id=\"T_59124_row8_col2\" class=\"data row8 col2\" >Male</td>\n",
       "      <td id=\"T_59124_row8_col3\" class=\"data row8 col3\" >21</td>\n",
       "      <td id=\"T_59124_row8_col4\" class=\"data row8 col4\" >16.00</td>\n",
       "      <td id=\"T_59124_row8_col5\" class=\"data row8 col5\" >40</td>\n",
       "      <td id=\"T_59124_row8_col6\" class=\"data row8 col6\" >24.37</td>\n",
       "      <td id=\"T_59124_row8_col7\" class=\"data row8 col7\" >1</td>\n",
       "    </tr>\n",
       "    <tr>\n",
       "      <td id=\"T_59124_row9_col0\" class=\"data row9 col0\" >k403</td>\n",
       "      <td id=\"T_59124_row9_col1\" class=\"data row9 col1\" >Ramicane</td>\n",
       "      <td id=\"T_59124_row9_col2\" class=\"data row9 col2\" >Male</td>\n",
       "      <td id=\"T_59124_row9_col3\" class=\"data row9 col3\" >21</td>\n",
       "      <td id=\"T_59124_row9_col4\" class=\"data row9 col4\" >16.00</td>\n",
       "      <td id=\"T_59124_row9_col5\" class=\"data row9 col5\" >45</td>\n",
       "      <td id=\"T_59124_row9_col6\" class=\"data row9 col6\" >22.05</td>\n",
       "      <td id=\"T_59124_row9_col7\" class=\"data row9 col7\" >1</td>\n",
       "    </tr>\n",
       "    <tr>\n",
       "      <td id=\"T_59124_row10_col0\" class=\"data row10 col0\" >s185</td>\n",
       "      <td id=\"T_59124_row10_col1\" class=\"data row10 col1\" >Capomulin</td>\n",
       "      <td id=\"T_59124_row10_col2\" class=\"data row10 col2\" >Female</td>\n",
       "      <td id=\"T_59124_row10_col3\" class=\"data row10 col3\" >3</td>\n",
       "      <td id=\"T_59124_row10_col4\" class=\"data row10 col4\" >17.00</td>\n",
       "      <td id=\"T_59124_row10_col5\" class=\"data row10 col5\" >0</td>\n",
       "      <td id=\"T_59124_row10_col6\" class=\"data row10 col6\" >45.00</td>\n",
       "      <td id=\"T_59124_row10_col7\" class=\"data row10 col7\" >0</td>\n",
       "    </tr>\n",
       "    <tr>\n",
       "      <td id=\"T_59124_row11_col0\" class=\"data row11 col0\" >s185</td>\n",
       "      <td id=\"T_59124_row11_col1\" class=\"data row11 col1\" >Capomulin</td>\n",
       "      <td id=\"T_59124_row11_col2\" class=\"data row11 col2\" >Female</td>\n",
       "      <td id=\"T_59124_row11_col3\" class=\"data row11 col3\" >3</td>\n",
       "      <td id=\"T_59124_row11_col4\" class=\"data row11 col4\" >17.00</td>\n",
       "      <td id=\"T_59124_row11_col5\" class=\"data row11 col5\" >5</td>\n",
       "      <td id=\"T_59124_row11_col6\" class=\"data row11 col6\" >43.88</td>\n",
       "      <td id=\"T_59124_row11_col7\" class=\"data row11 col7\" >0</td>\n",
       "    </tr>\n",
       "  </tbody>\n",
       "</table>\n"
      ],
      "text/plain": [
       "<pandas.io.formats.style.Styler at 0x14c5eff50>"
      ]
     },
     "execution_count": 6,
     "metadata": {},
     "output_type": "execute_result"
    }
   ],
   "source": [
    "local_function \\\n",
    "    .ReturnFormattedCompleteMedicalStudyStylerObject \\\n",
    "        (function \\\n",
    "             .ReturnStylerObjectStandardFormat \\\n",
    "                (completeMedicalStudyDataFrame.head(12), ''),\n",
    "         'Table 1.1: Complete Medical Study Data')"
   ]
  },
  {
   "cell_type": "markdown",
   "id": "bce2525d",
   "metadata": {},
   "source": [
    "### **<span style='color: red;'>Display the Number of Unique Mouse IDs in the Data</span>**"
   ]
  },
  {
   "cell_type": "code",
   "execution_count": 7,
   "id": "33895d60",
   "metadata": {},
   "outputs": [
    {
     "name": "stdout",
     "output_type": "stream",
     "text": [
      "The number of unique mouse IDs in the complete medical study DataFrame is 249.\n"
     ]
    }
   ],
   "source": [
    "numberOfUniqueMouseIDsIntegerVariable \\\n",
    "    = function \\\n",
    "        .ReturnNumberOfUniqueElementsInColumn \\\n",
    "            (completeMedicalStudyDataFrame, \n",
    "             'Mouse ID')\n",
    "\n",
    "log_subroutine \\\n",
    "    .PrintAndLogWriteText \\\n",
    "        (f'The number of unique mouse IDs in the complete medical study DataFrame is ' \\\n",
    "         + f\"{numberOfUniqueMouseIDsIntegerVariable}.\")"
   ]
  },
  {
   "cell_type": "markdown",
   "id": "40633082",
   "metadata": {},
   "source": [
    "### **<span style='color: red;'>Check for Any Mouse ID with Duplicate Time Points</span>**"
   ]
  },
  {
   "cell_type": "code",
   "execution_count": 8,
   "id": "cabc751e",
   "metadata": {},
   "outputs": [],
   "source": [
    "duplicateMouseIDDataFrame \\\n",
    "    = function \\\n",
    "        .ReturnDuplicateRowsAsDataFrame \\\n",
    "            (completeMedicalStudyDataFrame,\n",
    "             ['Mouse ID', \n",
    "              'Timepoint'])\n",
    "\n",
    "\n",
    "log_function \\\n",
    "    .DebugReturnObjectWriteObject \\\n",
    "        (duplicateMouseIDDataFrame)"
   ]
  },
  {
   "cell_type": "markdown",
   "id": "0469bc0d",
   "metadata": {},
   "source": [
    "### **Display the Data Associated With Duplicate Mouse IDs**"
   ]
  },
  {
   "cell_type": "code",
   "execution_count": 9,
   "id": "d647a60e",
   "metadata": {},
   "outputs": [
    {
     "data": {
      "text/html": [
       "<style type=\"text/css\">\n",
       "#T_b9017 caption {\n",
       "  color: black;\n",
       "  font-size: 20px;\n",
       "  font-style: bold;\n",
       "  text-align: center;\n",
       "}\n",
       "#T_b9017_row0_col0, #T_b9017_row0_col1, #T_b9017_row0_col2, #T_b9017_row0_col3, #T_b9017_row0_col4, #T_b9017_row0_col5, #T_b9017_row0_col6, #T_b9017_row0_col7, #T_b9017_row1_col0, #T_b9017_row1_col1, #T_b9017_row1_col2, #T_b9017_row1_col3, #T_b9017_row1_col4, #T_b9017_row1_col5, #T_b9017_row1_col6, #T_b9017_row1_col7, #T_b9017_row2_col0, #T_b9017_row2_col1, #T_b9017_row2_col2, #T_b9017_row2_col3, #T_b9017_row2_col4, #T_b9017_row2_col5, #T_b9017_row2_col6, #T_b9017_row2_col7, #T_b9017_row3_col0, #T_b9017_row3_col1, #T_b9017_row3_col2, #T_b9017_row3_col3, #T_b9017_row3_col4, #T_b9017_row3_col5, #T_b9017_row3_col6, #T_b9017_row3_col7, #T_b9017_row4_col0, #T_b9017_row4_col1, #T_b9017_row4_col2, #T_b9017_row4_col3, #T_b9017_row4_col4, #T_b9017_row4_col5, #T_b9017_row4_col6, #T_b9017_row4_col7 {\n",
       "  text-align: center;\n",
       "  border: 1.3px solid red;\n",
       "  color: blue;\n",
       "}\n",
       "</style>\n",
       "<table id=\"T_b9017\">\n",
       "  <caption>Table 1.2: Duplicate Mouse IDs and Timepoints in Complete Medical Study</caption>\n",
       "  <thead>\n",
       "    <tr>\n",
       "      <th id=\"T_b9017_level0_col0\" class=\"col_heading level0 col0\" >Mouse ID</th>\n",
       "      <th id=\"T_b9017_level0_col1\" class=\"col_heading level0 col1\" >Drug Regimen</th>\n",
       "      <th id=\"T_b9017_level0_col2\" class=\"col_heading level0 col2\" >Sex</th>\n",
       "      <th id=\"T_b9017_level0_col3\" class=\"col_heading level0 col3\" >Age_months</th>\n",
       "      <th id=\"T_b9017_level0_col4\" class=\"col_heading level0 col4\" >Weight (g)</th>\n",
       "      <th id=\"T_b9017_level0_col5\" class=\"col_heading level0 col5\" >Timepoint</th>\n",
       "      <th id=\"T_b9017_level0_col6\" class=\"col_heading level0 col6\" >Tumor Volume (mm3)</th>\n",
       "      <th id=\"T_b9017_level0_col7\" class=\"col_heading level0 col7\" >Metastatic Sites</th>\n",
       "    </tr>\n",
       "  </thead>\n",
       "  <tbody>\n",
       "    <tr>\n",
       "      <td id=\"T_b9017_row0_col0\" class=\"data row0 col0\" >g989</td>\n",
       "      <td id=\"T_b9017_row0_col1\" class=\"data row0 col1\" >Propriva</td>\n",
       "      <td id=\"T_b9017_row0_col2\" class=\"data row0 col2\" >Female</td>\n",
       "      <td id=\"T_b9017_row0_col3\" class=\"data row0 col3\" >21</td>\n",
       "      <td id=\"T_b9017_row0_col4\" class=\"data row0 col4\" >26.00</td>\n",
       "      <td id=\"T_b9017_row0_col5\" class=\"data row0 col5\" >0</td>\n",
       "      <td id=\"T_b9017_row0_col6\" class=\"data row0 col6\" >45.00</td>\n",
       "      <td id=\"T_b9017_row0_col7\" class=\"data row0 col7\" >0</td>\n",
       "    </tr>\n",
       "    <tr>\n",
       "      <td id=\"T_b9017_row1_col0\" class=\"data row1 col0\" >g989</td>\n",
       "      <td id=\"T_b9017_row1_col1\" class=\"data row1 col1\" >Propriva</td>\n",
       "      <td id=\"T_b9017_row1_col2\" class=\"data row1 col2\" >Female</td>\n",
       "      <td id=\"T_b9017_row1_col3\" class=\"data row1 col3\" >21</td>\n",
       "      <td id=\"T_b9017_row1_col4\" class=\"data row1 col4\" >26.00</td>\n",
       "      <td id=\"T_b9017_row1_col5\" class=\"data row1 col5\" >5</td>\n",
       "      <td id=\"T_b9017_row1_col6\" class=\"data row1 col6\" >47.57</td>\n",
       "      <td id=\"T_b9017_row1_col7\" class=\"data row1 col7\" >0</td>\n",
       "    </tr>\n",
       "    <tr>\n",
       "      <td id=\"T_b9017_row2_col0\" class=\"data row2 col0\" >g989</td>\n",
       "      <td id=\"T_b9017_row2_col1\" class=\"data row2 col1\" >Propriva</td>\n",
       "      <td id=\"T_b9017_row2_col2\" class=\"data row2 col2\" >Female</td>\n",
       "      <td id=\"T_b9017_row2_col3\" class=\"data row2 col3\" >21</td>\n",
       "      <td id=\"T_b9017_row2_col4\" class=\"data row2 col4\" >26.00</td>\n",
       "      <td id=\"T_b9017_row2_col5\" class=\"data row2 col5\" >10</td>\n",
       "      <td id=\"T_b9017_row2_col6\" class=\"data row2 col6\" >49.88</td>\n",
       "      <td id=\"T_b9017_row2_col7\" class=\"data row2 col7\" >0</td>\n",
       "    </tr>\n",
       "    <tr>\n",
       "      <td id=\"T_b9017_row3_col0\" class=\"data row3 col0\" >g989</td>\n",
       "      <td id=\"T_b9017_row3_col1\" class=\"data row3 col1\" >Propriva</td>\n",
       "      <td id=\"T_b9017_row3_col2\" class=\"data row3 col2\" >Female</td>\n",
       "      <td id=\"T_b9017_row3_col3\" class=\"data row3 col3\" >21</td>\n",
       "      <td id=\"T_b9017_row3_col4\" class=\"data row3 col4\" >26.00</td>\n",
       "      <td id=\"T_b9017_row3_col5\" class=\"data row3 col5\" >15</td>\n",
       "      <td id=\"T_b9017_row3_col6\" class=\"data row3 col6\" >53.44</td>\n",
       "      <td id=\"T_b9017_row3_col7\" class=\"data row3 col7\" >0</td>\n",
       "    </tr>\n",
       "    <tr>\n",
       "      <td id=\"T_b9017_row4_col0\" class=\"data row4 col0\" >g989</td>\n",
       "      <td id=\"T_b9017_row4_col1\" class=\"data row4 col1\" >Propriva</td>\n",
       "      <td id=\"T_b9017_row4_col2\" class=\"data row4 col2\" >Female</td>\n",
       "      <td id=\"T_b9017_row4_col3\" class=\"data row4 col3\" >21</td>\n",
       "      <td id=\"T_b9017_row4_col4\" class=\"data row4 col4\" >26.00</td>\n",
       "      <td id=\"T_b9017_row4_col5\" class=\"data row4 col5\" >20</td>\n",
       "      <td id=\"T_b9017_row4_col6\" class=\"data row4 col6\" >54.66</td>\n",
       "      <td id=\"T_b9017_row4_col7\" class=\"data row4 col7\" >1</td>\n",
       "    </tr>\n",
       "  </tbody>\n",
       "</table>\n"
      ],
      "text/plain": [
       "<pandas.io.formats.style.Styler at 0x14cccbb50>"
      ]
     },
     "execution_count": 9,
     "metadata": {},
     "output_type": "execute_result"
    }
   ],
   "source": [
    "local_function \\\n",
    "    .ReturnFormattedCompleteMedicalStudyStylerObject \\\n",
    "        (function \\\n",
    "             .ReturnStylerObjectStandardFormat \\\n",
    "                (duplicateMouseIDDataFrame, ''),\n",
    "         'Table 1.2: Duplicate Mouse IDs and Timepoints in Complete Medical Study')"
   ]
  },
  {
   "cell_type": "code",
   "execution_count": 10,
   "id": "5b689e78",
   "metadata": {},
   "outputs": [],
   "source": [
    "duplicateMouseIDsList \\\n",
    "    = duplicateMouseIDDataFrame \\\n",
    "        ['Mouse ID'] \\\n",
    "            .unique() \\\n",
    "                .tolist()\n",
    "\n",
    "\n",
    "log_function \\\n",
    "    .DebugReturnObjectWriteObject \\\n",
    "        (duplicateMouseIDsList)"
   ]
  },
  {
   "cell_type": "code",
   "execution_count": 11,
   "id": "eab58928",
   "metadata": {},
   "outputs": [
    {
     "data": {
      "text/html": [
       "<style type=\"text/css\">\n",
       "#T_2a438 caption {\n",
       "  color: black;\n",
       "  font-size: 20px;\n",
       "  font-style: bold;\n",
       "  text-align: center;\n",
       "}\n",
       "#T_2a438_row0_col0, #T_2a438_row0_col1, #T_2a438_row0_col2, #T_2a438_row0_col3, #T_2a438_row0_col4, #T_2a438_row0_col5, #T_2a438_row0_col6, #T_2a438_row0_col7, #T_2a438_row1_col0, #T_2a438_row1_col1, #T_2a438_row1_col2, #T_2a438_row1_col3, #T_2a438_row1_col4, #T_2a438_row1_col5, #T_2a438_row1_col6, #T_2a438_row1_col7, #T_2a438_row2_col0, #T_2a438_row2_col1, #T_2a438_row2_col2, #T_2a438_row2_col3, #T_2a438_row2_col4, #T_2a438_row2_col5, #T_2a438_row2_col6, #T_2a438_row2_col7, #T_2a438_row3_col0, #T_2a438_row3_col1, #T_2a438_row3_col2, #T_2a438_row3_col3, #T_2a438_row3_col4, #T_2a438_row3_col5, #T_2a438_row3_col6, #T_2a438_row3_col7, #T_2a438_row4_col0, #T_2a438_row4_col1, #T_2a438_row4_col2, #T_2a438_row4_col3, #T_2a438_row4_col4, #T_2a438_row4_col5, #T_2a438_row4_col6, #T_2a438_row4_col7, #T_2a438_row5_col0, #T_2a438_row5_col1, #T_2a438_row5_col2, #T_2a438_row5_col3, #T_2a438_row5_col4, #T_2a438_row5_col5, #T_2a438_row5_col6, #T_2a438_row5_col7, #T_2a438_row6_col0, #T_2a438_row6_col1, #T_2a438_row6_col2, #T_2a438_row6_col3, #T_2a438_row6_col4, #T_2a438_row6_col5, #T_2a438_row6_col6, #T_2a438_row6_col7, #T_2a438_row7_col0, #T_2a438_row7_col1, #T_2a438_row7_col2, #T_2a438_row7_col3, #T_2a438_row7_col4, #T_2a438_row7_col5, #T_2a438_row7_col6, #T_2a438_row7_col7, #T_2a438_row8_col0, #T_2a438_row8_col1, #T_2a438_row8_col2, #T_2a438_row8_col3, #T_2a438_row8_col4, #T_2a438_row8_col5, #T_2a438_row8_col6, #T_2a438_row8_col7, #T_2a438_row9_col0, #T_2a438_row9_col1, #T_2a438_row9_col2, #T_2a438_row9_col3, #T_2a438_row9_col4, #T_2a438_row9_col5, #T_2a438_row9_col6, #T_2a438_row9_col7, #T_2a438_row10_col0, #T_2a438_row10_col1, #T_2a438_row10_col2, #T_2a438_row10_col3, #T_2a438_row10_col4, #T_2a438_row10_col5, #T_2a438_row10_col6, #T_2a438_row10_col7, #T_2a438_row11_col0, #T_2a438_row11_col1, #T_2a438_row11_col2, #T_2a438_row11_col3, #T_2a438_row11_col4, #T_2a438_row11_col5, #T_2a438_row11_col6, #T_2a438_row11_col7, #T_2a438_row12_col0, #T_2a438_row12_col1, #T_2a438_row12_col2, #T_2a438_row12_col3, #T_2a438_row12_col4, #T_2a438_row12_col5, #T_2a438_row12_col6, #T_2a438_row12_col7 {\n",
       "  text-align: center;\n",
       "  border: 1.3px solid red;\n",
       "  color: blue;\n",
       "}\n",
       "</style>\n",
       "<table id=\"T_2a438\">\n",
       "  <caption>Table 1.3: Rows with Duplicate Mouse IDs in Complete Medical Study</caption>\n",
       "  <thead>\n",
       "    <tr>\n",
       "      <th id=\"T_2a438_level0_col0\" class=\"col_heading level0 col0\" >Mouse ID</th>\n",
       "      <th id=\"T_2a438_level0_col1\" class=\"col_heading level0 col1\" >Drug Regimen</th>\n",
       "      <th id=\"T_2a438_level0_col2\" class=\"col_heading level0 col2\" >Sex</th>\n",
       "      <th id=\"T_2a438_level0_col3\" class=\"col_heading level0 col3\" >Age_months</th>\n",
       "      <th id=\"T_2a438_level0_col4\" class=\"col_heading level0 col4\" >Weight (g)</th>\n",
       "      <th id=\"T_2a438_level0_col5\" class=\"col_heading level0 col5\" >Timepoint</th>\n",
       "      <th id=\"T_2a438_level0_col6\" class=\"col_heading level0 col6\" >Tumor Volume (mm3)</th>\n",
       "      <th id=\"T_2a438_level0_col7\" class=\"col_heading level0 col7\" >Metastatic Sites</th>\n",
       "    </tr>\n",
       "  </thead>\n",
       "  <tbody>\n",
       "    <tr>\n",
       "      <td id=\"T_2a438_row0_col0\" class=\"data row0 col0\" >g989</td>\n",
       "      <td id=\"T_2a438_row0_col1\" class=\"data row0 col1\" >Propriva</td>\n",
       "      <td id=\"T_2a438_row0_col2\" class=\"data row0 col2\" >Female</td>\n",
       "      <td id=\"T_2a438_row0_col3\" class=\"data row0 col3\" >21</td>\n",
       "      <td id=\"T_2a438_row0_col4\" class=\"data row0 col4\" >26.00</td>\n",
       "      <td id=\"T_2a438_row0_col5\" class=\"data row0 col5\" >0</td>\n",
       "      <td id=\"T_2a438_row0_col6\" class=\"data row0 col6\" >45.00</td>\n",
       "      <td id=\"T_2a438_row0_col7\" class=\"data row0 col7\" >0</td>\n",
       "    </tr>\n",
       "    <tr>\n",
       "      <td id=\"T_2a438_row1_col0\" class=\"data row1 col0\" >g989</td>\n",
       "      <td id=\"T_2a438_row1_col1\" class=\"data row1 col1\" >Propriva</td>\n",
       "      <td id=\"T_2a438_row1_col2\" class=\"data row1 col2\" >Female</td>\n",
       "      <td id=\"T_2a438_row1_col3\" class=\"data row1 col3\" >21</td>\n",
       "      <td id=\"T_2a438_row1_col4\" class=\"data row1 col4\" >26.00</td>\n",
       "      <td id=\"T_2a438_row1_col5\" class=\"data row1 col5\" >0</td>\n",
       "      <td id=\"T_2a438_row1_col6\" class=\"data row1 col6\" >45.00</td>\n",
       "      <td id=\"T_2a438_row1_col7\" class=\"data row1 col7\" >0</td>\n",
       "    </tr>\n",
       "    <tr>\n",
       "      <td id=\"T_2a438_row2_col0\" class=\"data row2 col0\" >g989</td>\n",
       "      <td id=\"T_2a438_row2_col1\" class=\"data row2 col1\" >Propriva</td>\n",
       "      <td id=\"T_2a438_row2_col2\" class=\"data row2 col2\" >Female</td>\n",
       "      <td id=\"T_2a438_row2_col3\" class=\"data row2 col3\" >21</td>\n",
       "      <td id=\"T_2a438_row2_col4\" class=\"data row2 col4\" >26.00</td>\n",
       "      <td id=\"T_2a438_row2_col5\" class=\"data row2 col5\" >5</td>\n",
       "      <td id=\"T_2a438_row2_col6\" class=\"data row2 col6\" >48.79</td>\n",
       "      <td id=\"T_2a438_row2_col7\" class=\"data row2 col7\" >0</td>\n",
       "    </tr>\n",
       "    <tr>\n",
       "      <td id=\"T_2a438_row3_col0\" class=\"data row3 col0\" >g989</td>\n",
       "      <td id=\"T_2a438_row3_col1\" class=\"data row3 col1\" >Propriva</td>\n",
       "      <td id=\"T_2a438_row3_col2\" class=\"data row3 col2\" >Female</td>\n",
       "      <td id=\"T_2a438_row3_col3\" class=\"data row3 col3\" >21</td>\n",
       "      <td id=\"T_2a438_row3_col4\" class=\"data row3 col4\" >26.00</td>\n",
       "      <td id=\"T_2a438_row3_col5\" class=\"data row3 col5\" >5</td>\n",
       "      <td id=\"T_2a438_row3_col6\" class=\"data row3 col6\" >47.57</td>\n",
       "      <td id=\"T_2a438_row3_col7\" class=\"data row3 col7\" >0</td>\n",
       "    </tr>\n",
       "    <tr>\n",
       "      <td id=\"T_2a438_row4_col0\" class=\"data row4 col0\" >g989</td>\n",
       "      <td id=\"T_2a438_row4_col1\" class=\"data row4 col1\" >Propriva</td>\n",
       "      <td id=\"T_2a438_row4_col2\" class=\"data row4 col2\" >Female</td>\n",
       "      <td id=\"T_2a438_row4_col3\" class=\"data row4 col3\" >21</td>\n",
       "      <td id=\"T_2a438_row4_col4\" class=\"data row4 col4\" >26.00</td>\n",
       "      <td id=\"T_2a438_row4_col5\" class=\"data row4 col5\" >10</td>\n",
       "      <td id=\"T_2a438_row4_col6\" class=\"data row4 col6\" >51.75</td>\n",
       "      <td id=\"T_2a438_row4_col7\" class=\"data row4 col7\" >0</td>\n",
       "    </tr>\n",
       "    <tr>\n",
       "      <td id=\"T_2a438_row5_col0\" class=\"data row5 col0\" >g989</td>\n",
       "      <td id=\"T_2a438_row5_col1\" class=\"data row5 col1\" >Propriva</td>\n",
       "      <td id=\"T_2a438_row5_col2\" class=\"data row5 col2\" >Female</td>\n",
       "      <td id=\"T_2a438_row5_col3\" class=\"data row5 col3\" >21</td>\n",
       "      <td id=\"T_2a438_row5_col4\" class=\"data row5 col4\" >26.00</td>\n",
       "      <td id=\"T_2a438_row5_col5\" class=\"data row5 col5\" >10</td>\n",
       "      <td id=\"T_2a438_row5_col6\" class=\"data row5 col6\" >49.88</td>\n",
       "      <td id=\"T_2a438_row5_col7\" class=\"data row5 col7\" >0</td>\n",
       "    </tr>\n",
       "    <tr>\n",
       "      <td id=\"T_2a438_row6_col0\" class=\"data row6 col0\" >g989</td>\n",
       "      <td id=\"T_2a438_row6_col1\" class=\"data row6 col1\" >Propriva</td>\n",
       "      <td id=\"T_2a438_row6_col2\" class=\"data row6 col2\" >Female</td>\n",
       "      <td id=\"T_2a438_row6_col3\" class=\"data row6 col3\" >21</td>\n",
       "      <td id=\"T_2a438_row6_col4\" class=\"data row6 col4\" >26.00</td>\n",
       "      <td id=\"T_2a438_row6_col5\" class=\"data row6 col5\" >15</td>\n",
       "      <td id=\"T_2a438_row6_col6\" class=\"data row6 col6\" >51.33</td>\n",
       "      <td id=\"T_2a438_row6_col7\" class=\"data row6 col7\" >1</td>\n",
       "    </tr>\n",
       "    <tr>\n",
       "      <td id=\"T_2a438_row7_col0\" class=\"data row7 col0\" >g989</td>\n",
       "      <td id=\"T_2a438_row7_col1\" class=\"data row7 col1\" >Propriva</td>\n",
       "      <td id=\"T_2a438_row7_col2\" class=\"data row7 col2\" >Female</td>\n",
       "      <td id=\"T_2a438_row7_col3\" class=\"data row7 col3\" >21</td>\n",
       "      <td id=\"T_2a438_row7_col4\" class=\"data row7 col4\" >26.00</td>\n",
       "      <td id=\"T_2a438_row7_col5\" class=\"data row7 col5\" >15</td>\n",
       "      <td id=\"T_2a438_row7_col6\" class=\"data row7 col6\" >53.44</td>\n",
       "      <td id=\"T_2a438_row7_col7\" class=\"data row7 col7\" >0</td>\n",
       "    </tr>\n",
       "    <tr>\n",
       "      <td id=\"T_2a438_row8_col0\" class=\"data row8 col0\" >g989</td>\n",
       "      <td id=\"T_2a438_row8_col1\" class=\"data row8 col1\" >Propriva</td>\n",
       "      <td id=\"T_2a438_row8_col2\" class=\"data row8 col2\" >Female</td>\n",
       "      <td id=\"T_2a438_row8_col3\" class=\"data row8 col3\" >21</td>\n",
       "      <td id=\"T_2a438_row8_col4\" class=\"data row8 col4\" >26.00</td>\n",
       "      <td id=\"T_2a438_row8_col5\" class=\"data row8 col5\" >20</td>\n",
       "      <td id=\"T_2a438_row8_col6\" class=\"data row8 col6\" >55.33</td>\n",
       "      <td id=\"T_2a438_row8_col7\" class=\"data row8 col7\" >1</td>\n",
       "    </tr>\n",
       "    <tr>\n",
       "      <td id=\"T_2a438_row9_col0\" class=\"data row9 col0\" >g989</td>\n",
       "      <td id=\"T_2a438_row9_col1\" class=\"data row9 col1\" >Propriva</td>\n",
       "      <td id=\"T_2a438_row9_col2\" class=\"data row9 col2\" >Female</td>\n",
       "      <td id=\"T_2a438_row9_col3\" class=\"data row9 col3\" >21</td>\n",
       "      <td id=\"T_2a438_row9_col4\" class=\"data row9 col4\" >26.00</td>\n",
       "      <td id=\"T_2a438_row9_col5\" class=\"data row9 col5\" >20</td>\n",
       "      <td id=\"T_2a438_row9_col6\" class=\"data row9 col6\" >54.66</td>\n",
       "      <td id=\"T_2a438_row9_col7\" class=\"data row9 col7\" >1</td>\n",
       "    </tr>\n",
       "    <tr>\n",
       "      <td id=\"T_2a438_row10_col0\" class=\"data row10 col0\" >g989</td>\n",
       "      <td id=\"T_2a438_row10_col1\" class=\"data row10 col1\" >Propriva</td>\n",
       "      <td id=\"T_2a438_row10_col2\" class=\"data row10 col2\" >Female</td>\n",
       "      <td id=\"T_2a438_row10_col3\" class=\"data row10 col3\" >21</td>\n",
       "      <td id=\"T_2a438_row10_col4\" class=\"data row10 col4\" >26.00</td>\n",
       "      <td id=\"T_2a438_row10_col5\" class=\"data row10 col5\" >25</td>\n",
       "      <td id=\"T_2a438_row10_col6\" class=\"data row10 col6\" >56.05</td>\n",
       "      <td id=\"T_2a438_row10_col7\" class=\"data row10 col7\" >1</td>\n",
       "    </tr>\n",
       "    <tr>\n",
       "      <td id=\"T_2a438_row11_col0\" class=\"data row11 col0\" >g989</td>\n",
       "      <td id=\"T_2a438_row11_col1\" class=\"data row11 col1\" >Propriva</td>\n",
       "      <td id=\"T_2a438_row11_col2\" class=\"data row11 col2\" >Female</td>\n",
       "      <td id=\"T_2a438_row11_col3\" class=\"data row11 col3\" >21</td>\n",
       "      <td id=\"T_2a438_row11_col4\" class=\"data row11 col4\" >26.00</td>\n",
       "      <td id=\"T_2a438_row11_col5\" class=\"data row11 col5\" >30</td>\n",
       "      <td id=\"T_2a438_row11_col6\" class=\"data row11 col6\" >59.08</td>\n",
       "      <td id=\"T_2a438_row11_col7\" class=\"data row11 col7\" >1</td>\n",
       "    </tr>\n",
       "    <tr>\n",
       "      <td id=\"T_2a438_row12_col0\" class=\"data row12 col0\" >g989</td>\n",
       "      <td id=\"T_2a438_row12_col1\" class=\"data row12 col1\" >Propriva</td>\n",
       "      <td id=\"T_2a438_row12_col2\" class=\"data row12 col2\" >Female</td>\n",
       "      <td id=\"T_2a438_row12_col3\" class=\"data row12 col3\" >21</td>\n",
       "      <td id=\"T_2a438_row12_col4\" class=\"data row12 col4\" >26.00</td>\n",
       "      <td id=\"T_2a438_row12_col5\" class=\"data row12 col5\" >35</td>\n",
       "      <td id=\"T_2a438_row12_col6\" class=\"data row12 col6\" >62.57</td>\n",
       "      <td id=\"T_2a438_row12_col7\" class=\"data row12 col7\" >2</td>\n",
       "    </tr>\n",
       "  </tbody>\n",
       "</table>\n"
      ],
      "text/plain": [
       "<pandas.io.formats.style.Styler at 0x14cccbf50>"
      ]
     },
     "execution_count": 11,
     "metadata": {},
     "output_type": "execute_result"
    }
   ],
   "source": [
    "local_function \\\n",
    "    .ReturnFormattedCompleteMedicalStudyStylerObject \\\n",
    "        (function \\\n",
    "             .ReturnStylerObjectStandardFormat \\\n",
    "                (function \\\n",
    "                     .ReturnDataFrameRowsWithValue \\\n",
    "                         (completeMedicalStudyDataFrame, \n",
    "                          'Mouse ID', \n",
    "                          duplicateMouseIDsList), ''),\n",
    "                 'Table 1.3: Rows with Duplicate Mouse IDs in Complete Medical Study')"
   ]
  },
  {
   "cell_type": "markdown",
   "id": "b3d661f1",
   "metadata": {},
   "source": [
    "### **<span style='color: red;'>Create New Complete Medical Study DataFrame Without Duplicate Mouse IDs</span>**"
   ]
  },
  {
   "cell_type": "code",
   "execution_count": 12,
   "id": "48f432f0",
   "metadata": {},
   "outputs": [],
   "source": [
    "cleanCompleteMedicalStudyDataFrame \\\n",
    "    = function \\\n",
    "        .ReturnDataFrameRowsWithoutValue \\\n",
    "            (completeMedicalStudyDataFrame, \n",
    "                'Mouse ID', \n",
    "                duplicateMouseIDsList)\n",
    "\n",
    "\n",
    "log_function \\\n",
    "    .DebugReturnObjectWriteObject \\\n",
    "        (cleanCompleteMedicalStudyDataFrame)"
   ]
  },
  {
   "cell_type": "markdown",
   "id": "f5311e92",
   "metadata": {},
   "source": [
    "### **<span style='color: red;'>Display the Updated Number of Unique Mouse IDs</span>**"
   ]
  },
  {
   "cell_type": "code",
   "execution_count": 13,
   "id": "342dd8fc",
   "metadata": {},
   "outputs": [
    {
     "name": "stdout",
     "output_type": "stream",
     "text": [
      "The updated number of unique mouse IDs in the complete medical study DataFrame is 248.\n"
     ]
    }
   ],
   "source": [
    "updatedNumberOfUniqueMouseIDsIntegerVariable \\\n",
    "    = function \\\n",
    "        .ReturnNumberOfUniqueElementsInColumn \\\n",
    "            (cleanCompleteMedicalStudyDataFrame, \n",
    "             'Mouse ID')\n",
    "\n",
    "log_subroutine \\\n",
    "    .PrintAndLogWriteText \\\n",
    "        (f'The updated number of unique mouse IDs in the complete medical study DataFrame is ' \\\n",
    "         + f\"{updatedNumberOfUniqueMouseIDsIntegerVariable}.\")"
   ]
  },
  {
   "cell_type": "markdown",
   "id": "e1dd2e94",
   "metadata": {},
   "source": [
    "# <br> **Section 2: Summary Statistics**"
   ]
  },
  {
   "cell_type": "markdown",
   "id": "6d5c2384",
   "metadata": {},
   "source": [
    "### **New Medical Study DataFrame Grouped by Drug Regimen**"
   ]
  },
  {
   "cell_type": "code",
   "execution_count": 14,
   "id": "d25353c3",
   "metadata": {},
   "outputs": [],
   "source": [
    "completeMedicalStudyGroupedByRegimenDataFrame \\\n",
    "    = cleanCompleteMedicalStudyDataFrame \\\n",
    "        .groupby \\\n",
    "            ('Drug Regimen')"
   ]
  },
  {
   "cell_type": "markdown",
   "id": "e457bb4d",
   "metadata": {},
   "source": [
    "### **<span style='color: red;'>Tumor Volume (Mean)</span>**"
   ]
  },
  {
   "cell_type": "code",
   "execution_count": 15,
   "id": "3ec02f79",
   "metadata": {},
   "outputs": [],
   "source": [
    "meanTumorVolumeSeries \\\n",
    "    = completeMedicalStudyGroupedByRegimenDataFrame \\\n",
    "            ['Tumor Volume (mm3)'] \\\n",
    "            .mean()\n",
    "\n",
    "\n",
    "log_function \\\n",
    "    .DebugReturnObjectWriteObject \\\n",
    "        (meanTumorVolumeSeries)"
   ]
  },
  {
   "cell_type": "markdown",
   "id": "cde9ccd2",
   "metadata": {},
   "source": [
    "### **<span style='color: red;'>Tumor Volume (Median)</span>**"
   ]
  },
  {
   "cell_type": "code",
   "execution_count": 16,
   "id": "f0f9d277",
   "metadata": {},
   "outputs": [],
   "source": [
    "medianTumorVolumeSeries \\\n",
    "    = completeMedicalStudyGroupedByRegimenDataFrame \\\n",
    "            ['Tumor Volume (mm3)'] \\\n",
    "            .median()\n",
    "\n",
    "\n",
    "log_function \\\n",
    "    .DebugReturnObjectWriteObject \\\n",
    "        (medianTumorVolumeSeries)"
   ]
  },
  {
   "cell_type": "markdown",
   "id": "518ca243",
   "metadata": {},
   "source": [
    "### **<span style='color: red;'>Tumor Volume (Variance)</span>**"
   ]
  },
  {
   "cell_type": "code",
   "execution_count": 17,
   "id": "63f74f76",
   "metadata": {},
   "outputs": [],
   "source": [
    "varianceTumorVolumeSeries \\\n",
    "    = completeMedicalStudyGroupedByRegimenDataFrame \\\n",
    "            ['Tumor Volume (mm3)'] \\\n",
    "            .var()\n",
    "\n",
    "\n",
    "log_function \\\n",
    "    .DebugReturnObjectWriteObject \\\n",
    "        (varianceTumorVolumeSeries)"
   ]
  },
  {
   "cell_type": "markdown",
   "id": "4e351d35",
   "metadata": {},
   "source": [
    "### **<span style='color: red;'>Tumor Volume (Standard Deviation)</span>**"
   ]
  },
  {
   "cell_type": "code",
   "execution_count": 18,
   "id": "f3754470",
   "metadata": {},
   "outputs": [],
   "source": [
    "standardTumorVolumeSeries \\\n",
    "    = completeMedicalStudyGroupedByRegimenDataFrame \\\n",
    "            ['Tumor Volume (mm3)'] \\\n",
    "            .std()\n",
    "\n",
    "\n",
    "log_function \\\n",
    "    .DebugReturnObjectWriteObject \\\n",
    "        (standardTumorVolumeSeries)"
   ]
  },
  {
   "cell_type": "markdown",
   "id": "92ecde11",
   "metadata": {},
   "source": [
    "### **<span style='color: red;'>Tumor Volume (Standard Errror of the Mean)</span>**"
   ]
  },
  {
   "cell_type": "code",
   "execution_count": 19,
   "id": "54f65039",
   "metadata": {},
   "outputs": [],
   "source": [
    "standardErrorOfTheMeanTumorVolumeSeries \\\n",
    "    = completeMedicalStudyGroupedByRegimenDataFrame \\\n",
    "            ['Tumor Volume (mm3)'] \\\n",
    "            .sem()\n",
    "\n",
    "\n",
    "log_function \\\n",
    "    .DebugReturnObjectWriteObject \\\n",
    "        (standardErrorOfTheMeanTumorVolumeSeries)"
   ]
  },
  {
   "cell_type": "markdown",
   "id": "cd49cc56",
   "metadata": {},
   "source": [
    "### **<span style='color: red;'>Summary Statistics DataFrame</span>**"
   ]
  },
  {
   "cell_type": "code",
   "execution_count": 20,
   "id": "acf5e6ee",
   "metadata": {},
   "outputs": [],
   "source": [
    "summaryStatisticsDataFrame \\\n",
    "    = pd \\\n",
    "        .DataFrame({\n",
    "            'Mean':\n",
    "                meanTumorVolumeSeries,\n",
    "            'Median':\n",
    "                medianTumorVolumeSeries,\n",
    "            'Variance':\n",
    "                varianceTumorVolumeSeries,\n",
    "            'Standard Deviation':\n",
    "                standardTumorVolumeSeries,\n",
    "            'Standard Error of the Mean':\n",
    "                standardErrorOfTheMeanTumorVolumeSeries})\n",
    "\n",
    "\n",
    "log_function \\\n",
    "    .DebugReturnObjectWriteObject \\\n",
    "        (summaryStatisticsDataFrame)"
   ]
  },
  {
   "cell_type": "markdown",
   "id": "8c5bd553",
   "metadata": {},
   "source": [
    "### **Display Summary Statistics**"
   ]
  },
  {
   "cell_type": "code",
   "execution_count": 21,
   "id": "96779d3b",
   "metadata": {},
   "outputs": [
    {
     "data": {
      "text/html": [
       "<style type=\"text/css\">\n",
       "#T_ee252 caption {\n",
       "  color: black;\n",
       "  font-size: 20px;\n",
       "  font-style: bold;\n",
       "  text-align: center;\n",
       "}\n",
       "#T_ee252_row0_col0, #T_ee252_row0_col4 {\n",
       "  text-align: center;\n",
       "  background-color: #fbf3f9;\n",
       "  color: #000000;\n",
       "}\n",
       "#T_ee252_row0_col1 {\n",
       "  text-align: center;\n",
       "  background-color: #f5eef6;\n",
       "  color: #000000;\n",
       "}\n",
       "#T_ee252_row0_col2 {\n",
       "  text-align: center;\n",
       "  background-color: #faf3f9;\n",
       "  color: #000000;\n",
       "}\n",
       "#T_ee252_row0_col3 {\n",
       "  text-align: center;\n",
       "  background-color: #f8f1f8;\n",
       "  color: #000000;\n",
       "}\n",
       "#T_ee252_row1_col0 {\n",
       "  text-align: center;\n",
       "  background-color: #04639b;\n",
       "  color: #f1f1f1;\n",
       "}\n",
       "#T_ee252_row1_col1 {\n",
       "  text-align: center;\n",
       "  background-color: #045e93;\n",
       "  color: #f1f1f1;\n",
       "}\n",
       "#T_ee252_row1_col2 {\n",
       "  text-align: center;\n",
       "  background-color: #afc1dd;\n",
       "  color: #000000;\n",
       "}\n",
       "#T_ee252_row1_col3 {\n",
       "  text-align: center;\n",
       "  background-color: #96b6d7;\n",
       "  color: #000000;\n",
       "}\n",
       "#T_ee252_row1_col4 {\n",
       "  text-align: center;\n",
       "  background-color: #67a4cc;\n",
       "  color: #f1f1f1;\n",
       "}\n",
       "#T_ee252_row2_col0 {\n",
       "  text-align: center;\n",
       "  background-color: #046096;\n",
       "  color: #f1f1f1;\n",
       "}\n",
       "#T_ee252_row2_col1, #T_ee252_row9_col1 {\n",
       "  text-align: center;\n",
       "  background-color: #045d92;\n",
       "  color: #f1f1f1;\n",
       "}\n",
       "#T_ee252_row2_col2 {\n",
       "  text-align: center;\n",
       "  background-color: #8eb3d5;\n",
       "  color: #000000;\n",
       "}\n",
       "#T_ee252_row2_col3 {\n",
       "  text-align: center;\n",
       "  background-color: #73a9cf;\n",
       "  color: #f1f1f1;\n",
       "}\n",
       "#T_ee252_row2_col4 {\n",
       "  text-align: center;\n",
       "  background-color: #4094c3;\n",
       "  color: #f1f1f1;\n",
       "}\n",
       "#T_ee252_row3_col0, #T_ee252_row3_col1, #T_ee252_row3_col2, #T_ee252_row3_col3, #T_ee252_row3_col4 {\n",
       "  text-align: center;\n",
       "  background-color: #023858;\n",
       "  color: #f1f1f1;\n",
       "}\n",
       "#T_ee252_row4_col0 {\n",
       "  text-align: center;\n",
       "  background-color: #034871;\n",
       "  color: #f1f1f1;\n",
       "}\n",
       "#T_ee252_row4_col1 {\n",
       "  text-align: center;\n",
       "  background-color: #03517e;\n",
       "  color: #f1f1f1;\n",
       "}\n",
       "#T_ee252_row4_col2 {\n",
       "  text-align: center;\n",
       "  background-color: #03466e;\n",
       "  color: #f1f1f1;\n",
       "}\n",
       "#T_ee252_row4_col3 {\n",
       "  text-align: center;\n",
       "  background-color: #034369;\n",
       "  color: #f1f1f1;\n",
       "}\n",
       "#T_ee252_row4_col4 {\n",
       "  text-align: center;\n",
       "  background-color: #023e62;\n",
       "  color: #f1f1f1;\n",
       "}\n",
       "#T_ee252_row5_col0, #T_ee252_row5_col4 {\n",
       "  text-align: center;\n",
       "  background-color: #034d79;\n",
       "  color: #f1f1f1;\n",
       "}\n",
       "#T_ee252_row5_col1, #T_ee252_row8_col4 {\n",
       "  text-align: center;\n",
       "  background-color: #045585;\n",
       "  color: #f1f1f1;\n",
       "}\n",
       "#T_ee252_row5_col2 {\n",
       "  text-align: center;\n",
       "  background-color: #046097;\n",
       "  color: #f1f1f1;\n",
       "}\n",
       "#T_ee252_row5_col3, #T_ee252_row9_col0 {\n",
       "  text-align: center;\n",
       "  background-color: #045b8f;\n",
       "  color: #f1f1f1;\n",
       "}\n",
       "#T_ee252_row6_col0 {\n",
       "  text-align: center;\n",
       "  background-color: #0566a0;\n",
       "  color: #f1f1f1;\n",
       "}\n",
       "#T_ee252_row6_col1 {\n",
       "  text-align: center;\n",
       "  background-color: #056faf;\n",
       "  color: #f1f1f1;\n",
       "}\n",
       "#T_ee252_row6_col2 {\n",
       "  text-align: center;\n",
       "  background-color: #88b1d4;\n",
       "  color: #000000;\n",
       "}\n",
       "#T_ee252_row6_col3 {\n",
       "  text-align: center;\n",
       "  background-color: #6ba5cd;\n",
       "  color: #f1f1f1;\n",
       "}\n",
       "#T_ee252_row6_col4 {\n",
       "  text-align: center;\n",
       "  background-color: #0569a4;\n",
       "  color: #f1f1f1;\n",
       "}\n",
       "#T_ee252_row7_col0, #T_ee252_row7_col1, #T_ee252_row7_col2, #T_ee252_row7_col3, #T_ee252_row7_col4 {\n",
       "  text-align: center;\n",
       "  background-color: #fff7fb;\n",
       "  color: #000000;\n",
       "}\n",
       "#T_ee252_row8_col0 {\n",
       "  text-align: center;\n",
       "  background-color: #034a74;\n",
       "  color: #f1f1f1;\n",
       "}\n",
       "#T_ee252_row8_col1 {\n",
       "  text-align: center;\n",
       "  background-color: #045280;\n",
       "  color: #f1f1f1;\n",
       "}\n",
       "#T_ee252_row8_col2 {\n",
       "  text-align: center;\n",
       "  background-color: #0567a2;\n",
       "  color: #f1f1f1;\n",
       "}\n",
       "#T_ee252_row8_col3 {\n",
       "  text-align: center;\n",
       "  background-color: #046198;\n",
       "  color: #f1f1f1;\n",
       "}\n",
       "#T_ee252_row9_col2 {\n",
       "  text-align: center;\n",
       "  background-color: #589ec8;\n",
       "  color: #f1f1f1;\n",
       "}\n",
       "#T_ee252_row9_col3 {\n",
       "  text-align: center;\n",
       "  background-color: #3991c1;\n",
       "  color: #f1f1f1;\n",
       "}\n",
       "#T_ee252_row9_col4 {\n",
       "  text-align: center;\n",
       "  background-color: #1c7fb8;\n",
       "  color: #f1f1f1;\n",
       "}\n",
       "</style>\n",
       "<table id=\"T_ee252\">\n",
       "  <caption>Table 2.0: Summary Statistics (Tumor Volume)</caption>\n",
       "  <thead>\n",
       "    <tr>\n",
       "      <th class=\"blank level0\" >&nbsp;</th>\n",
       "      <th id=\"T_ee252_level0_col0\" class=\"col_heading level0 col0\" >Mean</th>\n",
       "      <th id=\"T_ee252_level0_col1\" class=\"col_heading level0 col1\" >Median</th>\n",
       "      <th id=\"T_ee252_level0_col2\" class=\"col_heading level0 col2\" >Variance</th>\n",
       "      <th id=\"T_ee252_level0_col3\" class=\"col_heading level0 col3\" >Standard Deviation</th>\n",
       "      <th id=\"T_ee252_level0_col4\" class=\"col_heading level0 col4\" >Standard Error of the Mean</th>\n",
       "    </tr>\n",
       "    <tr>\n",
       "      <th class=\"index_name level0\" >Drug Regimen</th>\n",
       "      <th class=\"blank col0\" >&nbsp;</th>\n",
       "      <th class=\"blank col1\" >&nbsp;</th>\n",
       "      <th class=\"blank col2\" >&nbsp;</th>\n",
       "      <th class=\"blank col3\" >&nbsp;</th>\n",
       "      <th class=\"blank col4\" >&nbsp;</th>\n",
       "    </tr>\n",
       "  </thead>\n",
       "  <tbody>\n",
       "    <tr>\n",
       "      <th id=\"T_ee252_level0_row0\" class=\"row_heading level0 row0\" >Capomulin</th>\n",
       "      <td id=\"T_ee252_row0_col0\" class=\"data row0 col0\" >40.68</td>\n",
       "      <td id=\"T_ee252_row0_col1\" class=\"data row0 col1\" >41.56</td>\n",
       "      <td id=\"T_ee252_row0_col2\" class=\"data row0 col2\" >24.95</td>\n",
       "      <td id=\"T_ee252_row0_col3\" class=\"data row0 col3\" >4.99</td>\n",
       "      <td id=\"T_ee252_row0_col4\" class=\"data row0 col4\" >0.33</td>\n",
       "    </tr>\n",
       "    <tr>\n",
       "      <th id=\"T_ee252_level0_row1\" class=\"row_heading level0 row1\" >Ceftamin</th>\n",
       "      <td id=\"T_ee252_row1_col0\" class=\"data row1 col0\" >52.59</td>\n",
       "      <td id=\"T_ee252_row1_col1\" class=\"data row1 col1\" >51.78</td>\n",
       "      <td id=\"T_ee252_row1_col2\" class=\"data row1 col2\" >39.29</td>\n",
       "      <td id=\"T_ee252_row1_col3\" class=\"data row1 col3\" >6.27</td>\n",
       "      <td id=\"T_ee252_row1_col4\" class=\"data row1 col4\" >0.47</td>\n",
       "    </tr>\n",
       "    <tr>\n",
       "      <th id=\"T_ee252_level0_row2\" class=\"row_heading level0 row2\" >Infubinol</th>\n",
       "      <td id=\"T_ee252_row2_col0\" class=\"data row2 col0\" >52.88</td>\n",
       "      <td id=\"T_ee252_row2_col1\" class=\"data row2 col1\" >51.82</td>\n",
       "      <td id=\"T_ee252_row2_col2\" class=\"data row2 col2\" >43.13</td>\n",
       "      <td id=\"T_ee252_row2_col3\" class=\"data row2 col3\" >6.57</td>\n",
       "      <td id=\"T_ee252_row2_col4\" class=\"data row2 col4\" >0.49</td>\n",
       "    </tr>\n",
       "    <tr>\n",
       "      <th id=\"T_ee252_level0_row3\" class=\"row_heading level0 row3\" >Ketapril</th>\n",
       "      <td id=\"T_ee252_row3_col0\" class=\"data row3 col0\" >55.24</td>\n",
       "      <td id=\"T_ee252_row3_col1\" class=\"data row3 col1\" >53.70</td>\n",
       "      <td id=\"T_ee252_row3_col2\" class=\"data row3 col2\" >68.55</td>\n",
       "      <td id=\"T_ee252_row3_col3\" class=\"data row3 col3\" >8.28</td>\n",
       "      <td id=\"T_ee252_row3_col4\" class=\"data row3 col4\" >0.60</td>\n",
       "    </tr>\n",
       "    <tr>\n",
       "      <th id=\"T_ee252_level0_row4\" class=\"row_heading level0 row4\" >Naftisol</th>\n",
       "      <td id=\"T_ee252_row4_col0\" class=\"data row4 col0\" >54.33</td>\n",
       "      <td id=\"T_ee252_row4_col1\" class=\"data row4 col1\" >52.51</td>\n",
       "      <td id=\"T_ee252_row4_col2\" class=\"data row4 col2\" >66.17</td>\n",
       "      <td id=\"T_ee252_row4_col3\" class=\"data row4 col3\" >8.13</td>\n",
       "      <td id=\"T_ee252_row4_col4\" class=\"data row4 col4\" >0.60</td>\n",
       "    </tr>\n",
       "    <tr>\n",
       "      <th id=\"T_ee252_level0_row5\" class=\"row_heading level0 row5\" >Placebo</th>\n",
       "      <td id=\"T_ee252_row5_col0\" class=\"data row5 col0\" >54.03</td>\n",
       "      <td id=\"T_ee252_row5_col1\" class=\"data row5 col1\" >52.29</td>\n",
       "      <td id=\"T_ee252_row5_col2\" class=\"data row5 col2\" >61.17</td>\n",
       "      <td id=\"T_ee252_row5_col3\" class=\"data row5 col3\" >7.82</td>\n",
       "      <td id=\"T_ee252_row5_col4\" class=\"data row5 col4\" >0.58</td>\n",
       "    </tr>\n",
       "    <tr>\n",
       "      <th id=\"T_ee252_level0_row6\" class=\"row_heading level0 row6\" >Propriva</th>\n",
       "      <td id=\"T_ee252_row6_col0\" class=\"data row6 col0\" >52.32</td>\n",
       "      <td id=\"T_ee252_row6_col1\" class=\"data row6 col1\" >50.45</td>\n",
       "      <td id=\"T_ee252_row6_col2\" class=\"data row6 col2\" >43.85</td>\n",
       "      <td id=\"T_ee252_row6_col3\" class=\"data row6 col3\" >6.62</td>\n",
       "      <td id=\"T_ee252_row6_col4\" class=\"data row6 col4\" >0.54</td>\n",
       "    </tr>\n",
       "    <tr>\n",
       "      <th id=\"T_ee252_level0_row7\" class=\"row_heading level0 row7\" >Ramicane</th>\n",
       "      <td id=\"T_ee252_row7_col0\" class=\"data row7 col0\" >40.22</td>\n",
       "      <td id=\"T_ee252_row7_col1\" class=\"data row7 col1\" >40.67</td>\n",
       "      <td id=\"T_ee252_row7_col2\" class=\"data row7 col2\" >23.49</td>\n",
       "      <td id=\"T_ee252_row7_col3\" class=\"data row7 col3\" >4.85</td>\n",
       "      <td id=\"T_ee252_row7_col4\" class=\"data row7 col4\" >0.32</td>\n",
       "    </tr>\n",
       "    <tr>\n",
       "      <th id=\"T_ee252_level0_row8\" class=\"row_heading level0 row8\" >Stelasyn</th>\n",
       "      <td id=\"T_ee252_row8_col0\" class=\"data row8 col0\" >54.23</td>\n",
       "      <td id=\"T_ee252_row8_col1\" class=\"data row8 col1\" >52.43</td>\n",
       "      <td id=\"T_ee252_row8_col2\" class=\"data row8 col2\" >59.45</td>\n",
       "      <td id=\"T_ee252_row8_col3\" class=\"data row8 col3\" >7.71</td>\n",
       "      <td id=\"T_ee252_row8_col4\" class=\"data row8 col4\" >0.57</td>\n",
       "    </tr>\n",
       "    <tr>\n",
       "      <th id=\"T_ee252_level0_row9\" class=\"row_heading level0 row9\" >Zoniferol</th>\n",
       "      <td id=\"T_ee252_row9_col0\" class=\"data row9 col0\" >53.24</td>\n",
       "      <td id=\"T_ee252_row9_col1\" class=\"data row9 col1\" >51.82</td>\n",
       "      <td id=\"T_ee252_row9_col2\" class=\"data row9 col2\" >48.53</td>\n",
       "      <td id=\"T_ee252_row9_col3\" class=\"data row9 col3\" >6.97</td>\n",
       "      <td id=\"T_ee252_row9_col4\" class=\"data row9 col4\" >0.52</td>\n",
       "    </tr>\n",
       "  </tbody>\n",
       "</table>\n"
      ],
      "text/plain": [
       "<pandas.io.formats.style.Styler at 0x14cc9ea10>"
      ]
     },
     "execution_count": 21,
     "metadata": {},
     "output_type": "execute_result"
    }
   ],
   "source": [
    "function \\\n",
    "    .ReturnStylerObjectBackgroundGradientFormat \\\n",
    "        (summaryStatisticsDataFrame, \n",
    "         'Table 2.0: Summary Statistics (Tumor Volume)')"
   ]
  },
  {
   "cell_type": "markdown",
   "id": "5ef421c5",
   "metadata": {},
   "source": [
    "# <br> **Section 3: Bar Charts and Pie Charts**"
   ]
  },
  {
   "cell_type": "markdown",
   "id": "3be35253",
   "metadata": {},
   "source": [
    "### **Prepare Series and Format for Bar Charts**"
   ]
  },
  {
   "cell_type": "code",
   "execution_count": 22,
   "id": "eaf76f13",
   "metadata": {},
   "outputs": [],
   "source": [
    "countByDrugRegimenSeries \\\n",
    "    = cleanCompleteMedicalStudyDataFrame \\\n",
    "            ['Drug Regimen'] \\\n",
    "      .value_counts()\n",
    "\n",
    "\n",
    "log_function \\\n",
    "    .DebugReturnObjectWriteObject \\\n",
    "        (countByDrugRegimenSeries)"
   ]
  },
  {
   "cell_type": "code",
   "execution_count": 23,
   "id": "f6b4e257",
   "metadata": {},
   "outputs": [],
   "source": [
    "barColorsList \\\n",
    "    = ['red',\n",
    "       'blue', \n",
    "       'blue', \n",
    "       'blue', \n",
    "       'blue', \n",
    "       'blue', \n",
    "       'blue', \n",
    "       'blue', \n",
    "       'blue', \n",
    "       'blue']"
   ]
  },
  {
   "cell_type": "markdown",
   "id": "cad7eb99",
   "metadata": {},
   "source": [
    "### **<span style='color: red;'>Bar Chart With the Pandas Method</span>**"
   ]
  },
  {
   "cell_type": "code",
   "execution_count": 24,
   "id": "49b87e56",
   "metadata": {},
   "outputs": [
    {
     "data": {
      "image/png": "[encoded data removed]",
      "text/plain": [
       "<Figure size 640x480 with 1 Axes>"
      ]
     },
     "metadata": {},
     "output_type": "display_data"
    }
   ],
   "source": [
    "subroutine \\\n",
    "    .DisplayPandasBarChartFromSeries \\\n",
    "        (countByDrugRegimenSeries, \n",
    "         barColorsList,\n",
    "         'Figure 3.1: Observed Mouse Timepoints vs. Drug Regimen (Pandas)',\n",
    "         'Observed Mouse Timepoints')"
   ]
  },
  {
   "cell_type": "markdown",
   "id": "af75a5fe",
   "metadata": {},
   "source": [
    "### **<span style='color: red;'>Bar Chart With the Matplotlib Method</span>**"
   ]
  },
  {
   "cell_type": "code",
   "execution_count": 25,
   "id": "68182884",
   "metadata": {},
   "outputs": [
    {
     "data": {
      "image/png": "[encoded data removed]",
      "text/plain": [
       "<Figure size 640x480 with 1 Axes>"
      ]
     },
     "metadata": {},
     "output_type": "display_data"
    }
   ],
   "source": [
    "subroutine \\\n",
    "    .DisplayMatplotlibBarChartFromSeries \\\n",
    "        (countByDrugRegimenSeries, \n",
    "         barColorsList,\n",
    "         'Figure 3.2: Observed Mouse Timepoints vs. Drug Regimen (Matplotlib)',\n",
    "         'Observed Mouse Timepoints')"
   ]
  },
  {
   "cell_type": "markdown",
   "id": "42e33842",
   "metadata": {},
   "source": [
    "### **Prepare Series and Format for Pie Charts**"
   ]
  },
  {
   "cell_type": "code",
   "execution_count": 26,
   "id": "b20d124f",
   "metadata": {},
   "outputs": [],
   "source": [
    "mouseCountByGenderSeries \\\n",
    "    = cleanCompleteMedicalStudyDataFrame \\\n",
    "            ['Sex'] \\\n",
    "            .value_counts()\n",
    "\n",
    "\n",
    "log_function \\\n",
    "    .DebugReturnObjectWriteObject \\\n",
    "        (mouseCountByGenderSeries)"
   ]
  },
  {
   "cell_type": "code",
   "execution_count": 27,
   "id": "a8bd44b0",
   "metadata": {},
   "outputs": [],
   "source": [
    "pieColorsList \\\n",
    "    = ['deepskyblue',\n",
    "       'pink']\n",
    "\n",
    "explodeTuple \\\n",
    "    = (0.02,\n",
    "       0.02)"
   ]
  },
  {
   "cell_type": "markdown",
   "id": "55cab4ee",
   "metadata": {},
   "source": [
    "### **<span style='color: red;'>Pie Chart With the Pandas Method</span>**"
   ]
  },
  {
   "cell_type": "code",
   "execution_count": 28,
   "id": "2cf1cf44",
   "metadata": {},
   "outputs": [
    {
     "data": {
      "image/png": "[encoded data removed]",
      "text/plain": [
       "<Figure size 600x900 with 1 Axes>"
      ]
     },
     "metadata": {},
     "output_type": "display_data"
    }
   ],
   "source": [
    "subroutine \\\n",
    "    .DisplayPandasPieChartFromSeries \\\n",
    "        (mouseCountByGenderSeries, \n",
    "         pieColorsList,\n",
    "         explodeTuple,\n",
    "         'Figure 3.3: Distribution of Female Versus Male Mice (Pandas)')"
   ]
  },
  {
   "cell_type": "markdown",
   "id": "d8911593",
   "metadata": {},
   "source": [
    "### **<span style='color: red;'>Pie Chart With the Matplotlib Method</span>**"
   ]
  },
  {
   "cell_type": "code",
   "execution_count": 29,
   "id": "77ecbbe9",
   "metadata": {},
   "outputs": [
    {
     "data": {
      "image/png": "[encoded data removed]",
      "text/plain": [
       "<Figure size 600x900 with 1 Axes>"
      ]
     },
     "metadata": {},
     "output_type": "display_data"
    }
   ],
   "source": [
    "subroutine \\\n",
    "    .DisplayMatplotlibPieChartFromSeries \\\n",
    "        (mouseCountByGenderSeries, \n",
    "         pieColorsList,\n",
    "         explodeTuple,\n",
    "         'Figure 3.4: Distribution of Female Versus Male Mice (Matplotlib)')"
   ]
  },
  {
   "cell_type": "markdown",
   "id": "84701c58",
   "metadata": {},
   "source": [
    "# <br> **Section 4: Quartiles, Outliers, and Box Plots**"
   ]
  },
  {
   "cell_type": "markdown",
   "id": "025fe0ed",
   "metadata": {},
   "source": [
    "### **The Most Promising Drug Treatment Regimens**"
   ]
  },
  {
   "cell_type": "code",
   "execution_count": 30,
   "id": "4172f199",
   "metadata": {},
   "outputs": [],
   "source": [
    "# This line of code takes only rows for the four most promising treatment \n",
    "# regimens and placebos and assigns the data to a DataFrame.\n",
    "promisingTreatmentRegimensDataFrame \\\n",
    "    = cleanCompleteMedicalStudyDataFrame \\\n",
    "        .loc \\\n",
    "            [(cleanCompleteMedicalStudyDataFrame['Drug Regimen'] == 'Capomulin')|\n",
    "             (cleanCompleteMedicalStudyDataFrame['Drug Regimen'] == 'Ramicane')|\n",
    "             (cleanCompleteMedicalStudyDataFrame['Drug Regimen'] == 'Infubinol')|\n",
    "             (cleanCompleteMedicalStudyDataFrame['Drug Regimen'] == 'Ceftamin')|\n",
    "             (cleanCompleteMedicalStudyDataFrame['Drug Regimen'] == 'Placebo'), :]\n",
    "\n",
    "log_function \\\n",
    "    .DebugReturnObjectWriteObject \\\n",
    "        (promisingTreatmentRegimensDataFrame)"
   ]
  },
  {
   "cell_type": "markdown",
   "id": "60248c3f",
   "metadata": {},
   "source": [
    "### **<span style='color: red;'>The Last (Greatest) Timepoint for Each Mouse</span>**"
   ]
  },
  {
   "cell_type": "code",
   "execution_count": 31,
   "id": "80a0bdc0",
   "metadata": {},
   "outputs": [],
   "source": [
    "# This line of code uses groupby to group the rows by the last (greatest) timepoint \n",
    "# for each mouse ID, retrieves the maximum timepoint for each mouse, and resets \n",
    "# the DataFrame's index.\n",
    "maximumTimepointPerMouseDataFrame \\\n",
    "    = promisingTreatmentRegimensDataFrame \\\n",
    "        .groupby \\\n",
    "            ('Mouse ID') \\\n",
    "                ['Timepoint'] \\\n",
    "        .max() \\\n",
    "        .reset_index()\n",
    "\n",
    "\n",
    "log_function \\\n",
    "    .DebugReturnObjectWriteObject \\\n",
    "        (maximumTimepointPerMouseDataFrame)"
   ]
  },
  {
   "cell_type": "markdown",
   "id": "76b19643",
   "metadata": {},
   "source": [
    "### **New Merged DataFrame Has the Tumor Volume at the Last Timepoint**"
   ]
  },
  {
   "cell_type": "code",
   "execution_count": 32,
   "id": "c8eca330",
   "metadata": {},
   "outputs": [],
   "source": [
    "mergedCompleteMedicalStudyDataFrame \\\n",
    "    = pd \\\n",
    "        .merge \\\n",
    "            (maximumTimepointPerMouseDataFrame,\n",
    "             cleanCompleteMedicalStudyDataFrame, \n",
    "             on \\\n",
    "                 = ['Mouse ID',\n",
    "                    'Timepoint'],\n",
    "                    how \\\n",
    "                        = 'left')\n",
    "\n",
    "\n",
    "log_function \\\n",
    "    .DebugReturnObjectWriteObject \\\n",
    "        (mergedCompleteMedicalStudyDataFrame)"
   ]
  },
  {
   "cell_type": "code",
   "execution_count": 33,
   "id": "a1e47ab1",
   "metadata": {},
   "outputs": [],
   "source": [
    "# In debug mode, these lines of code check if the mouse IDs in the merged\n",
    "# complete medical study DataFrame are the same as those in the maximum \n",
    "# timepoint per mouse DataFrame.\n",
    "if log_constant.DEBUG_FLAG == True:\n",
    "    \n",
    "    uniqueMouseIDsMergedStudyArray \\\n",
    "        = mergedCompleteMedicalStudyDataFrame \\\n",
    "            ['Mouse ID'] \\\n",
    "            .unique()\n",
    "    \n",
    "    uniqueMouseIDsMaximumTimePointArray \\\n",
    "        = maximumTimepointPerMouseDataFrame \\\n",
    "            ['Mouse ID'] \\\n",
    "            .unique()\n",
    "    \n",
    "    log_subroutine \\\n",
    "        .PrintAndLogWriteText \\\n",
    "            (str \\\n",
    "                 (np \\\n",
    "                    .array_equal \\\n",
    "                        (uniqueMouseIDsMergedStudyArray, \n",
    "                         uniqueMouseIDsMaximumTimePointArray)))"
   ]
  },
  {
   "cell_type": "markdown",
   "id": "b5c7f2ce",
   "metadata": {},
   "source": [
    "### **<span style='color: red;'>Most Promising Drug Regimen List and Tumor Volume Data List</span>**"
   ]
  },
  {
   "cell_type": "code",
   "execution_count": 34,
   "id": "9800011f",
   "metadata": {},
   "outputs": [],
   "source": [
    "mostPromisingDrugRegimenNamesList \\\n",
    "    = promisingTreatmentRegimensDataFrame \\\n",
    "        ['Drug Regimen'] \\\n",
    "         .sort_values \\\n",
    "            (ascending \\\n",
    "                = True) \\\n",
    "         .unique() \\\n",
    "         .tolist()\n",
    "\n",
    "tumorVolumeSeriesList \\\n",
    "    = []\n",
    "\n",
    "\n",
    "log_function \\\n",
    "    .DebugReturnObjectWriteObject \\\n",
    "        (mostPromisingDrugRegimenNamesList)"
   ]
  },
  {
   "cell_type": "markdown",
   "id": "46384df8",
   "metadata": {},
   "source": [
    "### **Populate Tumor Volume Data List**"
   ]
  },
  {
   "cell_type": "code",
   "execution_count": 35,
   "id": "d0c11888",
   "metadata": {},
   "outputs": [],
   "source": [
    "# This for loop cycles through the List of drug regimens, extracts the \n",
    "# tumor volume for each regimen as a Series, and appends the series to \n",
    "# a List.\n",
    "for regimenName in mostPromisingDrugRegimenNamesList:\n",
    "\n",
    "    regimenStudyDataFrame \\\n",
    "        = mergedCompleteMedicalStudyDataFrame \\\n",
    "            .loc \\\n",
    "                [(mergedCompleteMedicalStudyDataFrame \\\n",
    "                      ['Drug Regimen']\n",
    "                  == regimenName), :]\n",
    "\n",
    "    tumorVolumeSeriesList \\\n",
    "        .append \\\n",
    "            (regimenStudyDataFrame \\\n",
    "                 ['Tumor Volume (mm3)'])\n",
    "\n",
    "\n",
    "log_function \\\n",
    "    .DebugReturnObjectWriteObject \\\n",
    "        (tumorVolumeSeriesList)"
   ]
  },
  {
   "cell_type": "markdown",
   "id": "edd121b9",
   "metadata": {},
   "source": [
    "### **<span style='color: red;'>Display Tumor Volume Statistics</span>**"
   ]
  },
  {
   "cell_type": "code",
   "execution_count": 36,
   "id": "a28971b4",
   "metadata": {},
   "outputs": [
    {
     "data": {
      "text/html": [
       "<style type=\"text/css\">\n",
       "#T_0f82f caption {\n",
       "  color: black;\n",
       "  font-size: 20px;\n",
       "  font-style: bold;\n",
       "  text-align: center;\n",
       "}\n",
       "#T_0f82f_row0_col0, #T_0f82f_row0_col1, #T_0f82f_row0_col2, #T_0f82f_row0_col3, #T_0f82f_row0_col4, #T_0f82f_row0_col5, #T_0f82f_row0_col6 {\n",
       "  text-align: center;\n",
       "  border: 1.3px solid red;\n",
       "  color: blue;\n",
       "}\n",
       "</style>\n",
       "<table id=\"T_0f82f\">\n",
       "  <caption>Table 4.1: Tumor Volume Statistics for Capomulin</caption>\n",
       "  <thead>\n",
       "    <tr>\n",
       "      <th id=\"T_0f82f_level0_col0\" class=\"col_heading level0 col0\" >Lower Quartile</th>\n",
       "      <th id=\"T_0f82f_level0_col1\" class=\"col_heading level0 col1\" >Upper Quartile</th>\n",
       "      <th id=\"T_0f82f_level0_col2\" class=\"col_heading level0 col2\" >Interquartile Range</th>\n",
       "      <th id=\"T_0f82f_level0_col3\" class=\"col_heading level0 col3\" >Median</th>\n",
       "      <th id=\"T_0f82f_level0_col4\" class=\"col_heading level0 col4\" >Lower Boundary</th>\n",
       "      <th id=\"T_0f82f_level0_col5\" class=\"col_heading level0 col5\" >Upper Boundary</th>\n",
       "      <th id=\"T_0f82f_level0_col6\" class=\"col_heading level0 col6\" >Number of Outliers</th>\n",
       "    </tr>\n",
       "  </thead>\n",
       "  <tbody>\n",
       "    <tr>\n",
       "      <td id=\"T_0f82f_row0_col0\" class=\"data row0 col0\" >32.38</td>\n",
       "      <td id=\"T_0f82f_row0_col1\" class=\"data row0 col1\" >40.16</td>\n",
       "      <td id=\"T_0f82f_row0_col2\" class=\"data row0 col2\" >7.78</td>\n",
       "      <td id=\"T_0f82f_row0_col3\" class=\"data row0 col3\" >38.13</td>\n",
       "      <td id=\"T_0f82f_row0_col4\" class=\"data row0 col4\" >20.70</td>\n",
       "      <td id=\"T_0f82f_row0_col5\" class=\"data row0 col5\" >51.83</td>\n",
       "      <td id=\"T_0f82f_row0_col6\" class=\"data row0 col6\" >0</td>\n",
       "    </tr>\n",
       "  </tbody>\n",
       "</table>\n"
      ],
      "text/plain": [
       "<pandas.io.formats.style.Styler at 0x14ce0a610>"
      ]
     },
     "metadata": {},
     "output_type": "display_data"
    },
    {
     "data": {
      "text/html": [
       "<style type=\"text/css\">\n",
       "#T_b15f4 caption {\n",
       "  color: black;\n",
       "  font-size: 20px;\n",
       "  font-style: bold;\n",
       "  text-align: center;\n",
       "}\n",
       "#T_b15f4_row0_col0, #T_b15f4_row0_col1, #T_b15f4_row0_col2, #T_b15f4_row0_col3, #T_b15f4_row0_col4, #T_b15f4_row0_col5, #T_b15f4_row0_col6 {\n",
       "  text-align: center;\n",
       "  border: 1.3px solid red;\n",
       "  color: blue;\n",
       "}\n",
       "</style>\n",
       "<table id=\"T_b15f4\">\n",
       "  <caption>Table 4.2: Tumor Volume Statistics for Ceftamin</caption>\n",
       "  <thead>\n",
       "    <tr>\n",
       "      <th id=\"T_b15f4_level0_col0\" class=\"col_heading level0 col0\" >Lower Quartile</th>\n",
       "      <th id=\"T_b15f4_level0_col1\" class=\"col_heading level0 col1\" >Upper Quartile</th>\n",
       "      <th id=\"T_b15f4_level0_col2\" class=\"col_heading level0 col2\" >Interquartile Range</th>\n",
       "      <th id=\"T_b15f4_level0_col3\" class=\"col_heading level0 col3\" >Median</th>\n",
       "      <th id=\"T_b15f4_level0_col4\" class=\"col_heading level0 col4\" >Lower Boundary</th>\n",
       "      <th id=\"T_b15f4_level0_col5\" class=\"col_heading level0 col5\" >Upper Boundary</th>\n",
       "      <th id=\"T_b15f4_level0_col6\" class=\"col_heading level0 col6\" >Number of Outliers</th>\n",
       "    </tr>\n",
       "  </thead>\n",
       "  <tbody>\n",
       "    <tr>\n",
       "      <td id=\"T_b15f4_row0_col0\" class=\"data row0 col0\" >48.72</td>\n",
       "      <td id=\"T_b15f4_row0_col1\" class=\"data row0 col1\" >64.30</td>\n",
       "      <td id=\"T_b15f4_row0_col2\" class=\"data row0 col2\" >15.58</td>\n",
       "      <td id=\"T_b15f4_row0_col3\" class=\"data row0 col3\" >59.85</td>\n",
       "      <td id=\"T_b15f4_row0_col4\" class=\"data row0 col4\" >25.36</td>\n",
       "      <td id=\"T_b15f4_row0_col5\" class=\"data row0 col5\" >87.67</td>\n",
       "      <td id=\"T_b15f4_row0_col6\" class=\"data row0 col6\" >0</td>\n",
       "    </tr>\n",
       "  </tbody>\n",
       "</table>\n"
      ],
      "text/plain": [
       "<pandas.io.formats.style.Styler at 0x14cc56850>"
      ]
     },
     "metadata": {},
     "output_type": "display_data"
    },
    {
     "data": {
      "text/html": [
       "<style type=\"text/css\">\n",
       "#T_615dc caption {\n",
       "  color: black;\n",
       "  font-size: 20px;\n",
       "  font-style: bold;\n",
       "  text-align: center;\n",
       "}\n",
       "#T_615dc_row0_col0, #T_615dc_row0_col1, #T_615dc_row0_col2, #T_615dc_row0_col3, #T_615dc_row0_col4, #T_615dc_row0_col5, #T_615dc_row0_col6 {\n",
       "  text-align: center;\n",
       "  border: 1.3px solid red;\n",
       "  color: blue;\n",
       "}\n",
       "</style>\n",
       "<table id=\"T_615dc\">\n",
       "  <caption>Table 4.3: Tumor Volume Statistics for Infubinol</caption>\n",
       "  <thead>\n",
       "    <tr>\n",
       "      <th id=\"T_615dc_level0_col0\" class=\"col_heading level0 col0\" >Lower Quartile</th>\n",
       "      <th id=\"T_615dc_level0_col1\" class=\"col_heading level0 col1\" >Upper Quartile</th>\n",
       "      <th id=\"T_615dc_level0_col2\" class=\"col_heading level0 col2\" >Interquartile Range</th>\n",
       "      <th id=\"T_615dc_level0_col3\" class=\"col_heading level0 col3\" >Median</th>\n",
       "      <th id=\"T_615dc_level0_col4\" class=\"col_heading level0 col4\" >Lower Boundary</th>\n",
       "      <th id=\"T_615dc_level0_col5\" class=\"col_heading level0 col5\" >Upper Boundary</th>\n",
       "      <th id=\"T_615dc_level0_col6\" class=\"col_heading level0 col6\" >Number of Outliers</th>\n",
       "    </tr>\n",
       "  </thead>\n",
       "  <tbody>\n",
       "    <tr>\n",
       "      <td id=\"T_615dc_row0_col0\" class=\"data row0 col0\" >54.05</td>\n",
       "      <td id=\"T_615dc_row0_col1\" class=\"data row0 col1\" >65.53</td>\n",
       "      <td id=\"T_615dc_row0_col2\" class=\"data row0 col2\" >11.48</td>\n",
       "      <td id=\"T_615dc_row0_col3\" class=\"data row0 col3\" >60.17</td>\n",
       "      <td id=\"T_615dc_row0_col4\" class=\"data row0 col4\" >36.83</td>\n",
       "      <td id=\"T_615dc_row0_col5\" class=\"data row0 col5\" >82.74</td>\n",
       "      <td id=\"T_615dc_row0_col6\" class=\"data row0 col6\" >1</td>\n",
       "    </tr>\n",
       "  </tbody>\n",
       "</table>\n"
      ],
      "text/plain": [
       "<pandas.io.formats.style.Styler at 0x14ce73f90>"
      ]
     },
     "metadata": {},
     "output_type": "display_data"
    },
    {
     "data": {
      "text/html": [
       "<style type=\"text/css\">\n",
       "#T_01b96 caption {\n",
       "  color: black;\n",
       "  font-size: 20px;\n",
       "  font-style: bold;\n",
       "  text-align: center;\n",
       "}\n",
       "#T_01b96_row0_col0, #T_01b96_row0_col1, #T_01b96_row0_col2, #T_01b96_row0_col3, #T_01b96_row0_col4, #T_01b96_row0_col5, #T_01b96_row0_col6 {\n",
       "  text-align: center;\n",
       "  border: 1.3px solid red;\n",
       "  color: blue;\n",
       "}\n",
       "</style>\n",
       "<table id=\"T_01b96\">\n",
       "  <caption>Table 4.4: Tumor Volume Statistics for Placebo</caption>\n",
       "  <thead>\n",
       "    <tr>\n",
       "      <th id=\"T_01b96_level0_col0\" class=\"col_heading level0 col0\" >Lower Quartile</th>\n",
       "      <th id=\"T_01b96_level0_col1\" class=\"col_heading level0 col1\" >Upper Quartile</th>\n",
       "      <th id=\"T_01b96_level0_col2\" class=\"col_heading level0 col2\" >Interquartile Range</th>\n",
       "      <th id=\"T_01b96_level0_col3\" class=\"col_heading level0 col3\" >Median</th>\n",
       "      <th id=\"T_01b96_level0_col4\" class=\"col_heading level0 col4\" >Lower Boundary</th>\n",
       "      <th id=\"T_01b96_level0_col5\" class=\"col_heading level0 col5\" >Upper Boundary</th>\n",
       "      <th id=\"T_01b96_level0_col6\" class=\"col_heading level0 col6\" >Number of Outliers</th>\n",
       "    </tr>\n",
       "  </thead>\n",
       "  <tbody>\n",
       "    <tr>\n",
       "      <td id=\"T_01b96_row0_col0\" class=\"data row0 col0\" >52.94</td>\n",
       "      <td id=\"T_01b96_row0_col1\" class=\"data row0 col1\" >68.13</td>\n",
       "      <td id=\"T_01b96_row0_col2\" class=\"data row0 col2\" >15.19</td>\n",
       "      <td id=\"T_01b96_row0_col3\" class=\"data row0 col3\" >62.03</td>\n",
       "      <td id=\"T_01b96_row0_col4\" class=\"data row0 col4\" >30.16</td>\n",
       "      <td id=\"T_01b96_row0_col5\" class=\"data row0 col5\" >90.92</td>\n",
       "      <td id=\"T_01b96_row0_col6\" class=\"data row0 col6\" >0</td>\n",
       "    </tr>\n",
       "  </tbody>\n",
       "</table>\n"
      ],
      "text/plain": [
       "<pandas.io.formats.style.Styler at 0x14ce73f90>"
      ]
     },
     "metadata": {},
     "output_type": "display_data"
    },
    {
     "data": {
      "text/html": [
       "<style type=\"text/css\">\n",
       "#T_465ea caption {\n",
       "  color: black;\n",
       "  font-size: 20px;\n",
       "  font-style: bold;\n",
       "  text-align: center;\n",
       "}\n",
       "#T_465ea_row0_col0, #T_465ea_row0_col1, #T_465ea_row0_col2, #T_465ea_row0_col3, #T_465ea_row0_col4, #T_465ea_row0_col5, #T_465ea_row0_col6 {\n",
       "  text-align: center;\n",
       "  border: 1.3px solid red;\n",
       "  color: blue;\n",
       "}\n",
       "</style>\n",
       "<table id=\"T_465ea\">\n",
       "  <caption>Table 4.5: Tumor Volume Statistics for Ramicane</caption>\n",
       "  <thead>\n",
       "    <tr>\n",
       "      <th id=\"T_465ea_level0_col0\" class=\"col_heading level0 col0\" >Lower Quartile</th>\n",
       "      <th id=\"T_465ea_level0_col1\" class=\"col_heading level0 col1\" >Upper Quartile</th>\n",
       "      <th id=\"T_465ea_level0_col2\" class=\"col_heading level0 col2\" >Interquartile Range</th>\n",
       "      <th id=\"T_465ea_level0_col3\" class=\"col_heading level0 col3\" >Median</th>\n",
       "      <th id=\"T_465ea_level0_col4\" class=\"col_heading level0 col4\" >Lower Boundary</th>\n",
       "      <th id=\"T_465ea_level0_col5\" class=\"col_heading level0 col5\" >Upper Boundary</th>\n",
       "      <th id=\"T_465ea_level0_col6\" class=\"col_heading level0 col6\" >Number of Outliers</th>\n",
       "    </tr>\n",
       "  </thead>\n",
       "  <tbody>\n",
       "    <tr>\n",
       "      <td id=\"T_465ea_row0_col0\" class=\"data row0 col0\" >31.56</td>\n",
       "      <td id=\"T_465ea_row0_col1\" class=\"data row0 col1\" >40.66</td>\n",
       "      <td id=\"T_465ea_row0_col2\" class=\"data row0 col2\" >9.10</td>\n",
       "      <td id=\"T_465ea_row0_col3\" class=\"data row0 col3\" >36.56</td>\n",
       "      <td id=\"T_465ea_row0_col4\" class=\"data row0 col4\" >17.91</td>\n",
       "      <td id=\"T_465ea_row0_col5\" class=\"data row0 col5\" >54.31</td>\n",
       "      <td id=\"T_465ea_row0_col6\" class=\"data row0 col6\" >0</td>\n",
       "    </tr>\n",
       "  </tbody>\n",
       "</table>\n"
      ],
      "text/plain": [
       "<pandas.io.formats.style.Styler at 0x14ce47010>"
      ]
     },
     "metadata": {},
     "output_type": "display_data"
    }
   ],
   "source": [
    "local_subroutine \\\n",
    "    .DisplayTumorVolumeStatistics \\\n",
    "        (mostPromisingDrugRegimenNamesList, \n",
    "         tumorVolumeSeriesList)"
   ]
  },
  {
   "cell_type": "markdown",
   "id": "8bbeb2ae",
   "metadata": {},
   "source": [
    "### **<span style='color: red;'>Display Tumor Volume Statistics Box Plot</span>**"
   ]
  },
  {
   "cell_type": "code",
   "execution_count": 37,
   "id": "9d32801a",
   "metadata": {},
   "outputs": [
    {
     "data": {
      "image/png": "[encoded data removed]",
      "text/plain": [
       "<Figure size 640x480 with 1 Axes>"
      ]
     },
     "metadata": {},
     "output_type": "display_data"
    }
   ],
   "source": [
    "subroutine \\\n",
    "    .DisplayMatplotlibBoxPlotFromSeriesList \\\n",
    "        (tumorVolumeSeriesList,\n",
    "         mostPromisingDrugRegimenNamesList,\n",
    "         'Drug Regimen',\n",
    "         'Final Tumor Volume (mm3)',\n",
    "         'Figure 4.1: Distrubution of Tumor Volume for Each Treatment Group')"
   ]
  },
  {
   "cell_type": "markdown",
   "id": "4929765f",
   "metadata": {},
   "source": [
    " # <br> **Section 5: Line Plot and Scatter Plot (Capomulin)**"
   ]
  },
  {
   "cell_type": "markdown",
   "id": "49cfe959",
   "metadata": {},
   "source": [
    "## **Section 5.1: Line Plot**"
   ]
  },
  {
   "cell_type": "markdown",
   "id": "7a409020",
   "metadata": {},
   "source": [
    "### **Capomulin Study Data**"
   ]
  },
  {
   "cell_type": "code",
   "execution_count": 38,
   "id": "e3a4e55e",
   "metadata": {},
   "outputs": [],
   "source": [
    "# This line of code extracts all rows from the clean medical study DataFrame \n",
    "# for the drug regimen, Capomulin.\n",
    "capomulinStudyDataFrame \\\n",
    "    = cleanCompleteMedicalStudyDataFrame \\\n",
    "            .loc \\\n",
    "                [(cleanCompleteMedicalStudyDataFrame \\\n",
    "                    ['Drug Regimen'] \n",
    "                        == 'Capomulin'), :]\n",
    "\n",
    "\n",
    "log_function \\\n",
    "    .DebugReturnObjectWriteObject \\\n",
    "        (capomulinStudyDataFrame)"
   ]
  },
  {
   "cell_type": "markdown",
   "id": "c6494f0b",
   "metadata": {},
   "source": [
    "### **Random Mouse ID Selection**"
   ]
  },
  {
   "cell_type": "code",
   "execution_count": 39,
   "id": "bff2b1a5",
   "metadata": {},
   "outputs": [],
   "source": [
    "randomMouseIDStringVariable \\\n",
    "    = capomulinStudyDataFrame \\\n",
    "        .sample \\\n",
    "            (n = 1, \n",
    "             replace = False) \\\n",
    "        .iloc \\\n",
    "            [0, 0]\n",
    "\n",
    "\n",
    "log_function \\\n",
    "    .DebugReturnObjectWriteObject \\\n",
    "        (randomMouseIDStringVariable)"
   ]
  },
  {
   "cell_type": "markdown",
   "id": "314336b7",
   "metadata": {},
   "source": [
    "### **Mouse Data Retrieval**"
   ]
  },
  {
   "cell_type": "code",
   "execution_count": 40,
   "id": "8c12ca4c",
   "metadata": {},
   "outputs": [],
   "source": [
    "capomulinSingleMouseDataFrame \\\n",
    "    = capomulinStudyDataFrame\\\n",
    "        .loc \\\n",
    "            [(capomulinStudyDataFrame \\\n",
    "                  ['Mouse ID'] \n",
    "              == randomMouseIDStringVariable), :]\n",
    "\n",
    "\n",
    "log_function \\\n",
    "    .DebugReturnObjectWriteObject \\\n",
    "        (capomulinSingleMouseDataFrame)"
   ]
  },
  {
   "cell_type": "markdown",
   "id": "a8fc48fc",
   "metadata": {},
   "source": [
    "### **Line Calculations**"
   ]
  },
  {
   "cell_type": "code",
   "execution_count": 41,
   "id": "601782cd",
   "metadata": {},
   "outputs": [],
   "source": [
    "capomulinXValuesSeries \\\n",
    "    = capomulinSingleMouseDataFrame \\\n",
    "        ['Timepoint']\n",
    "\n",
    "\n",
    "log_function \\\n",
    "    .DebugReturnObjectWriteObject \\\n",
    "        (capomulinXValuesSeries)"
   ]
  },
  {
   "cell_type": "code",
   "execution_count": 42,
   "id": "8e4b8251",
   "metadata": {},
   "outputs": [],
   "source": [
    "capomulinYValuesSeries \\\n",
    "    = capomulinSingleMouseDataFrame \\\n",
    "        ['Tumor Volume (mm3)']\n",
    "\n",
    "\n",
    "log_function \\\n",
    "    .DebugReturnObjectWriteObject \\\n",
    "        (capomulinYValuesSeries)"
   ]
  },
  {
   "cell_type": "markdown",
   "id": "ee8044a5",
   "metadata": {},
   "source": [
    "### **<span style='color: red;'>Display Line Plot</span>**"
   ]
  },
  {
   "cell_type": "code",
   "execution_count": 43,
   "id": "653f698f",
   "metadata": {},
   "outputs": [
    {
     "data": {
      "image/png": "[encoded data removed]",
      "text/plain": [
       "<Figure size 640x480 with 1 Axes>"
      ]
     },
     "metadata": {},
     "output_type": "display_data"
    }
   ],
   "source": [
    "titleStringVariable \\\n",
    "    = f'Graph 6.1: Capomulin Treatment of Mouse {randomMouseIDStringVariable}'\n",
    "\n",
    "subroutine \\\n",
    "    .DisplayMatplotlibLineChartFromXYSeries \\\n",
    "        (capomulinXValuesSeries,\n",
    "         capomulinYValuesSeries,\n",
    "         'purple',\n",
    "         'solid',\n",
    "         'Timepoint (days)',\n",
    "         'Tumor Volume (mm3)',\n",
    "         titleStringVariable)"
   ]
  },
  {
   "cell_type": "markdown",
   "id": "2ed12dbd",
   "metadata": {},
   "source": [
    "## **Section 5.2: Scatter Plot**"
   ]
  },
  {
   "cell_type": "markdown",
   "id": "273e7d7e",
   "metadata": {},
   "source": [
    "### **Mean of Tumor Volumes Per Mouse ID**"
   ]
  },
  {
   "cell_type": "code",
   "execution_count": 44,
   "id": "eec2c6fb",
   "metadata": {},
   "outputs": [],
   "source": [
    "capomulinMeanTumorVolumePerMouseSeries \\\n",
    "    = capomulinStudyDataFrame \\\n",
    "        .groupby \\\n",
    "            ('Mouse ID') \\\n",
    "                ['Tumor Volume (mm3)'] \\\n",
    "        .mean()\n",
    "\n",
    "\n",
    "log_function \\\n",
    "    .DebugReturnObjectWriteObject \\\n",
    "        (capomulinMeanTumorVolumePerMouseSeries)"
   ]
  },
  {
   "cell_type": "markdown",
   "id": "c0f21856",
   "metadata": {},
   "source": [
    "### **Mean of Weights Per Mouse ID**"
   ]
  },
  {
   "cell_type": "code",
   "execution_count": 45,
   "id": "317ec6b9",
   "metadata": {},
   "outputs": [],
   "source": [
    "capomulinMeanWeightPerMouseSeries \\\n",
    "    = capomulinStudyDataFrame \\\n",
    "        .groupby \\\n",
    "            ('Mouse ID') \\\n",
    "                ['Weight (g)'] \\\n",
    "            .mean()\n",
    "\n",
    "\n",
    "log_function \\\n",
    "    .DebugReturnObjectWriteObject \\\n",
    "        (capomulinMeanWeightPerMouseSeries)"
   ]
  },
  {
   "cell_type": "markdown",
   "id": "fa70b170",
   "metadata": {},
   "source": [
    "### **<span style='color: red;'>Display Scatter Plot</span>**"
   ]
  },
  {
   "cell_type": "code",
   "execution_count": 46,
   "id": "b051fc21",
   "metadata": {},
   "outputs": [
    {
     "data": {
      "image/png": "[encoded data removed]",
      "text/plain": [
       "<Figure size 640x480 with 1 Axes>"
      ]
     },
     "metadata": {},
     "output_type": "display_data"
    }
   ],
   "source": [
    "subroutine \\\n",
    "    .DisplayMatplotlibScatterPlotFromXYSeries \\\n",
    "        (capomulinMeanWeightPerMouseSeries, \n",
    "         capomulinMeanTumorVolumePerMouseSeries, \n",
    "         'Graph 5.2: Average Observed Tumor Volume vs. Weight (Capomulin)')"
   ]
  },
  {
   "cell_type": "markdown",
   "id": "8663a413",
   "metadata": {},
   "source": [
    " # <br> **Section 6: Correlation and Regression (Capomulin)**"
   ]
  },
  {
   "cell_type": "markdown",
   "id": "90530cbb",
   "metadata": {},
   "source": [
    "### **Correlation Calculation and Display**"
   ]
  },
  {
   "cell_type": "code",
   "execution_count": 47,
   "id": "4b30ea5a",
   "metadata": {},
   "outputs": [
    {
     "name": "stdout",
     "output_type": "stream",
     "text": [
      "The correlation between mouse weight and the average tumor volume is 0.84.\n"
     ]
    }
   ],
   "source": [
    "correlationFloatVariable \\\n",
    "    = function \\\n",
    "        .ReturnPearsonCorrelation \\\n",
    "            (capomulinMeanWeightPerMouseSeries, \n",
    "             capomulinMeanTumorVolumePerMouseSeries)\n",
    "\n",
    "log_subroutine \\\n",
    "    .PrintAndLogWriteText \\\n",
    "        ('The correlation between mouse weight and the average tumor volume is ' \n",
    "         + '{:1.2f}.'.format(correlationFloatVariable))"
   ]
  },
  {
   "cell_type": "markdown",
   "id": "f9951c03",
   "metadata": {},
   "source": [
    "### **<span style='color: red;'>Display Scatter Plot With Regression</span>**"
   ]
  },
  {
   "cell_type": "code",
   "execution_count": 48,
   "id": "fb3db774",
   "metadata": {},
   "outputs": [
    {
     "name": "stdout",
     "output_type": "stream",
     "text": [
      "r-value:     0.8419\n",
      "r-squared:   0.7089\n"
     ]
    },
    {
     "data": {
      "image/png": "[encoded data removed]",
      "text/plain": [
       "<Figure size 640x480 with 1 Axes>"
      ]
     },
     "metadata": {},
     "output_type": "display_data"
    }
   ],
   "source": [
    "subroutine \\\n",
    "    .DisplayMatplotlibScatterPlotFromXYSeries \\\n",
    "        (capomulinMeanWeightPerMouseSeries, \n",
    "         capomulinMeanTumorVolumePerMouseSeries, \n",
    "         'Graph 6.1: Tumor Volume vs. Weight With Regression (Capomulin)',\n",
    "         1, 18.5, 37)"
   ]
  },
  {
   "cell_type": "markdown",
   "id": "1ccdf1e4",
   "metadata": {},
   "source": [
    " # <br> **Section 7: Data Collection Anomalies**"
   ]
  },
  {
   "cell_type": "markdown",
   "id": "652772cd",
   "metadata": {},
   "source": [
    "## **Section 7.1: Infubinol Statistical Outlier**"
   ]
  },
  {
   "cell_type": "markdown",
   "id": "9ac5b40c",
   "metadata": {},
   "source": [
    "### **Display Infubinol Statistical Outlier**"
   ]
  },
  {
   "cell_type": "code",
   "execution_count": 49,
   "id": "ef4f9294",
   "metadata": {},
   "outputs": [],
   "source": [
    "infubinolOutlierDataFrame \\\n",
    "    = mergedCompleteMedicalStudyDataFrame \\\n",
    "        .loc \\\n",
    "            [(mergedCompleteMedicalStudyDataFrame \\\n",
    "                  ['Drug Regimen'] \\\n",
    "                      == 'Infubinol') \\\n",
    "             & (mergedCompleteMedicalStudyDataFrame \\\n",
    "                    ['Tumor Volume (mm3)'] \\\n",
    "                        < 40.0), :]\n",
    "\n",
    "\n",
    "log_function \\\n",
    "    .DebugReturnObjectWriteObject \\\n",
    "        (infubinolOutlierDataFrame)"
   ]
  },
  {
   "cell_type": "code",
   "execution_count": 50,
   "id": "2a4e19ea",
   "metadata": {},
   "outputs": [
    {
     "data": {
      "text/html": [
       "<style type=\"text/css\">\n",
       "#T_55d6d caption {\n",
       "  color: black;\n",
       "  font-size: 20px;\n",
       "  font-style: bold;\n",
       "  text-align: center;\n",
       "}\n",
       "#T_55d6d_row0_col0, #T_55d6d_row0_col1, #T_55d6d_row0_col2, #T_55d6d_row0_col3, #T_55d6d_row0_col4, #T_55d6d_row0_col5, #T_55d6d_row0_col6, #T_55d6d_row0_col7 {\n",
       "  text-align: center;\n",
       "  border: 1.3px solid red;\n",
       "  color: blue;\n",
       "}\n",
       "</style>\n",
       "<table id=\"T_55d6d\">\n",
       "  <caption>Table 7.1.1: Infubinol Statistical Outlier</caption>\n",
       "  <thead>\n",
       "    <tr>\n",
       "      <th id=\"T_55d6d_level0_col0\" class=\"col_heading level0 col0\" >Mouse ID</th>\n",
       "      <th id=\"T_55d6d_level0_col1\" class=\"col_heading level0 col1\" >Timepoint</th>\n",
       "      <th id=\"T_55d6d_level0_col2\" class=\"col_heading level0 col2\" >Drug Regimen</th>\n",
       "      <th id=\"T_55d6d_level0_col3\" class=\"col_heading level0 col3\" >Sex</th>\n",
       "      <th id=\"T_55d6d_level0_col4\" class=\"col_heading level0 col4\" >Age_months</th>\n",
       "      <th id=\"T_55d6d_level0_col5\" class=\"col_heading level0 col5\" >Weight (g)</th>\n",
       "      <th id=\"T_55d6d_level0_col6\" class=\"col_heading level0 col6\" >Tumor Volume (mm3)</th>\n",
       "      <th id=\"T_55d6d_level0_col7\" class=\"col_heading level0 col7\" >Metastatic Sites</th>\n",
       "    </tr>\n",
       "  </thead>\n",
       "  <tbody>\n",
       "    <tr>\n",
       "      <td id=\"T_55d6d_row0_col0\" class=\"data row0 col0\" >c326</td>\n",
       "      <td id=\"T_55d6d_row0_col1\" class=\"data row0 col1\" >5</td>\n",
       "      <td id=\"T_55d6d_row0_col2\" class=\"data row0 col2\" >Infubinol</td>\n",
       "      <td id=\"T_55d6d_row0_col3\" class=\"data row0 col3\" >Female</td>\n",
       "      <td id=\"T_55d6d_row0_col4\" class=\"data row0 col4\" >18</td>\n",
       "      <td id=\"T_55d6d_row0_col5\" class=\"data row0 col5\" >25</td>\n",
       "      <td id=\"T_55d6d_row0_col6\" class=\"data row0 col6\" >36.32</td>\n",
       "      <td id=\"T_55d6d_row0_col7\" class=\"data row0 col7\" >0</td>\n",
       "    </tr>\n",
       "  </tbody>\n",
       "</table>\n"
      ],
      "text/plain": [
       "<pandas.io.formats.style.Styler at 0x14cfe6210>"
      ]
     },
     "execution_count": 50,
     "metadata": {},
     "output_type": "execute_result"
    }
   ],
   "source": [
    "function \\\n",
    "    .ReturnStylerObjectStandardFormat \\\n",
    "        (infubinolOutlierDataFrame, \n",
    "         'Table 7.1.1: Infubinol Statistical Outlier')"
   ]
  },
  {
   "cell_type": "markdown",
   "id": "9854a15e",
   "metadata": {},
   "source": [
    "### **Display Statistical Outlier Mouse Records**"
   ]
  },
  {
   "cell_type": "code",
   "execution_count": 51,
   "id": "76c4a9f8",
   "metadata": {},
   "outputs": [],
   "source": [
    "infubinolOutlierMouseDataFrame \\\n",
    "    = cleanCompleteMedicalStudyDataFrame \\\n",
    "        .loc \\\n",
    "            [cleanCompleteMedicalStudyDataFrame \\\n",
    "                    ['Mouse ID'] \\\n",
    "                        == 'c326', :]\n",
    "\n",
    "\n",
    "log_function \\\n",
    "    .DebugReturnObjectWriteObject \\\n",
    "        (infubinolOutlierMouseDataFrame)"
   ]
  },
  {
   "cell_type": "code",
   "execution_count": 52,
   "id": "08f0d94d",
   "metadata": {},
   "outputs": [
    {
     "data": {
      "text/html": [
       "<style type=\"text/css\">\n",
       "#T_454c6 caption {\n",
       "  color: black;\n",
       "  font-size: 20px;\n",
       "  font-style: bold;\n",
       "  text-align: center;\n",
       "}\n",
       "#T_454c6_row0_col0, #T_454c6_row0_col1, #T_454c6_row0_col2, #T_454c6_row0_col3, #T_454c6_row0_col4, #T_454c6_row0_col5, #T_454c6_row0_col6, #T_454c6_row0_col7, #T_454c6_row1_col0, #T_454c6_row1_col1, #T_454c6_row1_col2, #T_454c6_row1_col3, #T_454c6_row1_col4, #T_454c6_row1_col5, #T_454c6_row1_col6, #T_454c6_row1_col7 {\n",
       "  text-align: center;\n",
       "  border: 1.3px solid red;\n",
       "  color: blue;\n",
       "}\n",
       "</style>\n",
       "<table id=\"T_454c6\">\n",
       "  <caption>Table 7.1.2: Statistical Outlier Mouse Records</caption>\n",
       "  <thead>\n",
       "    <tr>\n",
       "      <th id=\"T_454c6_level0_col0\" class=\"col_heading level0 col0\" >Mouse ID</th>\n",
       "      <th id=\"T_454c6_level0_col1\" class=\"col_heading level0 col1\" >Drug Regimen</th>\n",
       "      <th id=\"T_454c6_level0_col2\" class=\"col_heading level0 col2\" >Sex</th>\n",
       "      <th id=\"T_454c6_level0_col3\" class=\"col_heading level0 col3\" >Age_months</th>\n",
       "      <th id=\"T_454c6_level0_col4\" class=\"col_heading level0 col4\" >Weight (g)</th>\n",
       "      <th id=\"T_454c6_level0_col5\" class=\"col_heading level0 col5\" >Timepoint</th>\n",
       "      <th id=\"T_454c6_level0_col6\" class=\"col_heading level0 col6\" >Tumor Volume (mm3)</th>\n",
       "      <th id=\"T_454c6_level0_col7\" class=\"col_heading level0 col7\" >Metastatic Sites</th>\n",
       "    </tr>\n",
       "  </thead>\n",
       "  <tbody>\n",
       "    <tr>\n",
       "      <td id=\"T_454c6_row0_col0\" class=\"data row0 col0\" >c326</td>\n",
       "      <td id=\"T_454c6_row0_col1\" class=\"data row0 col1\" >Infubinol</td>\n",
       "      <td id=\"T_454c6_row0_col2\" class=\"data row0 col2\" >Female</td>\n",
       "      <td id=\"T_454c6_row0_col3\" class=\"data row0 col3\" >18</td>\n",
       "      <td id=\"T_454c6_row0_col4\" class=\"data row0 col4\" >25</td>\n",
       "      <td id=\"T_454c6_row0_col5\" class=\"data row0 col5\" >0</td>\n",
       "      <td id=\"T_454c6_row0_col6\" class=\"data row0 col6\" >45.00</td>\n",
       "      <td id=\"T_454c6_row0_col7\" class=\"data row0 col7\" >0</td>\n",
       "    </tr>\n",
       "    <tr>\n",
       "      <td id=\"T_454c6_row1_col0\" class=\"data row1 col0\" >c326</td>\n",
       "      <td id=\"T_454c6_row1_col1\" class=\"data row1 col1\" >Infubinol</td>\n",
       "      <td id=\"T_454c6_row1_col2\" class=\"data row1 col2\" >Female</td>\n",
       "      <td id=\"T_454c6_row1_col3\" class=\"data row1 col3\" >18</td>\n",
       "      <td id=\"T_454c6_row1_col4\" class=\"data row1 col4\" >25</td>\n",
       "      <td id=\"T_454c6_row1_col5\" class=\"data row1 col5\" >5</td>\n",
       "      <td id=\"T_454c6_row1_col6\" class=\"data row1 col6\" >36.32</td>\n",
       "      <td id=\"T_454c6_row1_col7\" class=\"data row1 col7\" >0</td>\n",
       "    </tr>\n",
       "  </tbody>\n",
       "</table>\n"
      ],
      "text/plain": [
       "<pandas.io.formats.style.Styler at 0x14d0c6e90>"
      ]
     },
     "execution_count": 52,
     "metadata": {},
     "output_type": "execute_result"
    }
   ],
   "source": [
    "function \\\n",
    "    .ReturnStylerObjectStandardFormat \\\n",
    "        (infubinolOutlierMouseDataFrame, \n",
    "         'Table 7.1.2: Statistical Outlier Mouse Records')"
   ]
  },
  {
   "cell_type": "markdown",
   "id": "cf3dedc3",
   "metadata": {},
   "source": [
    "## **Section 7.2: Number of Mice vs. Data Point Count**"
   ]
  },
  {
   "cell_type": "markdown",
   "id": "cb5cef77",
   "metadata": {},
   "source": [
    "### **Range of Data Point Count per Mouse**"
   ]
  },
  {
   "cell_type": "code",
   "execution_count": 53,
   "id": "5807d1e2",
   "metadata": {},
   "outputs": [],
   "source": [
    "minimumNumberOfDataPointsPerMouseIntegerVariable \\\n",
    "    = cleanCompleteMedicalStudyDataFrame \\\n",
    "        .groupby \\\n",
    "            ('Mouse ID') \\\n",
    "                ['Drug Regimen'] \\\n",
    "            .count() \\\n",
    "            .min()\n",
    "\n",
    "\n",
    "log_function \\\n",
    "    .DebugReturnObjectWriteObject \\\n",
    "        (minimumNumberOfDataPointsPerMouseIntegerVariable)"
   ]
  },
  {
   "cell_type": "code",
   "execution_count": 54,
   "id": "74ee2442",
   "metadata": {},
   "outputs": [],
   "source": [
    "maximumNumberOfDataPointsPerMouseIntegerVariable \\\n",
    "    = cleanCompleteMedicalStudyDataFrame \\\n",
    "        .groupby \\\n",
    "            ('Mouse ID') \\\n",
    "                ['Drug Regimen'] \\\n",
    "            .count() \\\n",
    "            .max()\n",
    "\n",
    "\n",
    "log_function \\\n",
    "    .DebugReturnObjectWriteObject \\\n",
    "        (maximumNumberOfDataPointsPerMouseIntegerVariable)"
   ]
  },
  {
   "cell_type": "markdown",
   "id": "8d4e6519",
   "metadata": {},
   "source": [
    "### **Display Range of Data Point Count per Mouse**"
   ]
  },
  {
   "cell_type": "code",
   "execution_count": 55,
   "id": "b1f0e33b",
   "metadata": {},
   "outputs": [
    {
     "name": "stdout",
     "output_type": "stream",
     "text": [
      "The range of data points per mouse is 1-10.\n"
     ]
    }
   ],
   "source": [
    "log_subroutine \\\n",
    "    .PrintAndLogWriteText \\\n",
    "        ('The range of data points per mouse is ' \\\n",
    "         + f'{minimumNumberOfDataPointsPerMouseIntegerVariable}' \\\n",
    "         + f'-{maximumNumberOfDataPointsPerMouseIntegerVariable}.')"
   ]
  },
  {
   "cell_type": "markdown",
   "id": "d558f68a",
   "metadata": {},
   "source": [
    "### **Mouse ID by Data Point Count**"
   ]
  },
  {
   "cell_type": "code",
   "execution_count": 56,
   "id": "7d1e487a",
   "metadata": {},
   "outputs": [],
   "source": [
    "dataPointCountByMouseIDSeries \\\n",
    "    = cleanCompleteMedicalStudyDataFrame \\\n",
    "        .groupby \\\n",
    "            ('Mouse ID')\\\n",
    "                ['Drug Regimen'] \\\n",
    "            .count()\n",
    "\n",
    "\n",
    "log_function \\\n",
    "    .DebugReturnObjectWriteObject \\\n",
    "        (dataPointCountByMouseIDSeries)"
   ]
  },
  {
   "cell_type": "code",
   "execution_count": 57,
   "id": "313de0cd",
   "metadata": {},
   "outputs": [],
   "source": [
    "frameDictionary \\\n",
    "    = {'Count':\n",
    "           dataPointCountByMouseIDSeries.tolist(),\n",
    "       'Mouse ID':\n",
    "           dataPointCountByMouseIDSeries.index.tolist()}\n",
    "\n",
    "mouseIDByDataPointCountDataFrame \\\n",
    "    = pd \\\n",
    "        .DataFrame \\\n",
    "            (frameDictionary)\n",
    "\n",
    "\n",
    "log_function \\\n",
    "    .DebugReturnObjectWriteObject \\\n",
    "        (mouseIDByDataPointCountDataFrame)"
   ]
  },
  {
   "cell_type": "markdown",
   "id": "954698df",
   "metadata": {},
   "source": [
    "### **Display Mouse ID by Data Point Count**"
   ]
  },
  {
   "cell_type": "code",
   "execution_count": 58,
   "id": "b5f51359",
   "metadata": {},
   "outputs": [
    {
     "data": {
      "text/html": [
       "<style type=\"text/css\">\n",
       "#T_04136 caption {\n",
       "  color: black;\n",
       "  font-size: 20px;\n",
       "  font-style: bold;\n",
       "  text-align: center;\n",
       "}\n",
       "#T_04136_row0_col0, #T_04136_row0_col1, #T_04136_row1_col0, #T_04136_row1_col1, #T_04136_row2_col0, #T_04136_row2_col1, #T_04136_row3_col0, #T_04136_row3_col1, #T_04136_row4_col0, #T_04136_row4_col1, #T_04136_row5_col0, #T_04136_row5_col1, #T_04136_row6_col0, #T_04136_row6_col1, #T_04136_row7_col0, #T_04136_row7_col1, #T_04136_row8_col0, #T_04136_row8_col1, #T_04136_row9_col0, #T_04136_row9_col1, #T_04136_row10_col0, #T_04136_row10_col1, #T_04136_row11_col0, #T_04136_row11_col1 {\n",
       "  text-align: center;\n",
       "  border: 1.3px solid red;\n",
       "  color: blue;\n",
       "}\n",
       "</style>\n",
       "<table id=\"T_04136\">\n",
       "  <caption>Table 7.2.1: Mouse ID by Data Point Count</caption>\n",
       "  <thead>\n",
       "    <tr>\n",
       "      <th id=\"T_04136_level0_col0\" class=\"col_heading level0 col0\" >Count</th>\n",
       "      <th id=\"T_04136_level0_col1\" class=\"col_heading level0 col1\" >Mouse ID</th>\n",
       "    </tr>\n",
       "  </thead>\n",
       "  <tbody>\n",
       "    <tr>\n",
       "      <td id=\"T_04136_row0_col0\" class=\"data row0 col0\" >10</td>\n",
       "      <td id=\"T_04136_row0_col1\" class=\"data row0 col1\" >a203</td>\n",
       "    </tr>\n",
       "    <tr>\n",
       "      <td id=\"T_04136_row1_col0\" class=\"data row1 col0\" >10</td>\n",
       "      <td id=\"T_04136_row1_col1\" class=\"data row1 col1\" >a251</td>\n",
       "    </tr>\n",
       "    <tr>\n",
       "      <td id=\"T_04136_row2_col0\" class=\"data row2 col0\" >10</td>\n",
       "      <td id=\"T_04136_row2_col1\" class=\"data row2 col1\" >a262</td>\n",
       "    </tr>\n",
       "    <tr>\n",
       "      <td id=\"T_04136_row3_col0\" class=\"data row3 col0\" >10</td>\n",
       "      <td id=\"T_04136_row3_col1\" class=\"data row3 col1\" >a275</td>\n",
       "    </tr>\n",
       "    <tr>\n",
       "      <td id=\"T_04136_row4_col0\" class=\"data row4 col0\" >7</td>\n",
       "      <td id=\"T_04136_row4_col1\" class=\"data row4 col1\" >a366</td>\n",
       "    </tr>\n",
       "    <tr>\n",
       "      <td id=\"T_04136_row5_col0\" class=\"data row5 col0\" >10</td>\n",
       "      <td id=\"T_04136_row5_col1\" class=\"data row5 col1\" >a401</td>\n",
       "    </tr>\n",
       "    <tr>\n",
       "      <td id=\"T_04136_row6_col0\" class=\"data row6 col0\" >10</td>\n",
       "      <td id=\"T_04136_row6_col1\" class=\"data row6 col1\" >a411</td>\n",
       "    </tr>\n",
       "    <tr>\n",
       "      <td id=\"T_04136_row7_col0\" class=\"data row7 col0\" >10</td>\n",
       "      <td id=\"T_04136_row7_col1\" class=\"data row7 col1\" >a444</td>\n",
       "    </tr>\n",
       "    <tr>\n",
       "      <td id=\"T_04136_row8_col0\" class=\"data row8 col0\" >3</td>\n",
       "      <td id=\"T_04136_row8_col1\" class=\"data row8 col1\" >a457</td>\n",
       "    </tr>\n",
       "    <tr>\n",
       "      <td id=\"T_04136_row9_col0\" class=\"data row9 col0\" >10</td>\n",
       "      <td id=\"T_04136_row9_col1\" class=\"data row9 col1\" >a492</td>\n",
       "    </tr>\n",
       "    <tr>\n",
       "      <td id=\"T_04136_row10_col0\" class=\"data row10 col0\" >10</td>\n",
       "      <td id=\"T_04136_row10_col1\" class=\"data row10 col1\" >a520</td>\n",
       "    </tr>\n",
       "    <tr>\n",
       "      <td id=\"T_04136_row11_col0\" class=\"data row11 col0\" >7</td>\n",
       "      <td id=\"T_04136_row11_col1\" class=\"data row11 col1\" >a577</td>\n",
       "    </tr>\n",
       "  </tbody>\n",
       "</table>\n"
      ],
      "text/plain": [
       "<pandas.io.formats.style.Styler at 0x14d0d26d0>"
      ]
     },
     "execution_count": 58,
     "metadata": {},
     "output_type": "execute_result"
    }
   ],
   "source": [
    "function \\\n",
    "    .ReturnStylerObjectStandardFormat \\\n",
    "        (mouseIDByDataPointCountDataFrame.head(12), \n",
    "         'Table 7.2.1: Mouse ID by Data Point Count')"
   ]
  },
  {
   "cell_type": "markdown",
   "id": "0069b039",
   "metadata": {},
   "source": [
    "### **Data Number of Mice vs. Data Point Count**"
   ]
  },
  {
   "cell_type": "code",
   "execution_count": 59,
   "id": "1cc53d7d",
   "metadata": {},
   "outputs": [],
   "source": [
    "numberOfMiceVsDataPointCountDataFrame \\\n",
    "    = mouseIDByDataPointCountDataFrame \\\n",
    "        .groupby \\\n",
    "            ('Count') \\\n",
    "                .count()\n",
    "\n",
    "\n",
    "log_function \\\n",
    "    .DebugReturnObjectWriteObject \\\n",
    "        (numberOfMiceVsDataPointCountDataFrame)"
   ]
  },
  {
   "cell_type": "code",
   "execution_count": 60,
   "id": "433c479a",
   "metadata": {},
   "outputs": [],
   "source": [
    "numberOfMiceVsDataPointCountSeries \\\n",
    "    = numberOfMiceVsDataPointCountDataFrame \\\n",
    "        .squeeze()\n",
    "\n",
    "numberOfMiceVsDataPointCountSeries.name \\\n",
    "    = 'Data Point Count'\n",
    "\n",
    "\n",
    "log_function \\\n",
    "    .DebugReturnObjectWriteObject \\\n",
    "        (numberOfMiceVsDataPointCountSeries)"
   ]
  },
  {
   "cell_type": "markdown",
   "id": "2e2013d2",
   "metadata": {},
   "source": [
    "### **Display Number of Mice vs. Data Point Count**"
   ]
  },
  {
   "cell_type": "code",
   "execution_count": 61,
   "id": "8ce4cb77",
   "metadata": {},
   "outputs": [
    {
     "data": {
      "image/png": "[encoded data removed]",
      "text/plain": [
       "<Figure size 640x480 with 1 Axes>"
      ]
     },
     "metadata": {},
     "output_type": "display_data"
    }
   ],
   "source": [
    "subroutine \\\n",
    "    .DisplayPandasBarChartFromSeries \\\n",
    "        (numberOfMiceVsDataPointCountSeries, \n",
    "         ['red'],\n",
    "         'Figure 7.2.1: Number of Mice vs. Data Point Count',\n",
    "         'Number of Mice',\n",
    "         axisTickLabelRotationFloatParameter \\\n",
    "            = 0)"
   ]
  },
  {
   "cell_type": "markdown",
   "id": "49e0bd71",
   "metadata": {},
   "source": [
    "## **Section 7.3: Number of Mice Vs. Drug Treatment Regimen**"
   ]
  },
  {
   "cell_type": "markdown",
   "id": "6aba5bf0",
   "metadata": {},
   "source": [
    "### **Mouse ID Lists**"
   ]
  },
  {
   "cell_type": "code",
   "execution_count": 62,
   "id": "b9bf84ce",
   "metadata": {},
   "outputs": [],
   "source": [
    "mouseIDsOneToThreeList \\\n",
    "    = dataPointCountByMouseIDSeries \\\n",
    "        [(dataPointCountByMouseIDSeries >= 1) & (dataPointCountByMouseIDSeries <= 3)] \\\n",
    "            .index \\\n",
    "        .tolist()\n",
    "\n",
    "\n",
    "log_function \\\n",
    "    .DebugReturnObjectWriteObject \\\n",
    "        (mouseIDsOneToThreeList)"
   ]
  },
  {
   "cell_type": "code",
   "execution_count": 63,
   "id": "f7239132",
   "metadata": {},
   "outputs": [],
   "source": [
    "mouseIDsFourToSixList \\\n",
    "    = dataPointCountByMouseIDSeries \\\n",
    "        [(dataPointCountByMouseIDSeries >= 4) & (dataPointCountByMouseIDSeries <= 6)] \\\n",
    "            .index \\\n",
    "        .tolist()\n",
    "\n",
    "\n",
    "log_function \\\n",
    "    .DebugReturnObjectWriteObject \\\n",
    "        (mouseIDsFourToSixList)"
   ]
  },
  {
   "cell_type": "code",
   "execution_count": 64,
   "id": "dbc381bf",
   "metadata": {},
   "outputs": [],
   "source": [
    "mouseIDsSevenToNineList \\\n",
    "    = dataPointCountByMouseIDSeries \\\n",
    "        [(dataPointCountByMouseIDSeries >= 7) & (dataPointCountByMouseIDSeries <= 9)] \\\n",
    "            .index \\\n",
    "        .tolist()\n",
    "\n",
    "\n",
    "log_function \\\n",
    "    .DebugReturnObjectWriteObject \\\n",
    "        (mouseIDsSevenToNineList)"
   ]
  },
  {
   "cell_type": "code",
   "execution_count": 65,
   "id": "ec7dc61a",
   "metadata": {},
   "outputs": [],
   "source": [
    "mouseIDsTenList \\\n",
    "    = dataPointCountByMouseIDSeries \\\n",
    "        [dataPointCountByMouseIDSeries == 10] \\\n",
    "            .index \\\n",
    "        .tolist()\n",
    "\n",
    "\n",
    "log_function \\\n",
    "    .DebugReturnObjectWriteObject \\\n",
    "        (mouseIDsTenList)"
   ]
  },
  {
   "cell_type": "markdown",
   "id": "e00761d7",
   "metadata": {},
   "source": [
    "### **Medical Study Information Based on Data Point Count**"
   ]
  },
  {
   "cell_type": "code",
   "execution_count": 66,
   "id": "c2a7e85d",
   "metadata": {},
   "outputs": [],
   "source": [
    "mouseIDsOneToThreeCompleteMedicalStudyDataFrame \\\n",
    "    = function \\\n",
    "        .ReturnDataFrameRowsWithValue \\\n",
    "            (cleanCompleteMedicalStudyDataFrame, \n",
    "             'Mouse ID', \n",
    "             mouseIDsOneToThreeList)\n",
    "\n",
    "\n",
    "log_function \\\n",
    "    .DebugReturnObjectWriteObject \\\n",
    "        (mouseIDsOneToThreeCompleteMedicalStudyDataFrame)"
   ]
  },
  {
   "cell_type": "code",
   "execution_count": 67,
   "id": "1a2a91ea",
   "metadata": {},
   "outputs": [],
   "source": [
    "mouseIDsFourToSixCompleteMedicalStudyDataFrame \\\n",
    "    = function \\\n",
    "        .ReturnDataFrameRowsWithValue \\\n",
    "            (cleanCompleteMedicalStudyDataFrame, \n",
    "             'Mouse ID', \n",
    "             mouseIDsFourToSixList)\n",
    "\n",
    "\n",
    "log_function \\\n",
    "    .DebugReturnObjectWriteObject \\\n",
    "        (mouseIDsFourToSixCompleteMedicalStudyDataFrame)"
   ]
  },
  {
   "cell_type": "code",
   "execution_count": 68,
   "id": "94178f93",
   "metadata": {},
   "outputs": [],
   "source": [
    "mouseIDsSevenToNineCompleteMedicalStudyDataFrame \\\n",
    "    = function \\\n",
    "        .ReturnDataFrameRowsWithValue \\\n",
    "            (cleanCompleteMedicalStudyDataFrame, \n",
    "             'Mouse ID', \n",
    "             mouseIDsSevenToNineList)\n",
    "\n",
    "\n",
    "log_function \\\n",
    "    .DebugReturnObjectWriteObject \\\n",
    "        (mouseIDsSevenToNineCompleteMedicalStudyDataFrame)"
   ]
  },
  {
   "cell_type": "code",
   "execution_count": 69,
   "id": "70de0b67",
   "metadata": {},
   "outputs": [],
   "source": [
    "mouseIDsTenCompleteMedicalStudyDataFrame \\\n",
    "    = function \\\n",
    "        .ReturnDataFrameRowsWithValue \\\n",
    "            (cleanCompleteMedicalStudyDataFrame, \n",
    "             'Mouse ID', \n",
    "             mouseIDsTenList)\n",
    "\n",
    "\n",
    "log_function \\\n",
    "    .DebugReturnObjectWriteObject \\\n",
    "        (mouseIDsTenCompleteMedicalStudyDataFrame)"
   ]
  },
  {
   "cell_type": "markdown",
   "id": "c6cd6ff1",
   "metadata": {},
   "source": [
    "### **Mouse ID/Drug Regimen Information**"
   ]
  },
  {
   "cell_type": "code",
   "execution_count": 70,
   "id": "bef45332",
   "metadata": {},
   "outputs": [],
   "source": [
    "mouseIdDrugRegimenOneToThreeDataFrame \\\n",
    "    = mouseIDsOneToThreeCompleteMedicalStudyDataFrame \\\n",
    "        .groupby \\\n",
    "            (['Mouse ID',\n",
    "              'Drug Regimen']) \\\n",
    "                .size() \\\n",
    "        .reset_index()\n",
    "\n",
    "\n",
    "log_function \\\n",
    "    .DebugReturnObjectWriteObject \\\n",
    "        (mouseIdDrugRegimenOneToThreeDataFrame)"
   ]
  },
  {
   "cell_type": "code",
   "execution_count": 71,
   "id": "f5c6f097",
   "metadata": {},
   "outputs": [],
   "source": [
    "mouseIdDrugRegimenFourToSixDataFrame \\\n",
    "    = mouseIDsFourToSixCompleteMedicalStudyDataFrame \\\n",
    "        .groupby \\\n",
    "            (['Mouse ID',\n",
    "              'Drug Regimen']) \\\n",
    "                .size() \\\n",
    "        .reset_index()\n",
    "\n",
    "\n",
    "log_function \\\n",
    "    .DebugReturnObjectWriteObject \\\n",
    "        (mouseIdDrugRegimenFourToSixDataFrame)"
   ]
  },
  {
   "cell_type": "code",
   "execution_count": 72,
   "id": "9d4f7566",
   "metadata": {},
   "outputs": [],
   "source": [
    "mouseIdDrugRegimenSevenToNineDataFrame \\\n",
    "    = mouseIDsSevenToNineCompleteMedicalStudyDataFrame \\\n",
    "        .groupby \\\n",
    "            (['Mouse ID',\n",
    "              'Drug Regimen']) \\\n",
    "                .size() \\\n",
    "        .reset_index()\n",
    "\n",
    "\n",
    "log_function \\\n",
    "    .DebugReturnObjectWriteObject \\\n",
    "        (mouseIdDrugRegimenSevenToNineDataFrame)"
   ]
  },
  {
   "cell_type": "code",
   "execution_count": 73,
   "id": "3b02f77c",
   "metadata": {},
   "outputs": [],
   "source": [
    "mouseIdDrugRegimenTenDataFrame \\\n",
    "    = mouseIDsTenCompleteMedicalStudyDataFrame \\\n",
    "        .groupby \\\n",
    "            (['Mouse ID',\n",
    "              'Drug Regimen']) \\\n",
    "                .size() \\\n",
    "        .reset_index()\n",
    "\n",
    "\n",
    "log_function \\\n",
    "    .DebugReturnObjectWriteObject \\\n",
    "        (mouseIdDrugRegimenTenDataFrame)"
   ]
  },
  {
   "cell_type": "markdown",
   "id": "2472a30f",
   "metadata": {},
   "source": [
    "### **Number of Mice Vs. Drug Treatment Regimen**"
   ]
  },
  {
   "cell_type": "code",
   "execution_count": 74,
   "id": "4072e6f3",
   "metadata": {},
   "outputs": [],
   "source": [
    "miceOneToThreeVsRegimenSeries \\\n",
    "    = mouseIdDrugRegimenOneToThreeDataFrame \\\n",
    "        .groupby \\\n",
    "            ('Drug Regimen') \\\n",
    "                ['Mouse ID'] \\\n",
    "        .count()\n",
    "\n",
    "miceOneToThreeVsRegimenSeries \\\n",
    "    .name \\\n",
    "        = '1-3 Data Points'\n",
    "\n",
    "\n",
    "log_function \\\n",
    "    .DebugReturnObjectWriteObject \\\n",
    "        (miceOneToThreeVsRegimenSeries)"
   ]
  },
  {
   "cell_type": "code",
   "execution_count": 75,
   "id": "533ba701",
   "metadata": {},
   "outputs": [],
   "source": [
    "miceFourToSixVsRegimenSeries \\\n",
    "    = mouseIdDrugRegimenFourToSixDataFrame \\\n",
    "        .groupby \\\n",
    "            ('Drug Regimen') \\\n",
    "                ['Mouse ID'] \\\n",
    "        .count()\n",
    "\n",
    "miceFourToSixVsRegimenSeries \\\n",
    "    .name \\\n",
    "        = '4-6 Data Points'\n",
    "\n",
    "\n",
    "log_function \\\n",
    "    .DebugReturnObjectWriteObject \\\n",
    "        (miceFourToSixVsRegimenSeries)"
   ]
  },
  {
   "cell_type": "code",
   "execution_count": 76,
   "id": "50e5c2d0",
   "metadata": {},
   "outputs": [],
   "source": [
    "miceSevenToNineVsRegimenSeries \\\n",
    "    = mouseIdDrugRegimenSevenToNineDataFrame \\\n",
    "        .groupby \\\n",
    "            ('Drug Regimen') \\\n",
    "                ['Mouse ID'] \\\n",
    "        .count()\n",
    "\n",
    "miceSevenToNineVsRegimenSeries \\\n",
    "    .name \\\n",
    "        = '7-9 Data Points'\n",
    "\n",
    "\n",
    "log_function \\\n",
    "    .DebugReturnObjectWriteObject \\\n",
    "        (miceSevenToNineVsRegimenSeries)"
   ]
  },
  {
   "cell_type": "code",
   "execution_count": 77,
   "id": "3e6296ad",
   "metadata": {},
   "outputs": [],
   "source": [
    "miceTenVsRegimenSeries \\\n",
    "    = mouseIdDrugRegimenTenDataFrame \\\n",
    "        .groupby \\\n",
    "            ('Drug Regimen') \\\n",
    "                ['Mouse ID'] \\\n",
    "        .count()\n",
    "\n",
    "miceTenVsRegimenSeries \\\n",
    "    .name \\\n",
    "        = '10 Data Points'\n",
    "\n",
    "\n",
    "log_function \\\n",
    "    .DebugReturnObjectWriteObject \\\n",
    "        (miceTenVsRegimenSeries)"
   ]
  },
  {
   "cell_type": "markdown",
   "id": "81900078",
   "metadata": {},
   "source": [
    "### **Number of Mice Vs. Drug Treatment Regimen**"
   ]
  },
  {
   "cell_type": "code",
   "execution_count": 78,
   "id": "d2b7ecb5",
   "metadata": {},
   "outputs": [],
   "source": [
    "mouseCountVsDrugRegimenDataFrame \\\n",
    "    = pd \\\n",
    "        .concat \\\n",
    "            ([miceTenVsRegimenSeries, \n",
    "              miceSevenToNineVsRegimenSeries,\n",
    "              miceFourToSixVsRegimenSeries,\n",
    "              miceOneToThreeVsRegimenSeries], \n",
    "             axis = 1)\n",
    "\n",
    "\n",
    "log_function \\\n",
    "    .DebugReturnObjectWriteObject \\\n",
    "        (mouseCountVsDrugRegimenDataFrame)"
   ]
  },
  {
   "cell_type": "markdown",
   "id": "c0cc0bef",
   "metadata": {},
   "source": [
    "### **Display Number of Mice Vs. Drug Treatment Regimen**"
   ]
  },
  {
   "cell_type": "code",
   "execution_count": 79,
   "id": "0ca176aa",
   "metadata": {},
   "outputs": [
    {
     "data": {
      "text/html": [
       "<style type=\"text/css\">\n",
       "#T_a75a3 caption {\n",
       "  color: black;\n",
       "  font-size: 20px;\n",
       "  font-style: bold;\n",
       "  text-align: center;\n",
       "}\n",
       "#T_a75a3_row0_col0, #T_a75a3_row0_col1, #T_a75a3_row0_col2, #T_a75a3_row0_col3, #T_a75a3_row1_col0, #T_a75a3_row1_col1, #T_a75a3_row1_col2, #T_a75a3_row1_col3, #T_a75a3_row2_col0, #T_a75a3_row2_col1, #T_a75a3_row2_col2, #T_a75a3_row2_col3, #T_a75a3_row3_col0, #T_a75a3_row3_col1, #T_a75a3_row3_col2, #T_a75a3_row3_col3, #T_a75a3_row4_col0, #T_a75a3_row4_col1, #T_a75a3_row4_col2, #T_a75a3_row4_col3, #T_a75a3_row5_col0, #T_a75a3_row5_col1, #T_a75a3_row5_col2, #T_a75a3_row5_col3, #T_a75a3_row6_col0, #T_a75a3_row6_col1, #T_a75a3_row6_col2, #T_a75a3_row6_col3, #T_a75a3_row7_col0, #T_a75a3_row7_col1, #T_a75a3_row7_col2, #T_a75a3_row7_col3, #T_a75a3_row8_col0, #T_a75a3_row8_col1, #T_a75a3_row8_col2, #T_a75a3_row8_col3, #T_a75a3_row9_col0, #T_a75a3_row9_col1, #T_a75a3_row9_col2, #T_a75a3_row9_col3 {\n",
       "  text-align: center;\n",
       "  border: 1.3px solid red;\n",
       "  color: blue;\n",
       "}\n",
       "</style>\n",
       "<table id=\"T_a75a3\">\n",
       "  <caption>Table 7.3.1: Number of Mice Vs. Drug Treatment Regimen</caption>\n",
       "  <thead>\n",
       "    <tr>\n",
       "      <th class=\"blank level0\" >&nbsp;</th>\n",
       "      <th id=\"T_a75a3_level0_col0\" class=\"col_heading level0 col0\" >10 Data Points</th>\n",
       "      <th id=\"T_a75a3_level0_col1\" class=\"col_heading level0 col1\" >7-9 Data Points</th>\n",
       "      <th id=\"T_a75a3_level0_col2\" class=\"col_heading level0 col2\" >4-6 Data Points</th>\n",
       "      <th id=\"T_a75a3_level0_col3\" class=\"col_heading level0 col3\" >1-3 Data Points</th>\n",
       "    </tr>\n",
       "    <tr>\n",
       "      <th class=\"index_name level0\" >Drug Regimen</th>\n",
       "      <th class=\"blank col0\" >&nbsp;</th>\n",
       "      <th class=\"blank col1\" >&nbsp;</th>\n",
       "      <th class=\"blank col2\" >&nbsp;</th>\n",
       "      <th class=\"blank col3\" >&nbsp;</th>\n",
       "    </tr>\n",
       "  </thead>\n",
       "  <tbody>\n",
       "    <tr>\n",
       "      <th id=\"T_a75a3_level0_row0\" class=\"row_heading level0 row0\" >Capomulin</th>\n",
       "      <td id=\"T_a75a3_row0_col0\" class=\"data row0 col0\" >21</td>\n",
       "      <td id=\"T_a75a3_row0_col1\" class=\"data row0 col1\" >1</td>\n",
       "      <td id=\"T_a75a3_row0_col2\" class=\"data row0 col2\" >2</td>\n",
       "      <td id=\"T_a75a3_row0_col3\" class=\"data row0 col3\" >1</td>\n",
       "    </tr>\n",
       "    <tr>\n",
       "      <th id=\"T_a75a3_level0_row1\" class=\"row_heading level0 row1\" >Ceftamin</th>\n",
       "      <td id=\"T_a75a3_row1_col0\" class=\"data row1 col0\" >13</td>\n",
       "      <td id=\"T_a75a3_row1_col1\" class=\"data row1 col1\" >3</td>\n",
       "      <td id=\"T_a75a3_row1_col2\" class=\"data row1 col2\" >3</td>\n",
       "      <td id=\"T_a75a3_row1_col3\" class=\"data row1 col3\" >6</td>\n",
       "    </tr>\n",
       "    <tr>\n",
       "      <th id=\"T_a75a3_level0_row2\" class=\"row_heading level0 row2\" >Infubinol</th>\n",
       "      <td id=\"T_a75a3_row2_col0\" class=\"data row2 col0\" >9</td>\n",
       "      <td id=\"T_a75a3_row2_col1\" class=\"data row2 col1\" >8</td>\n",
       "      <td id=\"T_a75a3_row2_col2\" class=\"data row2 col2\" >4</td>\n",
       "      <td id=\"T_a75a3_row2_col3\" class=\"data row2 col3\" >4</td>\n",
       "    </tr>\n",
       "    <tr>\n",
       "      <th id=\"T_a75a3_level0_row3\" class=\"row_heading level0 row3\" >Ketapril</th>\n",
       "      <td id=\"T_a75a3_row3_col0\" class=\"data row3 col0\" >11</td>\n",
       "      <td id=\"T_a75a3_row3_col1\" class=\"data row3 col1\" >7</td>\n",
       "      <td id=\"T_a75a3_row3_col2\" class=\"data row3 col2\" >1</td>\n",
       "      <td id=\"T_a75a3_row3_col3\" class=\"data row3 col3\" >6</td>\n",
       "    </tr>\n",
       "    <tr>\n",
       "      <th id=\"T_a75a3_level0_row4\" class=\"row_heading level0 row4\" >Naftisol</th>\n",
       "      <td id=\"T_a75a3_row4_col0\" class=\"data row4 col0\" >13</td>\n",
       "      <td id=\"T_a75a3_row4_col1\" class=\"data row4 col1\" >2</td>\n",
       "      <td id=\"T_a75a3_row4_col2\" class=\"data row4 col2\" >6</td>\n",
       "      <td id=\"T_a75a3_row4_col3\" class=\"data row4 col3\" >4</td>\n",
       "    </tr>\n",
       "    <tr>\n",
       "      <th id=\"T_a75a3_level0_row5\" class=\"row_heading level0 row5\" >Placebo</th>\n",
       "      <td id=\"T_a75a3_row5_col0\" class=\"data row5 col0\" >11</td>\n",
       "      <td id=\"T_a75a3_row5_col1\" class=\"data row5 col1\" >4</td>\n",
       "      <td id=\"T_a75a3_row5_col2\" class=\"data row5 col2\" >5</td>\n",
       "      <td id=\"T_a75a3_row5_col3\" class=\"data row5 col3\" >5</td>\n",
       "    </tr>\n",
       "    <tr>\n",
       "      <th id=\"T_a75a3_level0_row6\" class=\"row_heading level0 row6\" >Propriva</th>\n",
       "      <td id=\"T_a75a3_row6_col0\" class=\"data row6 col0\" >7</td>\n",
       "      <td id=\"T_a75a3_row6_col1\" class=\"data row6 col1\" >5</td>\n",
       "      <td id=\"T_a75a3_row6_col2\" class=\"data row6 col2\" >3</td>\n",
       "      <td id=\"T_a75a3_row6_col3\" class=\"data row6 col3\" >9</td>\n",
       "    </tr>\n",
       "    <tr>\n",
       "      <th id=\"T_a75a3_level0_row7\" class=\"row_heading level0 row7\" >Ramicane</th>\n",
       "      <td id=\"T_a75a3_row7_col0\" class=\"data row7 col0\" >20</td>\n",
       "      <td id=\"T_a75a3_row7_col1\" class=\"data row7 col1\" >3</td>\n",
       "      <td id=\"T_a75a3_row7_col2\" class=\"data row7 col2\" >1</td>\n",
       "      <td id=\"T_a75a3_row7_col3\" class=\"data row7 col3\" >1</td>\n",
       "    </tr>\n",
       "    <tr>\n",
       "      <th id=\"T_a75a3_level0_row8\" class=\"row_heading level0 row8\" >Stelasyn</th>\n",
       "      <td id=\"T_a75a3_row8_col0\" class=\"data row8 col0\" >11</td>\n",
       "      <td id=\"T_a75a3_row8_col1\" class=\"data row8 col1\" >6</td>\n",
       "      <td id=\"T_a75a3_row8_col2\" class=\"data row8 col2\" >4</td>\n",
       "      <td id=\"T_a75a3_row8_col3\" class=\"data row8 col3\" >3</td>\n",
       "    </tr>\n",
       "    <tr>\n",
       "      <th id=\"T_a75a3_level0_row9\" class=\"row_heading level0 row9\" >Zoniferol</th>\n",
       "      <td id=\"T_a75a3_row9_col0\" class=\"data row9 col0\" >14</td>\n",
       "      <td id=\"T_a75a3_row9_col1\" class=\"data row9 col1\" >1</td>\n",
       "      <td id=\"T_a75a3_row9_col2\" class=\"data row9 col2\" >6</td>\n",
       "      <td id=\"T_a75a3_row9_col3\" class=\"data row9 col3\" >4</td>\n",
       "    </tr>\n",
       "  </tbody>\n",
       "</table>\n"
      ],
      "text/plain": [
       "<pandas.io.formats.style.Styler at 0x14d0e6a10>"
      ]
     },
     "execution_count": 79,
     "metadata": {},
     "output_type": "execute_result"
    }
   ],
   "source": [
    "function \\\n",
    "    .ReturnStylerObjectStandardFormat \\\n",
    "        (mouseCountVsDrugRegimenDataFrame,\n",
    "         'Table 7.3.1: Number of Mice Vs. Drug Treatment Regimen',\n",
    "         0, False)"
   ]
  },
  {
   "cell_type": "code",
   "execution_count": 80,
   "id": "80d7a9c2",
   "metadata": {},
   "outputs": [
    {
     "data": {
      "image/png": "[encoded data removed]",
      "text/plain": [
       "<Figure size 640x480 with 1 Axes>"
      ]
     },
     "metadata": {},
     "output_type": "display_data"
    }
   ],
   "source": [
    "subroutine \\\n",
    "    .DisplayStackedBarChartFromDataFrame \\\n",
    "        (mouseCountVsDrugRegimenDataFrame,\n",
    "         'Figure 7.3.1: Number of Mice Vs. Drug Treatment Regimen',\n",
    "         'Drug Treatment Regimen',\n",
    "         'Number of Mice')"
   ]
  },
  {
   "cell_type": "code",
   "execution_count": 81,
   "id": "7694c18c",
   "metadata": {},
   "outputs": [],
   "source": [
    "#log_subroutine \\\n",
    "#    .EndProgramExecution()"
   ]
  },
  {
   "cell_type": "code",
   "execution_count": null,
   "id": "9c27244a",
   "metadata": {},
   "outputs": [],
   "source": []
  }
 ],
 "metadata": {
  "kernelspec": {
   "display_name": "Python 3 (ipykernel)",
   "language": "python",
   "name": "python3"
  },
  "language_info": {
   "codemirror_mode": {
    "name": "ipython",
    "version": 3
   },
   "file_extension": ".py",
   "mimetype": "text/x-python",
   "name": "python",
   "nbconvert_exporter": "python",
   "pygments_lexer": "ipython3",
   "version": "3.11.4"
  }
 },
 "nbformat": 4,
 "nbformat_minor": 5
}
