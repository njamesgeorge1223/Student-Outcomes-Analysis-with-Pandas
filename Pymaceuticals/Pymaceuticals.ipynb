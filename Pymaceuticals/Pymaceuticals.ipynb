{
 "cells": [
  {
   "cell_type": "markdown",
   "id": "0a368bbe",
   "metadata": {},
   "source": [
    "# Pymaceuticals Inc.\n",
    "---\n",
    "\n",
    "### Analysis\n",
    "\n",
    "- Add your analysis here.\n",
    " "
   ]
  },
  {
   "cell_type": "markdown",
   "id": "f11a5326",
   "metadata": {},
   "source": [
    "### **Dependencies**"
   ]
  },
  {
   "cell_type": "code",
   "execution_count": 1,
   "id": "bfa45f8e",
   "metadata": {},
   "outputs": [],
   "source": [
    "#*******************************************************************************************\n",
    " #\n",
    " #  File Name:  Pymaceuticals.ipynb\n",
    " #\n",
    " #  File Description:\n",
    " #      This interactive Python notebook, Pymaceuticals.ipynb, reads two csv files,\n",
    " #      Mouse_metadata.csv and Study_results.csv, in the Resources folder, which \n",
    " #      contain data about a pharmaceutical company's most recent animal study. \n",
    " #      In this study, two hundred forty-nine mice, who were identified with SCC \n",
    " #      tumors, received treatment with a range of drug regimens. Over the course \n",
    " #      of 45 days, tumor development was observed and measured. The purpose of \n",
    " #      this study was to compare the performance of Pymaceuticals’ drug of interest, \n",
    " #      Capomulin, against the other treatment regimens.  This Python script generates \n",
    " #      all of the tables and figures needed for a technical report of this clinical \n",
    " #      study.\n",
    " #\n",
    " #\n",
    " #  Date            Description                             Programmer\n",
    " #  ----------      ------------------------------------    ------------------\n",
    " #  08/18/2023      Initial Development                     N. James George\n",
    " #\n",
    " #******************************************************************************************/\n",
    "\n",
    "import PymaceuticalsFunctions as local_function\n",
    "import PymaceuticalsSubRoutines as local_subroutine\n",
    "\n",
    "import PyConstants as constant\n",
    "import PyFunctions as function\n",
    "import PyLogConstants as log_constant\n",
    "import PyLogFunctions as log_function\n",
    "import PyLogSubRoutines as log_subroutine\n",
    "import PySubroutines as subroutine\n",
    "\n",
    "import numpy as np\n",
    "import pandas as pd"
   ]
  },
  {
   "cell_type": "markdown",
   "id": "c8d4cfdc",
   "metadata": {},
   "source": [
    "### **Local Constants**"
   ]
  },
  {
   "cell_type": "code",
   "execution_count": 2,
   "id": "1574e45d",
   "metadata": {},
   "outputs": [
    {
     "name": "stdout",
     "output_type": "stream",
     "text": [
      "Program execution begins...\n",
      "\n"
     ]
    }
   ],
   "source": [
    "CONSTANT_LOCAL_FILE_NAME \\\n",
    "    = 'Pymaceuticals.ipynb'\n",
    "\n",
    "CONSTANT_MOUSE_INFO_CSV_FILE_PATH \\\n",
    "    = './Resources/MouseMetaData.csv'\n",
    "\n",
    "CONSTANT_MEDICAL_STUDY_CSV_FILE_PATH \\\n",
    "    = './Resources/StudyResults.csv'\n",
    "\n",
    "\n",
    "log_subroutine \\\n",
    "    .SetLogMode \\\n",
    "        (False)\n",
    "\n",
    "log_subroutine \\\n",
    "    .SetDebugMode \\\n",
    "        (False)\n",
    "\n",
    "log_subroutine \\\n",
    "    .SetImageMode \\\n",
    "        (False)\n",
    "\n",
    "\n",
    "log_subroutine \\\n",
    "    .BeginProgramExecution \\\n",
    "        ('Pymaceuticals')"
   ]
  },
  {
   "cell_type": "markdown",
   "id": "6fd0d4b9",
   "metadata": {},
   "source": [
    "# <br> **Section 1: Data Preparation**"
   ]
  },
  {
   "cell_type": "markdown",
   "id": "6a2bef29",
   "metadata": {},
   "source": [
    "### **Read CSV Files into DataFrames**"
   ]
  },
  {
   "cell_type": "code",
   "execution_count": 3,
   "id": "1db110f2",
   "metadata": {},
   "outputs": [],
   "source": [
    "mouseInfoDataFrame \\\n",
    "    = function. \\\n",
    "        ReturnCSVFileAsDataFrame \\\n",
    "            (CONSTANT_MOUSE_INFO_CSV_FILE_PATH)\n",
    "\n",
    "\n",
    "log_function \\\n",
    "    .DebugReturnObjectWriteObject \\\n",
    "        (mouseInfoDataFrame)"
   ]
  },
  {
   "cell_type": "code",
   "execution_count": 4,
   "id": "8b6dea00",
   "metadata": {},
   "outputs": [],
   "source": [
    "medicalStudyDataFrame \\\n",
    "    = function. \\\n",
    "        ReturnCSVFileAsDataFrame \\\n",
    "            (CONSTANT_MEDICAL_STUDY_CSV_FILE_PATH)\n",
    "\n",
    "\n",
    "log_function \\\n",
    "    .DebugReturnObjectWriteObject \\\n",
    "        (medicalStudyDataFrame)"
   ]
  },
  {
   "cell_type": "markdown",
   "id": "73bc6ac5",
   "metadata": {},
   "source": [
    "###  **Merge DataFrames**"
   ]
  },
  {
   "cell_type": "code",
   "execution_count": 5,
   "id": "9a79daa8",
   "metadata": {},
   "outputs": [],
   "source": [
    "completeMedicalStudyDataFrame \\\n",
    "    = function \\\n",
    "        .ReturnMergedDataFrame \\\n",
    "            (mouseInfoDataFrame,\n",
    "             medicalStudyDataFrame,\n",
    "             'left',\n",
    "             'Mouse ID')\n",
    "\n",
    "\n",
    "log_function \\\n",
    "    .DebugReturnObjectWriteObject \\\n",
    "        (completeMedicalStudyDataFrame)"
   ]
  },
  {
   "cell_type": "markdown",
   "id": "114d8c64",
   "metadata": {},
   "source": [
    "### **Display Merged DataFrame Subset**"
   ]
  },
  {
   "cell_type": "code",
   "execution_count": 6,
   "id": "170229b8",
   "metadata": {},
   "outputs": [
    {
     "data": {
      "text/html": [
       "<style type=\"text/css\">\n",
       "#T_3427b caption {\n",
       "  color: black;\n",
       "  font-size: 20px;\n",
       "  font-style: bold;\n",
       "  text-align: center;\n",
       "}\n",
       "#T_3427b_row0_col0, #T_3427b_row0_col1, #T_3427b_row0_col2, #T_3427b_row0_col3, #T_3427b_row0_col4, #T_3427b_row0_col5, #T_3427b_row0_col6, #T_3427b_row0_col7, #T_3427b_row1_col0, #T_3427b_row1_col1, #T_3427b_row1_col2, #T_3427b_row1_col3, #T_3427b_row1_col4, #T_3427b_row1_col5, #T_3427b_row1_col6, #T_3427b_row1_col7, #T_3427b_row2_col0, #T_3427b_row2_col1, #T_3427b_row2_col2, #T_3427b_row2_col3, #T_3427b_row2_col4, #T_3427b_row2_col5, #T_3427b_row2_col6, #T_3427b_row2_col7, #T_3427b_row3_col0, #T_3427b_row3_col1, #T_3427b_row3_col2, #T_3427b_row3_col3, #T_3427b_row3_col4, #T_3427b_row3_col5, #T_3427b_row3_col6, #T_3427b_row3_col7, #T_3427b_row4_col0, #T_3427b_row4_col1, #T_3427b_row4_col2, #T_3427b_row4_col3, #T_3427b_row4_col4, #T_3427b_row4_col5, #T_3427b_row4_col6, #T_3427b_row4_col7 {\n",
       "  text-align: center;\n",
       "  border: 1.3px solid red;\n",
       "  color: blue;\n",
       "}\n",
       "</style>\n",
       "<table id=\"T_3427b\">\n",
       "  <caption>Table 1.1: Complete Medical Study Data</caption>\n",
       "  <thead>\n",
       "    <tr>\n",
       "      <th id=\"T_3427b_level0_col0\" class=\"col_heading level0 col0\" >Mouse ID</th>\n",
       "      <th id=\"T_3427b_level0_col1\" class=\"col_heading level0 col1\" >Drug Regimen</th>\n",
       "      <th id=\"T_3427b_level0_col2\" class=\"col_heading level0 col2\" >Sex</th>\n",
       "      <th id=\"T_3427b_level0_col3\" class=\"col_heading level0 col3\" >Age_months</th>\n",
       "      <th id=\"T_3427b_level0_col4\" class=\"col_heading level0 col4\" >Weight (g)</th>\n",
       "      <th id=\"T_3427b_level0_col5\" class=\"col_heading level0 col5\" >Timepoint</th>\n",
       "      <th id=\"T_3427b_level0_col6\" class=\"col_heading level0 col6\" >Tumor Volume (mm3)</th>\n",
       "      <th id=\"T_3427b_level0_col7\" class=\"col_heading level0 col7\" >Metastatic Sites</th>\n",
       "    </tr>\n",
       "  </thead>\n",
       "  <tbody>\n",
       "    <tr>\n",
       "      <td id=\"T_3427b_row0_col0\" class=\"data row0 col0\" >k403</td>\n",
       "      <td id=\"T_3427b_row0_col1\" class=\"data row0 col1\" >Ramicane</td>\n",
       "      <td id=\"T_3427b_row0_col2\" class=\"data row0 col2\" >Male</td>\n",
       "      <td id=\"T_3427b_row0_col3\" class=\"data row0 col3\" >21</td>\n",
       "      <td id=\"T_3427b_row0_col4\" class=\"data row0 col4\" >16.00</td>\n",
       "      <td id=\"T_3427b_row0_col5\" class=\"data row0 col5\" >0</td>\n",
       "      <td id=\"T_3427b_row0_col6\" class=\"data row0 col6\" >45.00</td>\n",
       "      <td id=\"T_3427b_row0_col7\" class=\"data row0 col7\" >0</td>\n",
       "    </tr>\n",
       "    <tr>\n",
       "      <td id=\"T_3427b_row1_col0\" class=\"data row1 col0\" >k403</td>\n",
       "      <td id=\"T_3427b_row1_col1\" class=\"data row1 col1\" >Ramicane</td>\n",
       "      <td id=\"T_3427b_row1_col2\" class=\"data row1 col2\" >Male</td>\n",
       "      <td id=\"T_3427b_row1_col3\" class=\"data row1 col3\" >21</td>\n",
       "      <td id=\"T_3427b_row1_col4\" class=\"data row1 col4\" >16.00</td>\n",
       "      <td id=\"T_3427b_row1_col5\" class=\"data row1 col5\" >5</td>\n",
       "      <td id=\"T_3427b_row1_col6\" class=\"data row1 col6\" >38.83</td>\n",
       "      <td id=\"T_3427b_row1_col7\" class=\"data row1 col7\" >0</td>\n",
       "    </tr>\n",
       "    <tr>\n",
       "      <td id=\"T_3427b_row2_col0\" class=\"data row2 col0\" >k403</td>\n",
       "      <td id=\"T_3427b_row2_col1\" class=\"data row2 col1\" >Ramicane</td>\n",
       "      <td id=\"T_3427b_row2_col2\" class=\"data row2 col2\" >Male</td>\n",
       "      <td id=\"T_3427b_row2_col3\" class=\"data row2 col3\" >21</td>\n",
       "      <td id=\"T_3427b_row2_col4\" class=\"data row2 col4\" >16.00</td>\n",
       "      <td id=\"T_3427b_row2_col5\" class=\"data row2 col5\" >10</td>\n",
       "      <td id=\"T_3427b_row2_col6\" class=\"data row2 col6\" >35.01</td>\n",
       "      <td id=\"T_3427b_row2_col7\" class=\"data row2 col7\" >1</td>\n",
       "    </tr>\n",
       "    <tr>\n",
       "      <td id=\"T_3427b_row3_col0\" class=\"data row3 col0\" >k403</td>\n",
       "      <td id=\"T_3427b_row3_col1\" class=\"data row3 col1\" >Ramicane</td>\n",
       "      <td id=\"T_3427b_row3_col2\" class=\"data row3 col2\" >Male</td>\n",
       "      <td id=\"T_3427b_row3_col3\" class=\"data row3 col3\" >21</td>\n",
       "      <td id=\"T_3427b_row3_col4\" class=\"data row3 col4\" >16.00</td>\n",
       "      <td id=\"T_3427b_row3_col5\" class=\"data row3 col5\" >15</td>\n",
       "      <td id=\"T_3427b_row3_col6\" class=\"data row3 col6\" >34.22</td>\n",
       "      <td id=\"T_3427b_row3_col7\" class=\"data row3 col7\" >1</td>\n",
       "    </tr>\n",
       "    <tr>\n",
       "      <td id=\"T_3427b_row4_col0\" class=\"data row4 col0\" >k403</td>\n",
       "      <td id=\"T_3427b_row4_col1\" class=\"data row4 col1\" >Ramicane</td>\n",
       "      <td id=\"T_3427b_row4_col2\" class=\"data row4 col2\" >Male</td>\n",
       "      <td id=\"T_3427b_row4_col3\" class=\"data row4 col3\" >21</td>\n",
       "      <td id=\"T_3427b_row4_col4\" class=\"data row4 col4\" >16.00</td>\n",
       "      <td id=\"T_3427b_row4_col5\" class=\"data row4 col5\" >20</td>\n",
       "      <td id=\"T_3427b_row4_col6\" class=\"data row4 col6\" >33.00</td>\n",
       "      <td id=\"T_3427b_row4_col7\" class=\"data row4 col7\" >1</td>\n",
       "    </tr>\n",
       "  </tbody>\n",
       "</table>\n"
      ],
      "text/plain": [
       "<pandas.io.formats.style.Styler at 0x14bc63bd0>"
      ]
     },
     "execution_count": 6,
     "metadata": {},
     "output_type": "execute_result"
    }
   ],
   "source": [
    "local_function \\\n",
    "    .ReturnFormattedCompleteMedicalStudyStylerObject \\\n",
    "        (function \\\n",
    "             .ReturnStylerObjectStandardFormat \\\n",
    "                (completeMedicalStudyDataFrame.head(), ''),\n",
    "         'Table 1.1: Complete Medical Study Data')"
   ]
  },
  {
   "cell_type": "markdown",
   "id": "bce2525d",
   "metadata": {},
   "source": [
    "### **Display the Number of Unique Mouse IDs in the Data**"
   ]
  },
  {
   "cell_type": "code",
   "execution_count": 7,
   "id": "33895d60",
   "metadata": {},
   "outputs": [
    {
     "name": "stdout",
     "output_type": "stream",
     "text": [
      "The number of unique mouse IDs in the complete medical study DataFrame is 249.\n"
     ]
    }
   ],
   "source": [
    "numberOfUniqueMouseIDsIntegerVariable \\\n",
    "    = function \\\n",
    "        .ReturnNumberOfUniqueElementsInColumn \\\n",
    "            (completeMedicalStudyDataFrame, \n",
    "             'Mouse ID')\n",
    "\n",
    "log_subroutine \\\n",
    "    .PrintAndLogWriteText \\\n",
    "        (f'The number of unique mouse IDs in the complete medical study DataFrame is ' \\\n",
    "         + f\"{numberOfUniqueMouseIDsIntegerVariable}.\")"
   ]
  },
  {
   "cell_type": "markdown",
   "id": "40633082",
   "metadata": {},
   "source": [
    "### **Check for Any Mouse ID with Duplicate Time Points**"
   ]
  },
  {
   "cell_type": "code",
   "execution_count": 8,
   "id": "cabc751e",
   "metadata": {},
   "outputs": [],
   "source": [
    "duplicateMouseIDDataFrame \\\n",
    "    = function \\\n",
    "        .ReturnDuplicateRowsAsDataFrame \\\n",
    "            (completeMedicalStudyDataFrame,\n",
    "             ['Mouse ID', 'Timepoint'])\n",
    "\n",
    "\n",
    "log_function \\\n",
    "    .DebugReturnObjectWriteObject \\\n",
    "        (duplicateMouseIDDataFrame)"
   ]
  },
  {
   "cell_type": "markdown",
   "id": "0469bc0d",
   "metadata": {},
   "source": [
    "### **Display the Data Associated With that Mouse ID**"
   ]
  },
  {
   "cell_type": "code",
   "execution_count": 9,
   "id": "d647a60e",
   "metadata": {},
   "outputs": [
    {
     "data": {
      "text/html": [
       "<style type=\"text/css\">\n",
       "#T_eb691 caption {\n",
       "  color: black;\n",
       "  font-size: 20px;\n",
       "  font-style: bold;\n",
       "  text-align: center;\n",
       "}\n",
       "#T_eb691_row0_col0, #T_eb691_row0_col1, #T_eb691_row0_col2, #T_eb691_row0_col3, #T_eb691_row0_col4, #T_eb691_row0_col5, #T_eb691_row0_col6, #T_eb691_row0_col7, #T_eb691_row1_col0, #T_eb691_row1_col1, #T_eb691_row1_col2, #T_eb691_row1_col3, #T_eb691_row1_col4, #T_eb691_row1_col5, #T_eb691_row1_col6, #T_eb691_row1_col7, #T_eb691_row2_col0, #T_eb691_row2_col1, #T_eb691_row2_col2, #T_eb691_row2_col3, #T_eb691_row2_col4, #T_eb691_row2_col5, #T_eb691_row2_col6, #T_eb691_row2_col7, #T_eb691_row3_col0, #T_eb691_row3_col1, #T_eb691_row3_col2, #T_eb691_row3_col3, #T_eb691_row3_col4, #T_eb691_row3_col5, #T_eb691_row3_col6, #T_eb691_row3_col7, #T_eb691_row4_col0, #T_eb691_row4_col1, #T_eb691_row4_col2, #T_eb691_row4_col3, #T_eb691_row4_col4, #T_eb691_row4_col5, #T_eb691_row4_col6, #T_eb691_row4_col7 {\n",
       "  text-align: center;\n",
       "  border: 1.3px solid red;\n",
       "  color: blue;\n",
       "}\n",
       "</style>\n",
       "<table id=\"T_eb691\">\n",
       "  <caption>Table 1.2: Duplicate Mouse IDs and Timepoints in Complete Medical Study</caption>\n",
       "  <thead>\n",
       "    <tr>\n",
       "      <th id=\"T_eb691_level0_col0\" class=\"col_heading level0 col0\" >Mouse ID</th>\n",
       "      <th id=\"T_eb691_level0_col1\" class=\"col_heading level0 col1\" >Drug Regimen</th>\n",
       "      <th id=\"T_eb691_level0_col2\" class=\"col_heading level0 col2\" >Sex</th>\n",
       "      <th id=\"T_eb691_level0_col3\" class=\"col_heading level0 col3\" >Age_months</th>\n",
       "      <th id=\"T_eb691_level0_col4\" class=\"col_heading level0 col4\" >Weight (g)</th>\n",
       "      <th id=\"T_eb691_level0_col5\" class=\"col_heading level0 col5\" >Timepoint</th>\n",
       "      <th id=\"T_eb691_level0_col6\" class=\"col_heading level0 col6\" >Tumor Volume (mm3)</th>\n",
       "      <th id=\"T_eb691_level0_col7\" class=\"col_heading level0 col7\" >Metastatic Sites</th>\n",
       "    </tr>\n",
       "  </thead>\n",
       "  <tbody>\n",
       "    <tr>\n",
       "      <td id=\"T_eb691_row0_col0\" class=\"data row0 col0\" >g989</td>\n",
       "      <td id=\"T_eb691_row0_col1\" class=\"data row0 col1\" >Propriva</td>\n",
       "      <td id=\"T_eb691_row0_col2\" class=\"data row0 col2\" >Female</td>\n",
       "      <td id=\"T_eb691_row0_col3\" class=\"data row0 col3\" >21</td>\n",
       "      <td id=\"T_eb691_row0_col4\" class=\"data row0 col4\" >26.00</td>\n",
       "      <td id=\"T_eb691_row0_col5\" class=\"data row0 col5\" >0</td>\n",
       "      <td id=\"T_eb691_row0_col6\" class=\"data row0 col6\" >45.00</td>\n",
       "      <td id=\"T_eb691_row0_col7\" class=\"data row0 col7\" >0</td>\n",
       "    </tr>\n",
       "    <tr>\n",
       "      <td id=\"T_eb691_row1_col0\" class=\"data row1 col0\" >g989</td>\n",
       "      <td id=\"T_eb691_row1_col1\" class=\"data row1 col1\" >Propriva</td>\n",
       "      <td id=\"T_eb691_row1_col2\" class=\"data row1 col2\" >Female</td>\n",
       "      <td id=\"T_eb691_row1_col3\" class=\"data row1 col3\" >21</td>\n",
       "      <td id=\"T_eb691_row1_col4\" class=\"data row1 col4\" >26.00</td>\n",
       "      <td id=\"T_eb691_row1_col5\" class=\"data row1 col5\" >5</td>\n",
       "      <td id=\"T_eb691_row1_col6\" class=\"data row1 col6\" >47.57</td>\n",
       "      <td id=\"T_eb691_row1_col7\" class=\"data row1 col7\" >0</td>\n",
       "    </tr>\n",
       "    <tr>\n",
       "      <td id=\"T_eb691_row2_col0\" class=\"data row2 col0\" >g989</td>\n",
       "      <td id=\"T_eb691_row2_col1\" class=\"data row2 col1\" >Propriva</td>\n",
       "      <td id=\"T_eb691_row2_col2\" class=\"data row2 col2\" >Female</td>\n",
       "      <td id=\"T_eb691_row2_col3\" class=\"data row2 col3\" >21</td>\n",
       "      <td id=\"T_eb691_row2_col4\" class=\"data row2 col4\" >26.00</td>\n",
       "      <td id=\"T_eb691_row2_col5\" class=\"data row2 col5\" >10</td>\n",
       "      <td id=\"T_eb691_row2_col6\" class=\"data row2 col6\" >49.88</td>\n",
       "      <td id=\"T_eb691_row2_col7\" class=\"data row2 col7\" >0</td>\n",
       "    </tr>\n",
       "    <tr>\n",
       "      <td id=\"T_eb691_row3_col0\" class=\"data row3 col0\" >g989</td>\n",
       "      <td id=\"T_eb691_row3_col1\" class=\"data row3 col1\" >Propriva</td>\n",
       "      <td id=\"T_eb691_row3_col2\" class=\"data row3 col2\" >Female</td>\n",
       "      <td id=\"T_eb691_row3_col3\" class=\"data row3 col3\" >21</td>\n",
       "      <td id=\"T_eb691_row3_col4\" class=\"data row3 col4\" >26.00</td>\n",
       "      <td id=\"T_eb691_row3_col5\" class=\"data row3 col5\" >15</td>\n",
       "      <td id=\"T_eb691_row3_col6\" class=\"data row3 col6\" >53.44</td>\n",
       "      <td id=\"T_eb691_row3_col7\" class=\"data row3 col7\" >0</td>\n",
       "    </tr>\n",
       "    <tr>\n",
       "      <td id=\"T_eb691_row4_col0\" class=\"data row4 col0\" >g989</td>\n",
       "      <td id=\"T_eb691_row4_col1\" class=\"data row4 col1\" >Propriva</td>\n",
       "      <td id=\"T_eb691_row4_col2\" class=\"data row4 col2\" >Female</td>\n",
       "      <td id=\"T_eb691_row4_col3\" class=\"data row4 col3\" >21</td>\n",
       "      <td id=\"T_eb691_row4_col4\" class=\"data row4 col4\" >26.00</td>\n",
       "      <td id=\"T_eb691_row4_col5\" class=\"data row4 col5\" >20</td>\n",
       "      <td id=\"T_eb691_row4_col6\" class=\"data row4 col6\" >54.66</td>\n",
       "      <td id=\"T_eb691_row4_col7\" class=\"data row4 col7\" >1</td>\n",
       "    </tr>\n",
       "  </tbody>\n",
       "</table>\n"
      ],
      "text/plain": [
       "<pandas.io.formats.style.Styler at 0x14c453f90>"
      ]
     },
     "execution_count": 9,
     "metadata": {},
     "output_type": "execute_result"
    }
   ],
   "source": [
    "local_function \\\n",
    "    .ReturnFormattedCompleteMedicalStudyStylerObject \\\n",
    "        (function \\\n",
    "             .ReturnStylerObjectStandardFormat \\\n",
    "                (duplicateMouseIDDataFrame, ''),\n",
    "         'Table 1.2: Duplicate Mouse IDs and Timepoints in Complete Medical Study')"
   ]
  },
  {
   "cell_type": "code",
   "execution_count": 10,
   "id": "5b689e78",
   "metadata": {},
   "outputs": [],
   "source": [
    "duplicateMouseIDsList \\\n",
    "    = duplicateMouseIDDataFrame \\\n",
    "        ['Mouse ID'] \\\n",
    "            .unique() \\\n",
    "                .tolist()\n",
    "\n",
    "\n",
    "log_function \\\n",
    "    .DebugReturnObjectWriteObject \\\n",
    "        (duplicateMouseIDsList)"
   ]
  },
  {
   "cell_type": "code",
   "execution_count": 11,
   "id": "eab58928",
   "metadata": {},
   "outputs": [
    {
     "data": {
      "text/html": [
       "<style type=\"text/css\">\n",
       "#T_9f2a8 caption {\n",
       "  color: black;\n",
       "  font-size: 20px;\n",
       "  font-style: bold;\n",
       "  text-align: center;\n",
       "}\n",
       "#T_9f2a8_row0_col0, #T_9f2a8_row0_col1, #T_9f2a8_row0_col2, #T_9f2a8_row0_col3, #T_9f2a8_row0_col4, #T_9f2a8_row0_col5, #T_9f2a8_row0_col6, #T_9f2a8_row0_col7, #T_9f2a8_row1_col0, #T_9f2a8_row1_col1, #T_9f2a8_row1_col2, #T_9f2a8_row1_col3, #T_9f2a8_row1_col4, #T_9f2a8_row1_col5, #T_9f2a8_row1_col6, #T_9f2a8_row1_col7, #T_9f2a8_row2_col0, #T_9f2a8_row2_col1, #T_9f2a8_row2_col2, #T_9f2a8_row2_col3, #T_9f2a8_row2_col4, #T_9f2a8_row2_col5, #T_9f2a8_row2_col6, #T_9f2a8_row2_col7, #T_9f2a8_row3_col0, #T_9f2a8_row3_col1, #T_9f2a8_row3_col2, #T_9f2a8_row3_col3, #T_9f2a8_row3_col4, #T_9f2a8_row3_col5, #T_9f2a8_row3_col6, #T_9f2a8_row3_col7, #T_9f2a8_row4_col0, #T_9f2a8_row4_col1, #T_9f2a8_row4_col2, #T_9f2a8_row4_col3, #T_9f2a8_row4_col4, #T_9f2a8_row4_col5, #T_9f2a8_row4_col6, #T_9f2a8_row4_col7, #T_9f2a8_row5_col0, #T_9f2a8_row5_col1, #T_9f2a8_row5_col2, #T_9f2a8_row5_col3, #T_9f2a8_row5_col4, #T_9f2a8_row5_col5, #T_9f2a8_row5_col6, #T_9f2a8_row5_col7, #T_9f2a8_row6_col0, #T_9f2a8_row6_col1, #T_9f2a8_row6_col2, #T_9f2a8_row6_col3, #T_9f2a8_row6_col4, #T_9f2a8_row6_col5, #T_9f2a8_row6_col6, #T_9f2a8_row6_col7, #T_9f2a8_row7_col0, #T_9f2a8_row7_col1, #T_9f2a8_row7_col2, #T_9f2a8_row7_col3, #T_9f2a8_row7_col4, #T_9f2a8_row7_col5, #T_9f2a8_row7_col6, #T_9f2a8_row7_col7, #T_9f2a8_row8_col0, #T_9f2a8_row8_col1, #T_9f2a8_row8_col2, #T_9f2a8_row8_col3, #T_9f2a8_row8_col4, #T_9f2a8_row8_col5, #T_9f2a8_row8_col6, #T_9f2a8_row8_col7, #T_9f2a8_row9_col0, #T_9f2a8_row9_col1, #T_9f2a8_row9_col2, #T_9f2a8_row9_col3, #T_9f2a8_row9_col4, #T_9f2a8_row9_col5, #T_9f2a8_row9_col6, #T_9f2a8_row9_col7, #T_9f2a8_row10_col0, #T_9f2a8_row10_col1, #T_9f2a8_row10_col2, #T_9f2a8_row10_col3, #T_9f2a8_row10_col4, #T_9f2a8_row10_col5, #T_9f2a8_row10_col6, #T_9f2a8_row10_col7, #T_9f2a8_row11_col0, #T_9f2a8_row11_col1, #T_9f2a8_row11_col2, #T_9f2a8_row11_col3, #T_9f2a8_row11_col4, #T_9f2a8_row11_col5, #T_9f2a8_row11_col6, #T_9f2a8_row11_col7, #T_9f2a8_row12_col0, #T_9f2a8_row12_col1, #T_9f2a8_row12_col2, #T_9f2a8_row12_col3, #T_9f2a8_row12_col4, #T_9f2a8_row12_col5, #T_9f2a8_row12_col6, #T_9f2a8_row12_col7 {\n",
       "  text-align: center;\n",
       "  border: 1.3px solid red;\n",
       "  color: blue;\n",
       "}\n",
       "</style>\n",
       "<table id=\"T_9f2a8\">\n",
       "  <caption>Table 1.3: Rows with Duplicate Mouse IDs in Complete Medical Study</caption>\n",
       "  <thead>\n",
       "    <tr>\n",
       "      <th id=\"T_9f2a8_level0_col0\" class=\"col_heading level0 col0\" >Mouse ID</th>\n",
       "      <th id=\"T_9f2a8_level0_col1\" class=\"col_heading level0 col1\" >Drug Regimen</th>\n",
       "      <th id=\"T_9f2a8_level0_col2\" class=\"col_heading level0 col2\" >Sex</th>\n",
       "      <th id=\"T_9f2a8_level0_col3\" class=\"col_heading level0 col3\" >Age_months</th>\n",
       "      <th id=\"T_9f2a8_level0_col4\" class=\"col_heading level0 col4\" >Weight (g)</th>\n",
       "      <th id=\"T_9f2a8_level0_col5\" class=\"col_heading level0 col5\" >Timepoint</th>\n",
       "      <th id=\"T_9f2a8_level0_col6\" class=\"col_heading level0 col6\" >Tumor Volume (mm3)</th>\n",
       "      <th id=\"T_9f2a8_level0_col7\" class=\"col_heading level0 col7\" >Metastatic Sites</th>\n",
       "    </tr>\n",
       "  </thead>\n",
       "  <tbody>\n",
       "    <tr>\n",
       "      <td id=\"T_9f2a8_row0_col0\" class=\"data row0 col0\" >g989</td>\n",
       "      <td id=\"T_9f2a8_row0_col1\" class=\"data row0 col1\" >Propriva</td>\n",
       "      <td id=\"T_9f2a8_row0_col2\" class=\"data row0 col2\" >Female</td>\n",
       "      <td id=\"T_9f2a8_row0_col3\" class=\"data row0 col3\" >21</td>\n",
       "      <td id=\"T_9f2a8_row0_col4\" class=\"data row0 col4\" >26.00</td>\n",
       "      <td id=\"T_9f2a8_row0_col5\" class=\"data row0 col5\" >0</td>\n",
       "      <td id=\"T_9f2a8_row0_col6\" class=\"data row0 col6\" >45.00</td>\n",
       "      <td id=\"T_9f2a8_row0_col7\" class=\"data row0 col7\" >0</td>\n",
       "    </tr>\n",
       "    <tr>\n",
       "      <td id=\"T_9f2a8_row1_col0\" class=\"data row1 col0\" >g989</td>\n",
       "      <td id=\"T_9f2a8_row1_col1\" class=\"data row1 col1\" >Propriva</td>\n",
       "      <td id=\"T_9f2a8_row1_col2\" class=\"data row1 col2\" >Female</td>\n",
       "      <td id=\"T_9f2a8_row1_col3\" class=\"data row1 col3\" >21</td>\n",
       "      <td id=\"T_9f2a8_row1_col4\" class=\"data row1 col4\" >26.00</td>\n",
       "      <td id=\"T_9f2a8_row1_col5\" class=\"data row1 col5\" >0</td>\n",
       "      <td id=\"T_9f2a8_row1_col6\" class=\"data row1 col6\" >45.00</td>\n",
       "      <td id=\"T_9f2a8_row1_col7\" class=\"data row1 col7\" >0</td>\n",
       "    </tr>\n",
       "    <tr>\n",
       "      <td id=\"T_9f2a8_row2_col0\" class=\"data row2 col0\" >g989</td>\n",
       "      <td id=\"T_9f2a8_row2_col1\" class=\"data row2 col1\" >Propriva</td>\n",
       "      <td id=\"T_9f2a8_row2_col2\" class=\"data row2 col2\" >Female</td>\n",
       "      <td id=\"T_9f2a8_row2_col3\" class=\"data row2 col3\" >21</td>\n",
       "      <td id=\"T_9f2a8_row2_col4\" class=\"data row2 col4\" >26.00</td>\n",
       "      <td id=\"T_9f2a8_row2_col5\" class=\"data row2 col5\" >5</td>\n",
       "      <td id=\"T_9f2a8_row2_col6\" class=\"data row2 col6\" >48.79</td>\n",
       "      <td id=\"T_9f2a8_row2_col7\" class=\"data row2 col7\" >0</td>\n",
       "    </tr>\n",
       "    <tr>\n",
       "      <td id=\"T_9f2a8_row3_col0\" class=\"data row3 col0\" >g989</td>\n",
       "      <td id=\"T_9f2a8_row3_col1\" class=\"data row3 col1\" >Propriva</td>\n",
       "      <td id=\"T_9f2a8_row3_col2\" class=\"data row3 col2\" >Female</td>\n",
       "      <td id=\"T_9f2a8_row3_col3\" class=\"data row3 col3\" >21</td>\n",
       "      <td id=\"T_9f2a8_row3_col4\" class=\"data row3 col4\" >26.00</td>\n",
       "      <td id=\"T_9f2a8_row3_col5\" class=\"data row3 col5\" >5</td>\n",
       "      <td id=\"T_9f2a8_row3_col6\" class=\"data row3 col6\" >47.57</td>\n",
       "      <td id=\"T_9f2a8_row3_col7\" class=\"data row3 col7\" >0</td>\n",
       "    </tr>\n",
       "    <tr>\n",
       "      <td id=\"T_9f2a8_row4_col0\" class=\"data row4 col0\" >g989</td>\n",
       "      <td id=\"T_9f2a8_row4_col1\" class=\"data row4 col1\" >Propriva</td>\n",
       "      <td id=\"T_9f2a8_row4_col2\" class=\"data row4 col2\" >Female</td>\n",
       "      <td id=\"T_9f2a8_row4_col3\" class=\"data row4 col3\" >21</td>\n",
       "      <td id=\"T_9f2a8_row4_col4\" class=\"data row4 col4\" >26.00</td>\n",
       "      <td id=\"T_9f2a8_row4_col5\" class=\"data row4 col5\" >10</td>\n",
       "      <td id=\"T_9f2a8_row4_col6\" class=\"data row4 col6\" >51.75</td>\n",
       "      <td id=\"T_9f2a8_row4_col7\" class=\"data row4 col7\" >0</td>\n",
       "    </tr>\n",
       "    <tr>\n",
       "      <td id=\"T_9f2a8_row5_col0\" class=\"data row5 col0\" >g989</td>\n",
       "      <td id=\"T_9f2a8_row5_col1\" class=\"data row5 col1\" >Propriva</td>\n",
       "      <td id=\"T_9f2a8_row5_col2\" class=\"data row5 col2\" >Female</td>\n",
       "      <td id=\"T_9f2a8_row5_col3\" class=\"data row5 col3\" >21</td>\n",
       "      <td id=\"T_9f2a8_row5_col4\" class=\"data row5 col4\" >26.00</td>\n",
       "      <td id=\"T_9f2a8_row5_col5\" class=\"data row5 col5\" >10</td>\n",
       "      <td id=\"T_9f2a8_row5_col6\" class=\"data row5 col6\" >49.88</td>\n",
       "      <td id=\"T_9f2a8_row5_col7\" class=\"data row5 col7\" >0</td>\n",
       "    </tr>\n",
       "    <tr>\n",
       "      <td id=\"T_9f2a8_row6_col0\" class=\"data row6 col0\" >g989</td>\n",
       "      <td id=\"T_9f2a8_row6_col1\" class=\"data row6 col1\" >Propriva</td>\n",
       "      <td id=\"T_9f2a8_row6_col2\" class=\"data row6 col2\" >Female</td>\n",
       "      <td id=\"T_9f2a8_row6_col3\" class=\"data row6 col3\" >21</td>\n",
       "      <td id=\"T_9f2a8_row6_col4\" class=\"data row6 col4\" >26.00</td>\n",
       "      <td id=\"T_9f2a8_row6_col5\" class=\"data row6 col5\" >15</td>\n",
       "      <td id=\"T_9f2a8_row6_col6\" class=\"data row6 col6\" >51.33</td>\n",
       "      <td id=\"T_9f2a8_row6_col7\" class=\"data row6 col7\" >1</td>\n",
       "    </tr>\n",
       "    <tr>\n",
       "      <td id=\"T_9f2a8_row7_col0\" class=\"data row7 col0\" >g989</td>\n",
       "      <td id=\"T_9f2a8_row7_col1\" class=\"data row7 col1\" >Propriva</td>\n",
       "      <td id=\"T_9f2a8_row7_col2\" class=\"data row7 col2\" >Female</td>\n",
       "      <td id=\"T_9f2a8_row7_col3\" class=\"data row7 col3\" >21</td>\n",
       "      <td id=\"T_9f2a8_row7_col4\" class=\"data row7 col4\" >26.00</td>\n",
       "      <td id=\"T_9f2a8_row7_col5\" class=\"data row7 col5\" >15</td>\n",
       "      <td id=\"T_9f2a8_row7_col6\" class=\"data row7 col6\" >53.44</td>\n",
       "      <td id=\"T_9f2a8_row7_col7\" class=\"data row7 col7\" >0</td>\n",
       "    </tr>\n",
       "    <tr>\n",
       "      <td id=\"T_9f2a8_row8_col0\" class=\"data row8 col0\" >g989</td>\n",
       "      <td id=\"T_9f2a8_row8_col1\" class=\"data row8 col1\" >Propriva</td>\n",
       "      <td id=\"T_9f2a8_row8_col2\" class=\"data row8 col2\" >Female</td>\n",
       "      <td id=\"T_9f2a8_row8_col3\" class=\"data row8 col3\" >21</td>\n",
       "      <td id=\"T_9f2a8_row8_col4\" class=\"data row8 col4\" >26.00</td>\n",
       "      <td id=\"T_9f2a8_row8_col5\" class=\"data row8 col5\" >20</td>\n",
       "      <td id=\"T_9f2a8_row8_col6\" class=\"data row8 col6\" >55.33</td>\n",
       "      <td id=\"T_9f2a8_row8_col7\" class=\"data row8 col7\" >1</td>\n",
       "    </tr>\n",
       "    <tr>\n",
       "      <td id=\"T_9f2a8_row9_col0\" class=\"data row9 col0\" >g989</td>\n",
       "      <td id=\"T_9f2a8_row9_col1\" class=\"data row9 col1\" >Propriva</td>\n",
       "      <td id=\"T_9f2a8_row9_col2\" class=\"data row9 col2\" >Female</td>\n",
       "      <td id=\"T_9f2a8_row9_col3\" class=\"data row9 col3\" >21</td>\n",
       "      <td id=\"T_9f2a8_row9_col4\" class=\"data row9 col4\" >26.00</td>\n",
       "      <td id=\"T_9f2a8_row9_col5\" class=\"data row9 col5\" >20</td>\n",
       "      <td id=\"T_9f2a8_row9_col6\" class=\"data row9 col6\" >54.66</td>\n",
       "      <td id=\"T_9f2a8_row9_col7\" class=\"data row9 col7\" >1</td>\n",
       "    </tr>\n",
       "    <tr>\n",
       "      <td id=\"T_9f2a8_row10_col0\" class=\"data row10 col0\" >g989</td>\n",
       "      <td id=\"T_9f2a8_row10_col1\" class=\"data row10 col1\" >Propriva</td>\n",
       "      <td id=\"T_9f2a8_row10_col2\" class=\"data row10 col2\" >Female</td>\n",
       "      <td id=\"T_9f2a8_row10_col3\" class=\"data row10 col3\" >21</td>\n",
       "      <td id=\"T_9f2a8_row10_col4\" class=\"data row10 col4\" >26.00</td>\n",
       "      <td id=\"T_9f2a8_row10_col5\" class=\"data row10 col5\" >25</td>\n",
       "      <td id=\"T_9f2a8_row10_col6\" class=\"data row10 col6\" >56.05</td>\n",
       "      <td id=\"T_9f2a8_row10_col7\" class=\"data row10 col7\" >1</td>\n",
       "    </tr>\n",
       "    <tr>\n",
       "      <td id=\"T_9f2a8_row11_col0\" class=\"data row11 col0\" >g989</td>\n",
       "      <td id=\"T_9f2a8_row11_col1\" class=\"data row11 col1\" >Propriva</td>\n",
       "      <td id=\"T_9f2a8_row11_col2\" class=\"data row11 col2\" >Female</td>\n",
       "      <td id=\"T_9f2a8_row11_col3\" class=\"data row11 col3\" >21</td>\n",
       "      <td id=\"T_9f2a8_row11_col4\" class=\"data row11 col4\" >26.00</td>\n",
       "      <td id=\"T_9f2a8_row11_col5\" class=\"data row11 col5\" >30</td>\n",
       "      <td id=\"T_9f2a8_row11_col6\" class=\"data row11 col6\" >59.08</td>\n",
       "      <td id=\"T_9f2a8_row11_col7\" class=\"data row11 col7\" >1</td>\n",
       "    </tr>\n",
       "    <tr>\n",
       "      <td id=\"T_9f2a8_row12_col0\" class=\"data row12 col0\" >g989</td>\n",
       "      <td id=\"T_9f2a8_row12_col1\" class=\"data row12 col1\" >Propriva</td>\n",
       "      <td id=\"T_9f2a8_row12_col2\" class=\"data row12 col2\" >Female</td>\n",
       "      <td id=\"T_9f2a8_row12_col3\" class=\"data row12 col3\" >21</td>\n",
       "      <td id=\"T_9f2a8_row12_col4\" class=\"data row12 col4\" >26.00</td>\n",
       "      <td id=\"T_9f2a8_row12_col5\" class=\"data row12 col5\" >35</td>\n",
       "      <td id=\"T_9f2a8_row12_col6\" class=\"data row12 col6\" >62.57</td>\n",
       "      <td id=\"T_9f2a8_row12_col7\" class=\"data row12 col7\" >2</td>\n",
       "    </tr>\n",
       "  </tbody>\n",
       "</table>\n"
      ],
      "text/plain": [
       "<pandas.io.formats.style.Styler at 0x14c443310>"
      ]
     },
     "execution_count": 11,
     "metadata": {},
     "output_type": "execute_result"
    }
   ],
   "source": [
    "local_function \\\n",
    "    .ReturnFormattedCompleteMedicalStudyStylerObject \\\n",
    "        (function \\\n",
    "             .ReturnStylerObjectStandardFormat \\\n",
    "                (function \\\n",
    "                     .ReturnDataFrameRowsWithValue \\\n",
    "                         (completeMedicalStudyDataFrame, \n",
    "                          'Mouse ID', \n",
    "                          duplicateMouseIDsList), \n",
    "                 ''),\n",
    "         'Table 1.3: Rows with Duplicate Mouse IDs in Complete Medical Study')"
   ]
  },
  {
   "cell_type": "markdown",
   "id": "b3d661f1",
   "metadata": {},
   "source": [
    "### **Create New Complete Medical Study DataFrame Without Duplicate Mouse IDs**"
   ]
  },
  {
   "cell_type": "code",
   "execution_count": 12,
   "id": "48f432f0",
   "metadata": {},
   "outputs": [],
   "source": [
    "cleanCompleteMedicalStudyDataFrame \\\n",
    "    = function \\\n",
    "        .ReturnDataFrameRowsWithoutValue \\\n",
    "            (completeMedicalStudyDataFrame, \n",
    "                'Mouse ID', \n",
    "                duplicateMouseIDsList)\n",
    "\n",
    "\n",
    "log_function \\\n",
    "    .DebugReturnObjectWriteObject \\\n",
    "        (cleanCompleteMedicalStudyDataFrame)"
   ]
  },
  {
   "cell_type": "markdown",
   "id": "f5311e92",
   "metadata": {},
   "source": [
    "### **Display the Updated Number of Unique Mouse IDs**"
   ]
  },
  {
   "cell_type": "code",
   "execution_count": 13,
   "id": "342dd8fc",
   "metadata": {},
   "outputs": [
    {
     "name": "stdout",
     "output_type": "stream",
     "text": [
      "The updated number of unique mouse IDs in the complete medical study DataFrame is 248.\n"
     ]
    }
   ],
   "source": [
    "updatedNumberOfUniqueMouseIDsIntegerVariable \\\n",
    "    = function \\\n",
    "        .ReturnNumberOfUniqueElementsInColumn \\\n",
    "            (cleanCompleteMedicalStudyDataFrame, \n",
    "             'Mouse ID')\n",
    "\n",
    "log_subroutine \\\n",
    "    .PrintAndLogWriteText \\\n",
    "        (f'The updated number of unique mouse IDs in the complete medical study DataFrame is ' \\\n",
    "         + f\"{updatedNumberOfUniqueMouseIDsIntegerVariable}.\")"
   ]
  },
  {
   "cell_type": "markdown",
   "id": "e1dd2e94",
   "metadata": {},
   "source": [
    "# <br> **Section 2: Summary Statistics**"
   ]
  },
  {
   "cell_type": "markdown",
   "id": "6d5c2384",
   "metadata": {},
   "source": [
    "### **New Medical Study DataFrame Grouped by Drug Regimen**"
   ]
  },
  {
   "cell_type": "code",
   "execution_count": 14,
   "id": "d25353c3",
   "metadata": {},
   "outputs": [],
   "source": [
    "completeMedicalStudyGroupedByRegimenDataFrame \\\n",
    "    = cleanCompleteMedicalStudyDataFrame \\\n",
    "        .groupby \\\n",
    "            ('Drug Regimen')"
   ]
  },
  {
   "cell_type": "markdown",
   "id": "e457bb4d",
   "metadata": {},
   "source": [
    "### **Tumor Volume (Mean)**"
   ]
  },
  {
   "cell_type": "code",
   "execution_count": 15,
   "id": "3ec02f79",
   "metadata": {},
   "outputs": [],
   "source": [
    "meanTumorVolumeSeries \\\n",
    "    = completeMedicalStudyGroupedByRegimenDataFrame \\\n",
    "            ['Tumor Volume (mm3)'] \\\n",
    "            .mean()\n",
    "\n",
    "\n",
    "log_function \\\n",
    "    .DebugReturnObjectWriteObject \\\n",
    "        (meanTumorVolumeSeries)"
   ]
  },
  {
   "cell_type": "markdown",
   "id": "cde9ccd2",
   "metadata": {},
   "source": [
    "### **Tumor Volume (Median)**"
   ]
  },
  {
   "cell_type": "code",
   "execution_count": 16,
   "id": "f0f9d277",
   "metadata": {},
   "outputs": [],
   "source": [
    "medianTumorVolumeSeries \\\n",
    "    = completeMedicalStudyGroupedByRegimenDataFrame \\\n",
    "            ['Tumor Volume (mm3)'] \\\n",
    "            .median()\n",
    "\n",
    "\n",
    "log_function \\\n",
    "    .DebugReturnObjectWriteObject \\\n",
    "        (medianTumorVolumeSeries)"
   ]
  },
  {
   "cell_type": "markdown",
   "id": "518ca243",
   "metadata": {},
   "source": [
    "### **Tumor Volume (Variance)**"
   ]
  },
  {
   "cell_type": "code",
   "execution_count": 17,
   "id": "63f74f76",
   "metadata": {},
   "outputs": [],
   "source": [
    "varianceTumorVolumeSeries \\\n",
    "    = completeMedicalStudyGroupedByRegimenDataFrame \\\n",
    "            ['Tumor Volume (mm3)'] \\\n",
    "            .var()\n",
    "\n",
    "\n",
    "log_function \\\n",
    "    .DebugReturnObjectWriteObject \\\n",
    "        (varianceTumorVolumeSeries)"
   ]
  },
  {
   "cell_type": "markdown",
   "id": "4e351d35",
   "metadata": {},
   "source": [
    "### **Tumor Volume (Standard Deviation)**"
   ]
  },
  {
   "cell_type": "code",
   "execution_count": 18,
   "id": "f3754470",
   "metadata": {},
   "outputs": [],
   "source": [
    "standardTumorVolumeSeries \\\n",
    "    = completeMedicalStudyGroupedByRegimenDataFrame \\\n",
    "            ['Tumor Volume (mm3)'] \\\n",
    "            .std()\n",
    "\n",
    "\n",
    "log_function \\\n",
    "    .DebugReturnObjectWriteObject \\\n",
    "        (standardTumorVolumeSeries)"
   ]
  },
  {
   "cell_type": "markdown",
   "id": "92ecde11",
   "metadata": {},
   "source": [
    "### **Tumor Volume (Standard Errror of the Mean)**"
   ]
  },
  {
   "cell_type": "code",
   "execution_count": 19,
   "id": "54f65039",
   "metadata": {},
   "outputs": [],
   "source": [
    "standardErrorOfTheMeanTumorVolumeSeries \\\n",
    "    = completeMedicalStudyGroupedByRegimenDataFrame \\\n",
    "            ['Tumor Volume (mm3)'] \\\n",
    "            .sem()\n",
    "\n",
    "\n",
    "log_function \\\n",
    "    .DebugReturnObjectWriteObject \\\n",
    "        (standardErrorOfTheMeanTumorVolumeSeries)"
   ]
  },
  {
   "cell_type": "markdown",
   "id": "cd49cc56",
   "metadata": {},
   "source": [
    "### **Summary Statistics DataFrame**"
   ]
  },
  {
   "cell_type": "code",
   "execution_count": 20,
   "id": "acf5e6ee",
   "metadata": {},
   "outputs": [],
   "source": [
    "summaryStatisticsDataFrame \\\n",
    "    = pd \\\n",
    "        .DataFrame({\n",
    "            'Mean':\n",
    "                meanTumorVolumeSeries,\n",
    "            'Median':\n",
    "                medianTumorVolumeSeries,\n",
    "            'Variance':\n",
    "                varianceTumorVolumeSeries,\n",
    "            'Standard Deviation':\n",
    "                standardTumorVolumeSeries,\n",
    "            'Standard Error of the Mean':\n",
    "                standardErrorOfTheMeanTumorVolumeSeries})\n",
    "\n",
    "\n",
    "log_function \\\n",
    "    .DebugReturnObjectWriteObject \\\n",
    "        (summaryStatisticsDataFrame)"
   ]
  },
  {
   "cell_type": "markdown",
   "id": "8c5bd553",
   "metadata": {},
   "source": [
    "### **Display Summary Statistics**"
   ]
  },
  {
   "cell_type": "code",
   "execution_count": 21,
   "id": "96779d3b",
   "metadata": {},
   "outputs": [
    {
     "data": {
      "text/html": [
       "<style type=\"text/css\">\n",
       "#T_44f90 caption {\n",
       "  color: black;\n",
       "  font-size: 20px;\n",
       "  font-style: bold;\n",
       "  text-align: center;\n",
       "}\n",
       "#T_44f90_row0_col0, #T_44f90_row0_col4 {\n",
       "  text-align: center;\n",
       "  background-color: #fbf3f9;\n",
       "  color: #000000;\n",
       "}\n",
       "#T_44f90_row0_col1 {\n",
       "  text-align: center;\n",
       "  background-color: #f5eef6;\n",
       "  color: #000000;\n",
       "}\n",
       "#T_44f90_row0_col2 {\n",
       "  text-align: center;\n",
       "  background-color: #faf3f9;\n",
       "  color: #000000;\n",
       "}\n",
       "#T_44f90_row0_col3 {\n",
       "  text-align: center;\n",
       "  background-color: #f8f1f8;\n",
       "  color: #000000;\n",
       "}\n",
       "#T_44f90_row1_col0 {\n",
       "  text-align: center;\n",
       "  background-color: #04639b;\n",
       "  color: #f1f1f1;\n",
       "}\n",
       "#T_44f90_row1_col1 {\n",
       "  text-align: center;\n",
       "  background-color: #045e93;\n",
       "  color: #f1f1f1;\n",
       "}\n",
       "#T_44f90_row1_col2 {\n",
       "  text-align: center;\n",
       "  background-color: #afc1dd;\n",
       "  color: #000000;\n",
       "}\n",
       "#T_44f90_row1_col3 {\n",
       "  text-align: center;\n",
       "  background-color: #96b6d7;\n",
       "  color: #000000;\n",
       "}\n",
       "#T_44f90_row1_col4 {\n",
       "  text-align: center;\n",
       "  background-color: #67a4cc;\n",
       "  color: #f1f1f1;\n",
       "}\n",
       "#T_44f90_row2_col0 {\n",
       "  text-align: center;\n",
       "  background-color: #046096;\n",
       "  color: #f1f1f1;\n",
       "}\n",
       "#T_44f90_row2_col1, #T_44f90_row9_col1 {\n",
       "  text-align: center;\n",
       "  background-color: #045d92;\n",
       "  color: #f1f1f1;\n",
       "}\n",
       "#T_44f90_row2_col2 {\n",
       "  text-align: center;\n",
       "  background-color: #8eb3d5;\n",
       "  color: #000000;\n",
       "}\n",
       "#T_44f90_row2_col3 {\n",
       "  text-align: center;\n",
       "  background-color: #73a9cf;\n",
       "  color: #f1f1f1;\n",
       "}\n",
       "#T_44f90_row2_col4 {\n",
       "  text-align: center;\n",
       "  background-color: #4094c3;\n",
       "  color: #f1f1f1;\n",
       "}\n",
       "#T_44f90_row3_col0, #T_44f90_row3_col1, #T_44f90_row3_col2, #T_44f90_row3_col3, #T_44f90_row3_col4 {\n",
       "  text-align: center;\n",
       "  background-color: #023858;\n",
       "  color: #f1f1f1;\n",
       "}\n",
       "#T_44f90_row4_col0 {\n",
       "  text-align: center;\n",
       "  background-color: #034871;\n",
       "  color: #f1f1f1;\n",
       "}\n",
       "#T_44f90_row4_col1 {\n",
       "  text-align: center;\n",
       "  background-color: #03517e;\n",
       "  color: #f1f1f1;\n",
       "}\n",
       "#T_44f90_row4_col2 {\n",
       "  text-align: center;\n",
       "  background-color: #03466e;\n",
       "  color: #f1f1f1;\n",
       "}\n",
       "#T_44f90_row4_col3 {\n",
       "  text-align: center;\n",
       "  background-color: #034369;\n",
       "  color: #f1f1f1;\n",
       "}\n",
       "#T_44f90_row4_col4 {\n",
       "  text-align: center;\n",
       "  background-color: #023e62;\n",
       "  color: #f1f1f1;\n",
       "}\n",
       "#T_44f90_row5_col0, #T_44f90_row5_col4 {\n",
       "  text-align: center;\n",
       "  background-color: #034d79;\n",
       "  color: #f1f1f1;\n",
       "}\n",
       "#T_44f90_row5_col1, #T_44f90_row8_col4 {\n",
       "  text-align: center;\n",
       "  background-color: #045585;\n",
       "  color: #f1f1f1;\n",
       "}\n",
       "#T_44f90_row5_col2 {\n",
       "  text-align: center;\n",
       "  background-color: #046097;\n",
       "  color: #f1f1f1;\n",
       "}\n",
       "#T_44f90_row5_col3, #T_44f90_row9_col0 {\n",
       "  text-align: center;\n",
       "  background-color: #045b8f;\n",
       "  color: #f1f1f1;\n",
       "}\n",
       "#T_44f90_row6_col0 {\n",
       "  text-align: center;\n",
       "  background-color: #0566a0;\n",
       "  color: #f1f1f1;\n",
       "}\n",
       "#T_44f90_row6_col1 {\n",
       "  text-align: center;\n",
       "  background-color: #056faf;\n",
       "  color: #f1f1f1;\n",
       "}\n",
       "#T_44f90_row6_col2 {\n",
       "  text-align: center;\n",
       "  background-color: #88b1d4;\n",
       "  color: #000000;\n",
       "}\n",
       "#T_44f90_row6_col3 {\n",
       "  text-align: center;\n",
       "  background-color: #6ba5cd;\n",
       "  color: #f1f1f1;\n",
       "}\n",
       "#T_44f90_row6_col4 {\n",
       "  text-align: center;\n",
       "  background-color: #0569a4;\n",
       "  color: #f1f1f1;\n",
       "}\n",
       "#T_44f90_row7_col0, #T_44f90_row7_col1, #T_44f90_row7_col2, #T_44f90_row7_col3, #T_44f90_row7_col4 {\n",
       "  text-align: center;\n",
       "  background-color: #fff7fb;\n",
       "  color: #000000;\n",
       "}\n",
       "#T_44f90_row8_col0 {\n",
       "  text-align: center;\n",
       "  background-color: #034a74;\n",
       "  color: #f1f1f1;\n",
       "}\n",
       "#T_44f90_row8_col1 {\n",
       "  text-align: center;\n",
       "  background-color: #045280;\n",
       "  color: #f1f1f1;\n",
       "}\n",
       "#T_44f90_row8_col2 {\n",
       "  text-align: center;\n",
       "  background-color: #0567a2;\n",
       "  color: #f1f1f1;\n",
       "}\n",
       "#T_44f90_row8_col3 {\n",
       "  text-align: center;\n",
       "  background-color: #046198;\n",
       "  color: #f1f1f1;\n",
       "}\n",
       "#T_44f90_row9_col2 {\n",
       "  text-align: center;\n",
       "  background-color: #589ec8;\n",
       "  color: #f1f1f1;\n",
       "}\n",
       "#T_44f90_row9_col3 {\n",
       "  text-align: center;\n",
       "  background-color: #3991c1;\n",
       "  color: #f1f1f1;\n",
       "}\n",
       "#T_44f90_row9_col4 {\n",
       "  text-align: center;\n",
       "  background-color: #1c7fb8;\n",
       "  color: #f1f1f1;\n",
       "}\n",
       "</style>\n",
       "<table id=\"T_44f90\">\n",
       "  <caption>Table 2.0: Summary Statistics (Tumor Volume)</caption>\n",
       "  <thead>\n",
       "    <tr>\n",
       "      <th class=\"blank level0\" >&nbsp;</th>\n",
       "      <th id=\"T_44f90_level0_col0\" class=\"col_heading level0 col0\" >Mean</th>\n",
       "      <th id=\"T_44f90_level0_col1\" class=\"col_heading level0 col1\" >Median</th>\n",
       "      <th id=\"T_44f90_level0_col2\" class=\"col_heading level0 col2\" >Variance</th>\n",
       "      <th id=\"T_44f90_level0_col3\" class=\"col_heading level0 col3\" >Standard Deviation</th>\n",
       "      <th id=\"T_44f90_level0_col4\" class=\"col_heading level0 col4\" >Standard Error of the Mean</th>\n",
       "    </tr>\n",
       "    <tr>\n",
       "      <th class=\"index_name level0\" >Drug Regimen</th>\n",
       "      <th class=\"blank col0\" >&nbsp;</th>\n",
       "      <th class=\"blank col1\" >&nbsp;</th>\n",
       "      <th class=\"blank col2\" >&nbsp;</th>\n",
       "      <th class=\"blank col3\" >&nbsp;</th>\n",
       "      <th class=\"blank col4\" >&nbsp;</th>\n",
       "    </tr>\n",
       "  </thead>\n",
       "  <tbody>\n",
       "    <tr>\n",
       "      <th id=\"T_44f90_level0_row0\" class=\"row_heading level0 row0\" >Capomulin</th>\n",
       "      <td id=\"T_44f90_row0_col0\" class=\"data row0 col0\" >40.68</td>\n",
       "      <td id=\"T_44f90_row0_col1\" class=\"data row0 col1\" >41.56</td>\n",
       "      <td id=\"T_44f90_row0_col2\" class=\"data row0 col2\" >24.95</td>\n",
       "      <td id=\"T_44f90_row0_col3\" class=\"data row0 col3\" >4.99</td>\n",
       "      <td id=\"T_44f90_row0_col4\" class=\"data row0 col4\" >0.33</td>\n",
       "    </tr>\n",
       "    <tr>\n",
       "      <th id=\"T_44f90_level0_row1\" class=\"row_heading level0 row1\" >Ceftamin</th>\n",
       "      <td id=\"T_44f90_row1_col0\" class=\"data row1 col0\" >52.59</td>\n",
       "      <td id=\"T_44f90_row1_col1\" class=\"data row1 col1\" >51.78</td>\n",
       "      <td id=\"T_44f90_row1_col2\" class=\"data row1 col2\" >39.29</td>\n",
       "      <td id=\"T_44f90_row1_col3\" class=\"data row1 col3\" >6.27</td>\n",
       "      <td id=\"T_44f90_row1_col4\" class=\"data row1 col4\" >0.47</td>\n",
       "    </tr>\n",
       "    <tr>\n",
       "      <th id=\"T_44f90_level0_row2\" class=\"row_heading level0 row2\" >Infubinol</th>\n",
       "      <td id=\"T_44f90_row2_col0\" class=\"data row2 col0\" >52.88</td>\n",
       "      <td id=\"T_44f90_row2_col1\" class=\"data row2 col1\" >51.82</td>\n",
       "      <td id=\"T_44f90_row2_col2\" class=\"data row2 col2\" >43.13</td>\n",
       "      <td id=\"T_44f90_row2_col3\" class=\"data row2 col3\" >6.57</td>\n",
       "      <td id=\"T_44f90_row2_col4\" class=\"data row2 col4\" >0.49</td>\n",
       "    </tr>\n",
       "    <tr>\n",
       "      <th id=\"T_44f90_level0_row3\" class=\"row_heading level0 row3\" >Ketapril</th>\n",
       "      <td id=\"T_44f90_row3_col0\" class=\"data row3 col0\" >55.24</td>\n",
       "      <td id=\"T_44f90_row3_col1\" class=\"data row3 col1\" >53.70</td>\n",
       "      <td id=\"T_44f90_row3_col2\" class=\"data row3 col2\" >68.55</td>\n",
       "      <td id=\"T_44f90_row3_col3\" class=\"data row3 col3\" >8.28</td>\n",
       "      <td id=\"T_44f90_row3_col4\" class=\"data row3 col4\" >0.60</td>\n",
       "    </tr>\n",
       "    <tr>\n",
       "      <th id=\"T_44f90_level0_row4\" class=\"row_heading level0 row4\" >Naftisol</th>\n",
       "      <td id=\"T_44f90_row4_col0\" class=\"data row4 col0\" >54.33</td>\n",
       "      <td id=\"T_44f90_row4_col1\" class=\"data row4 col1\" >52.51</td>\n",
       "      <td id=\"T_44f90_row4_col2\" class=\"data row4 col2\" >66.17</td>\n",
       "      <td id=\"T_44f90_row4_col3\" class=\"data row4 col3\" >8.13</td>\n",
       "      <td id=\"T_44f90_row4_col4\" class=\"data row4 col4\" >0.60</td>\n",
       "    </tr>\n",
       "    <tr>\n",
       "      <th id=\"T_44f90_level0_row5\" class=\"row_heading level0 row5\" >Placebo</th>\n",
       "      <td id=\"T_44f90_row5_col0\" class=\"data row5 col0\" >54.03</td>\n",
       "      <td id=\"T_44f90_row5_col1\" class=\"data row5 col1\" >52.29</td>\n",
       "      <td id=\"T_44f90_row5_col2\" class=\"data row5 col2\" >61.17</td>\n",
       "      <td id=\"T_44f90_row5_col3\" class=\"data row5 col3\" >7.82</td>\n",
       "      <td id=\"T_44f90_row5_col4\" class=\"data row5 col4\" >0.58</td>\n",
       "    </tr>\n",
       "    <tr>\n",
       "      <th id=\"T_44f90_level0_row6\" class=\"row_heading level0 row6\" >Propriva</th>\n",
       "      <td id=\"T_44f90_row6_col0\" class=\"data row6 col0\" >52.32</td>\n",
       "      <td id=\"T_44f90_row6_col1\" class=\"data row6 col1\" >50.45</td>\n",
       "      <td id=\"T_44f90_row6_col2\" class=\"data row6 col2\" >43.85</td>\n",
       "      <td id=\"T_44f90_row6_col3\" class=\"data row6 col3\" >6.62</td>\n",
       "      <td id=\"T_44f90_row6_col4\" class=\"data row6 col4\" >0.54</td>\n",
       "    </tr>\n",
       "    <tr>\n",
       "      <th id=\"T_44f90_level0_row7\" class=\"row_heading level0 row7\" >Ramicane</th>\n",
       "      <td id=\"T_44f90_row7_col0\" class=\"data row7 col0\" >40.22</td>\n",
       "      <td id=\"T_44f90_row7_col1\" class=\"data row7 col1\" >40.67</td>\n",
       "      <td id=\"T_44f90_row7_col2\" class=\"data row7 col2\" >23.49</td>\n",
       "      <td id=\"T_44f90_row7_col3\" class=\"data row7 col3\" >4.85</td>\n",
       "      <td id=\"T_44f90_row7_col4\" class=\"data row7 col4\" >0.32</td>\n",
       "    </tr>\n",
       "    <tr>\n",
       "      <th id=\"T_44f90_level0_row8\" class=\"row_heading level0 row8\" >Stelasyn</th>\n",
       "      <td id=\"T_44f90_row8_col0\" class=\"data row8 col0\" >54.23</td>\n",
       "      <td id=\"T_44f90_row8_col1\" class=\"data row8 col1\" >52.43</td>\n",
       "      <td id=\"T_44f90_row8_col2\" class=\"data row8 col2\" >59.45</td>\n",
       "      <td id=\"T_44f90_row8_col3\" class=\"data row8 col3\" >7.71</td>\n",
       "      <td id=\"T_44f90_row8_col4\" class=\"data row8 col4\" >0.57</td>\n",
       "    </tr>\n",
       "    <tr>\n",
       "      <th id=\"T_44f90_level0_row9\" class=\"row_heading level0 row9\" >Zoniferol</th>\n",
       "      <td id=\"T_44f90_row9_col0\" class=\"data row9 col0\" >53.24</td>\n",
       "      <td id=\"T_44f90_row9_col1\" class=\"data row9 col1\" >51.82</td>\n",
       "      <td id=\"T_44f90_row9_col2\" class=\"data row9 col2\" >48.53</td>\n",
       "      <td id=\"T_44f90_row9_col3\" class=\"data row9 col3\" >6.97</td>\n",
       "      <td id=\"T_44f90_row9_col4\" class=\"data row9 col4\" >0.52</td>\n",
       "    </tr>\n",
       "  </tbody>\n",
       "</table>\n"
      ],
      "text/plain": [
       "<pandas.io.formats.style.Styler at 0x14c48f790>"
      ]
     },
     "execution_count": 21,
     "metadata": {},
     "output_type": "execute_result"
    }
   ],
   "source": [
    "function \\\n",
    "    .ReturnStylerObjectBackgroundGradientFormat \\\n",
    "        (summaryStatisticsDataFrame, \n",
    "         'Table 2.0: Summary Statistics (Tumor Volume)')"
   ]
  },
  {
   "cell_type": "markdown",
   "id": "5ef421c5",
   "metadata": {},
   "source": [
    "# <br> **Section 3: Bar Charts and Pie Charts**"
   ]
  },
  {
   "cell_type": "markdown",
   "id": "3be35253",
   "metadata": {},
   "source": [
    "### **Prepare Series and Format for Bar Charts**"
   ]
  },
  {
   "cell_type": "code",
   "execution_count": 22,
   "id": "8ee09fdc",
   "metadata": {},
   "outputs": [],
   "source": [
    "countByDrugRegimenSeries \\\n",
    "    = cleanCompleteMedicalStudyDataFrame \\\n",
    "            ['Drug Regimen'] \\\n",
    "      .value_counts()\n",
    "\n",
    "\n",
    "log_function \\\n",
    "    .DebugReturnObjectWriteObject \\\n",
    "        (countByDrugRegimenSeries)"
   ]
  },
  {
   "cell_type": "code",
   "execution_count": 23,
   "id": "f6b4e257",
   "metadata": {},
   "outputs": [],
   "source": [
    "barColorsList \\\n",
    "    = ['red',\n",
    "       'blue', \n",
    "       'blue', \n",
    "       'blue', \n",
    "       'blue', \n",
    "       'blue', \n",
    "       'blue', \n",
    "       'blue', \n",
    "       'blue', \n",
    "       'blue']"
   ]
  },
  {
   "cell_type": "markdown",
   "id": "cad7eb99",
   "metadata": {},
   "source": [
    "### **Bar Chart With the Pandas Method**"
   ]
  },
  {
   "cell_type": "code",
   "execution_count": 24,
   "id": "49b87e56",
   "metadata": {},
   "outputs": [
    {
     "name": "stdout",
     "output_type": "stream",
     "text": [
      "./Images/PymaceuticalsFigure31ObservedMouseTimepointsvsDrugRegimenPandaspng\n"
     ]
    },
    {
     "data": {
      "image/png": "[encoded data removed]",
      "text/plain": [
       "<Figure size 640x480 with 1 Axes>"
      ]
     },
     "metadata": {},
     "output_type": "display_data"
    }
   ],
   "source": [
    "subroutine \\\n",
    "    .DisplayPandasBarChartFromSeries \\\n",
    "        (countByDrugRegimenSeries, \n",
    "         barColorsList,\n",
    "         'Figure 3.1: Observed Mouse Timepoints vs. Drug Regimen (Pandas)',\n",
    "         'Observed Mouse Timepoints')"
   ]
  },
  {
   "cell_type": "markdown",
   "id": "af75a5fe",
   "metadata": {},
   "source": [
    "### **Bar Chart With the Matplotlib Method**"
   ]
  },
  {
   "cell_type": "code",
   "execution_count": 25,
   "id": "68182884",
   "metadata": {},
   "outputs": [
    {
     "name": "stdout",
     "output_type": "stream",
     "text": [
      "./Images/PymaceuticalsFigure32ObservedMouseTimepointsvsDrugRegimenMatplotlibpng\n"
     ]
    },
    {
     "data": {
      "image/png": "[encoded data removed]",
      "text/plain": [
       "<Figure size 640x480 with 1 Axes>"
      ]
     },
     "metadata": {},
     "output_type": "display_data"
    }
   ],
   "source": [
    "subroutine \\\n",
    "    .DisplayMatplotlibBarChartFromSeries \\\n",
    "        (countByDrugRegimenSeries, \n",
    "         barColorsList,\n",
    "         'Figure 3.2: Observed Mouse Timepoints vs. Drug Regimen (Matplotlib)',\n",
    "         'Observed Mouse Timepoints')"
   ]
  },
  {
   "cell_type": "markdown",
   "id": "42e33842",
   "metadata": {},
   "source": [
    "### **Prepare Series and Format for Pie Charts**"
   ]
  },
  {
   "cell_type": "code",
   "execution_count": 26,
   "id": "b20d124f",
   "metadata": {},
   "outputs": [],
   "source": [
    "mouseCountByGenderSeries \\\n",
    "    = cleanCompleteMedicalStudyDataFrame \\\n",
    "            ['Sex'] \\\n",
    "            .value_counts()\n",
    "\n",
    "\n",
    "log_function \\\n",
    "    .DebugReturnObjectWriteObject \\\n",
    "        (mouseCountByGenderSeries)"
   ]
  },
  {
   "cell_type": "code",
   "execution_count": 27,
   "id": "a8bd44b0",
   "metadata": {},
   "outputs": [],
   "source": [
    "pieColorsList \\\n",
    "    = ['deepskyblue',\n",
    "       'pink']\n",
    "\n",
    "explodeTuple \\\n",
    "    = (0.02,\n",
    "       0.02)"
   ]
  },
  {
   "cell_type": "markdown",
   "id": "55cab4ee",
   "metadata": {},
   "source": [
    "### **Pie Chart With the Pandas Method**"
   ]
  },
  {
   "cell_type": "code",
   "execution_count": 28,
   "id": "2cf1cf44",
   "metadata": {},
   "outputs": [
    {
     "name": "stdout",
     "output_type": "stream",
     "text": [
      "./Images/PymaceuticalsFigure33DistributionofFemaleVersusMaleMicePandaspng\n"
     ]
    },
    {
     "data": {
      "image/png": "[encoded data removed]",
      "text/plain": [
       "<Figure size 600x900 with 1 Axes>"
      ]
     },
     "metadata": {},
     "output_type": "display_data"
    }
   ],
   "source": [
    "subroutine \\\n",
    "    .DisplayPandasPieChartFromSeries \\\n",
    "        (mouseCountByGenderSeries, \n",
    "         pieColorsList,\n",
    "         explodeTuple,\n",
    "         'Figure 3.3: Distribution of Female Versus Male Mice (Pandas)')"
   ]
  },
  {
   "cell_type": "markdown",
   "id": "d8911593",
   "metadata": {},
   "source": [
    "### **Pie Chart With the Matplotlib Method**"
   ]
  },
  {
   "cell_type": "code",
   "execution_count": 29,
   "id": "77ecbbe9",
   "metadata": {},
   "outputs": [
    {
     "name": "stdout",
     "output_type": "stream",
     "text": [
      "./Images/PymaceuticalsFigure34DistributionofFemaleVersusMaleMiceMatplotlibpng\n"
     ]
    },
    {
     "data": {
      "image/png": "[encoded data removed]",
      "text/plain": [
       "<Figure size 640x480 with 1 Axes>"
      ]
     },
     "metadata": {},
     "output_type": "display_data"
    }
   ],
   "source": [
    "subroutine \\\n",
    "    .DisplayMatplotlibPieChartFromSeries \\\n",
    "        (mouseCountByGenderSeries, \n",
    "         pieColorsList,\n",
    "         explodeTuple,\n",
    "         'Figure 3.4: Distribution of Female Versus Male Mice (Matplotlib)')"
   ]
  },
  {
   "cell_type": "markdown",
   "id": "84701c58",
   "metadata": {},
   "source": [
    "# <br> **Section 4: Quartiles, Outliers, and Box Plots**"
   ]
  },
  {
   "cell_type": "markdown",
   "id": "025fe0ed",
   "metadata": {},
   "source": [
    "### **The Last (Greatest) Timepoint for Each Mouse**"
   ]
  },
  {
   "cell_type": "code",
   "execution_count": 30,
   "id": "4172f199",
   "metadata": {},
   "outputs": [],
   "source": [
    "# This line of code takes only rows for the four most promising treatment \n",
    "# regimens and placebos and assigns the data to a DataFrame.\n",
    "promisingTreatmentRegimensDataFrame \\\n",
    "    = cleanCompleteMedicalStudyDataFrame \\\n",
    "        .loc \\\n",
    "            [(cleanCompleteMedicalStudyDataFrame['Drug Regimen'] == 'Capomulin')|\n",
    "             (cleanCompleteMedicalStudyDataFrame['Drug Regimen'] == 'Ramicane')|\n",
    "             (cleanCompleteMedicalStudyDataFrame['Drug Regimen'] == 'Infubinol')|\n",
    "             (cleanCompleteMedicalStudyDataFrame['Drug Regimen'] == 'Ceftamin')|\n",
    "             (cleanCompleteMedicalStudyDataFrame['Drug Regimen'] == 'Placebo'), :]\n",
    "\n",
    "log_function \\\n",
    "    .DebugReturnObjectWriteObject \\\n",
    "        (promisingTreatmentRegimensDataFrame)"
   ]
  },
  {
   "cell_type": "code",
   "execution_count": 31,
   "id": "80a0bdc0",
   "metadata": {},
   "outputs": [],
   "source": [
    "# This line of code uses groupby to group the rows by the last (greatest) timepoint \n",
    "# for each mouse ID, retrieves the maximum timepoint for each mouse, and resets \n",
    "# the DataFrame's index.\n",
    "maximumTimepointPerMouseDataFrame \\\n",
    "    = promisingTreatmentRegimensDataFrame \\\n",
    "        .groupby \\\n",
    "            ('Mouse ID') \\\n",
    "                ['Timepoint'] \\\n",
    "        .max() \\\n",
    "        .reset_index()\n",
    "\n",
    "\n",
    "log_function \\\n",
    "    .DebugReturnObjectWriteObject \\\n",
    "        (maximumTimepointPerMouseDataFrame)"
   ]
  },
  {
   "cell_type": "markdown",
   "id": "76b19643",
   "metadata": {},
   "source": [
    "### **New Merged DataFrame Has the Tumor Volume at the Last Timepoint**"
   ]
  },
  {
   "cell_type": "code",
   "execution_count": 32,
   "id": "c8eca330",
   "metadata": {},
   "outputs": [],
   "source": [
    "mergedCompleteMedicalStudyDataFrame \\\n",
    "    = pd \\\n",
    "        .merge \\\n",
    "            (maximumTimepointPerMouseDataFrame,\n",
    "             cleanCompleteMedicalStudyDataFrame, \n",
    "             on \\\n",
    "                 = ['Mouse ID',\n",
    "                    'Timepoint'],\n",
    "                    how \\\n",
    "                        = 'left')\n",
    "\n",
    "\n",
    "log_function \\\n",
    "    .DebugReturnObjectWriteObject \\\n",
    "        (mergedCompleteMedicalStudyDataFrame)"
   ]
  },
  {
   "cell_type": "code",
   "execution_count": 33,
   "id": "a1e47ab1",
   "metadata": {},
   "outputs": [],
   "source": [
    "# In debug mode, these lines of code check if the mouse IDs in the merged\n",
    "# complete medical study DataFrame are the same as those in the maximum \n",
    "# timepoint per mouse DataFrame.\n",
    "if log_constant.DEBUG_FLAG == True:\n",
    "    \n",
    "    uniqueMouseIDsMergedStudyArray \\\n",
    "        = mergedCompleteMedicalStudyDataFrame \\\n",
    "            ['Mouse ID'] \\\n",
    "            .unique()\n",
    "    \n",
    "    uniqueMouseIDsMaximumTimePointArray \\\n",
    "        = maximumTimepointPerMouseDataFrame \\\n",
    "            ['Mouse ID'] \\\n",
    "            .unique()\n",
    "    \n",
    "    log_subroutine \\\n",
    "        .PrintAndLogWriteText \\\n",
    "            (str \\\n",
    "                 (np \\\n",
    "                    .array_equal \\\n",
    "                        (uniqueMouseIDsMergedStudyArray, \n",
    "                         uniqueMouseIDsMaximumTimePointArray)))"
   ]
  },
  {
   "cell_type": "markdown",
   "id": "b5c7f2ce",
   "metadata": {},
   "source": [
    "### **Most Promising Drug Regimen List and Tumor Volume Data List**"
   ]
  },
  {
   "cell_type": "code",
   "execution_count": 34,
   "id": "9800011f",
   "metadata": {},
   "outputs": [],
   "source": [
    "tumorVolumeSeriesList \\\n",
    "    = []\n",
    "\n",
    "mostPromisingDrugRegimenNamesList \\\n",
    "    = promisingTreatmentRegimensDataFrame \\\n",
    "        ['Drug Regimen'] \\\n",
    "         .sort_values \\\n",
    "            (ascending \\\n",
    "                = True) \\\n",
    "         .unique() \\\n",
    "         .tolist()\n",
    "\n",
    "\n",
    "log_function \\\n",
    "    .DebugReturnObjectWriteObject \\\n",
    "        (mostPromisingDrugRegimenNamesList)"
   ]
  },
  {
   "cell_type": "markdown",
   "id": "46384df8",
   "metadata": {},
   "source": [
    "### **Populate Tumor Volume Data List**"
   ]
  },
  {
   "cell_type": "code",
   "execution_count": 35,
   "id": "d0c11888",
   "metadata": {},
   "outputs": [],
   "source": [
    "# This for loop cycles through the List of drug regimens, extracts the \n",
    "# tumor volume for each regimen as a Series, and appends the series to \n",
    "# a List.\n",
    "for regimenName in mostPromisingDrugRegimenNamesList:\n",
    "\n",
    "    regimenStudyDataFrame \\\n",
    "        = mergedCompleteMedicalStudyDataFrame \\\n",
    "            .loc \\\n",
    "                [(mergedCompleteMedicalStudyDataFrame \\\n",
    "                      ['Drug Regimen']\n",
    "                  == regimenName), :]\n",
    "\n",
    "    tumorVolumeSeriesList \\\n",
    "        .append \\\n",
    "            (regimenStudyDataFrame \\\n",
    "                 ['Tumor Volume (mm3)'])\n",
    "\n",
    "\n",
    "log_function \\\n",
    "    .DebugReturnObjectWriteObject \\\n",
    "        (tumorVolumeSeriesList)"
   ]
  },
  {
   "cell_type": "markdown",
   "id": "edd121b9",
   "metadata": {},
   "source": [
    "### **Display Tumor Volume Statistics**"
   ]
  },
  {
   "cell_type": "code",
   "execution_count": 36,
   "id": "a28971b4",
   "metadata": {},
   "outputs": [
    {
     "data": {
      "text/html": [
       "<style type=\"text/css\">\n",
       "#T_d5360 caption {\n",
       "  color: black;\n",
       "  font-size: 20px;\n",
       "  font-style: bold;\n",
       "  text-align: center;\n",
       "}\n",
       "#T_d5360_row0_col0, #T_d5360_row0_col1, #T_d5360_row0_col2, #T_d5360_row0_col3, #T_d5360_row0_col4, #T_d5360_row0_col5, #T_d5360_row0_col6 {\n",
       "  text-align: center;\n",
       "  border: 1.3px solid red;\n",
       "  color: blue;\n",
       "}\n",
       "</style>\n",
       "<table id=\"T_d5360\">\n",
       "  <caption>Table 4.1: Tumor Volume Statistics for Capomulin</caption>\n",
       "  <thead>\n",
       "    <tr>\n",
       "      <th class=\"blank level0\" >&nbsp;</th>\n",
       "      <th id=\"T_d5360_level0_col0\" class=\"col_heading level0 col0\" >Lower Quartile</th>\n",
       "      <th id=\"T_d5360_level0_col1\" class=\"col_heading level0 col1\" >Upper Quartile</th>\n",
       "      <th id=\"T_d5360_level0_col2\" class=\"col_heading level0 col2\" >Interquartile Range</th>\n",
       "      <th id=\"T_d5360_level0_col3\" class=\"col_heading level0 col3\" >Median</th>\n",
       "      <th id=\"T_d5360_level0_col4\" class=\"col_heading level0 col4\" >Lower Boundary</th>\n",
       "      <th id=\"T_d5360_level0_col5\" class=\"col_heading level0 col5\" >Upper Boundary</th>\n",
       "      <th id=\"T_d5360_level0_col6\" class=\"col_heading level0 col6\" >Number of Outliers</th>\n",
       "    </tr>\n",
       "  </thead>\n",
       "  <tbody>\n",
       "    <tr>\n",
       "      <th id=\"T_d5360_level0_row0\" class=\"row_heading level0 row0\" >0</th>\n",
       "      <td id=\"T_d5360_row0_col0\" class=\"data row0 col0\" >32.38</td>\n",
       "      <td id=\"T_d5360_row0_col1\" class=\"data row0 col1\" >40.16</td>\n",
       "      <td id=\"T_d5360_row0_col2\" class=\"data row0 col2\" >7.78</td>\n",
       "      <td id=\"T_d5360_row0_col3\" class=\"data row0 col3\" >38.13</td>\n",
       "      <td id=\"T_d5360_row0_col4\" class=\"data row0 col4\" >20.70</td>\n",
       "      <td id=\"T_d5360_row0_col5\" class=\"data row0 col5\" >51.83</td>\n",
       "      <td id=\"T_d5360_row0_col6\" class=\"data row0 col6\" >0</td>\n",
       "    </tr>\n",
       "  </tbody>\n",
       "</table>\n"
      ],
      "text/plain": [
       "<pandas.io.formats.style.Styler at 0x14c61b310>"
      ]
     },
     "metadata": {},
     "output_type": "display_data"
    },
    {
     "data": {
      "text/html": [
       "<style type=\"text/css\">\n",
       "#T_f1b86 caption {\n",
       "  color: black;\n",
       "  font-size: 20px;\n",
       "  font-style: bold;\n",
       "  text-align: center;\n",
       "}\n",
       "#T_f1b86_row0_col0, #T_f1b86_row0_col1, #T_f1b86_row0_col2, #T_f1b86_row0_col3, #T_f1b86_row0_col4, #T_f1b86_row0_col5, #T_f1b86_row0_col6 {\n",
       "  text-align: center;\n",
       "  border: 1.3px solid red;\n",
       "  color: blue;\n",
       "}\n",
       "</style>\n",
       "<table id=\"T_f1b86\">\n",
       "  <caption>Table 4.2: Tumor Volume Statistics for Ceftamin</caption>\n",
       "  <thead>\n",
       "    <tr>\n",
       "      <th class=\"blank level0\" >&nbsp;</th>\n",
       "      <th id=\"T_f1b86_level0_col0\" class=\"col_heading level0 col0\" >Lower Quartile</th>\n",
       "      <th id=\"T_f1b86_level0_col1\" class=\"col_heading level0 col1\" >Upper Quartile</th>\n",
       "      <th id=\"T_f1b86_level0_col2\" class=\"col_heading level0 col2\" >Interquartile Range</th>\n",
       "      <th id=\"T_f1b86_level0_col3\" class=\"col_heading level0 col3\" >Median</th>\n",
       "      <th id=\"T_f1b86_level0_col4\" class=\"col_heading level0 col4\" >Lower Boundary</th>\n",
       "      <th id=\"T_f1b86_level0_col5\" class=\"col_heading level0 col5\" >Upper Boundary</th>\n",
       "      <th id=\"T_f1b86_level0_col6\" class=\"col_heading level0 col6\" >Number of Outliers</th>\n",
       "    </tr>\n",
       "  </thead>\n",
       "  <tbody>\n",
       "    <tr>\n",
       "      <th id=\"T_f1b86_level0_row0\" class=\"row_heading level0 row0\" >0</th>\n",
       "      <td id=\"T_f1b86_row0_col0\" class=\"data row0 col0\" >48.72</td>\n",
       "      <td id=\"T_f1b86_row0_col1\" class=\"data row0 col1\" >64.30</td>\n",
       "      <td id=\"T_f1b86_row0_col2\" class=\"data row0 col2\" >15.58</td>\n",
       "      <td id=\"T_f1b86_row0_col3\" class=\"data row0 col3\" >59.85</td>\n",
       "      <td id=\"T_f1b86_row0_col4\" class=\"data row0 col4\" >25.36</td>\n",
       "      <td id=\"T_f1b86_row0_col5\" class=\"data row0 col5\" >87.67</td>\n",
       "      <td id=\"T_f1b86_row0_col6\" class=\"data row0 col6\" >0</td>\n",
       "    </tr>\n",
       "  </tbody>\n",
       "</table>\n"
      ],
      "text/plain": [
       "<pandas.io.formats.style.Styler at 0x14c5a13d0>"
      ]
     },
     "metadata": {},
     "output_type": "display_data"
    },
    {
     "data": {
      "text/html": [
       "<style type=\"text/css\">\n",
       "#T_54b41 caption {\n",
       "  color: black;\n",
       "  font-size: 20px;\n",
       "  font-style: bold;\n",
       "  text-align: center;\n",
       "}\n",
       "#T_54b41_row0_col0, #T_54b41_row0_col1, #T_54b41_row0_col2, #T_54b41_row0_col3, #T_54b41_row0_col4, #T_54b41_row0_col5, #T_54b41_row0_col6 {\n",
       "  text-align: center;\n",
       "  border: 1.3px solid red;\n",
       "  color: blue;\n",
       "}\n",
       "</style>\n",
       "<table id=\"T_54b41\">\n",
       "  <caption>Table 4.3: Tumor Volume Statistics for Infubinol</caption>\n",
       "  <thead>\n",
       "    <tr>\n",
       "      <th class=\"blank level0\" >&nbsp;</th>\n",
       "      <th id=\"T_54b41_level0_col0\" class=\"col_heading level0 col0\" >Lower Quartile</th>\n",
       "      <th id=\"T_54b41_level0_col1\" class=\"col_heading level0 col1\" >Upper Quartile</th>\n",
       "      <th id=\"T_54b41_level0_col2\" class=\"col_heading level0 col2\" >Interquartile Range</th>\n",
       "      <th id=\"T_54b41_level0_col3\" class=\"col_heading level0 col3\" >Median</th>\n",
       "      <th id=\"T_54b41_level0_col4\" class=\"col_heading level0 col4\" >Lower Boundary</th>\n",
       "      <th id=\"T_54b41_level0_col5\" class=\"col_heading level0 col5\" >Upper Boundary</th>\n",
       "      <th id=\"T_54b41_level0_col6\" class=\"col_heading level0 col6\" >Number of Outliers</th>\n",
       "    </tr>\n",
       "  </thead>\n",
       "  <tbody>\n",
       "    <tr>\n",
       "      <th id=\"T_54b41_level0_row0\" class=\"row_heading level0 row0\" >0</th>\n",
       "      <td id=\"T_54b41_row0_col0\" class=\"data row0 col0\" >54.05</td>\n",
       "      <td id=\"T_54b41_row0_col1\" class=\"data row0 col1\" >65.53</td>\n",
       "      <td id=\"T_54b41_row0_col2\" class=\"data row0 col2\" >11.48</td>\n",
       "      <td id=\"T_54b41_row0_col3\" class=\"data row0 col3\" >60.17</td>\n",
       "      <td id=\"T_54b41_row0_col4\" class=\"data row0 col4\" >36.83</td>\n",
       "      <td id=\"T_54b41_row0_col5\" class=\"data row0 col5\" >82.74</td>\n",
       "      <td id=\"T_54b41_row0_col6\" class=\"data row0 col6\" >1</td>\n",
       "    </tr>\n",
       "  </tbody>\n",
       "</table>\n"
      ],
      "text/plain": [
       "<pandas.io.formats.style.Styler at 0x14c652a10>"
      ]
     },
     "metadata": {},
     "output_type": "display_data"
    },
    {
     "data": {
      "text/html": [
       "<style type=\"text/css\">\n",
       "#T_d90cc caption {\n",
       "  color: black;\n",
       "  font-size: 20px;\n",
       "  font-style: bold;\n",
       "  text-align: center;\n",
       "}\n",
       "#T_d90cc_row0_col0, #T_d90cc_row0_col1, #T_d90cc_row0_col2, #T_d90cc_row0_col3, #T_d90cc_row0_col4, #T_d90cc_row0_col5, #T_d90cc_row0_col6 {\n",
       "  text-align: center;\n",
       "  border: 1.3px solid red;\n",
       "  color: blue;\n",
       "}\n",
       "</style>\n",
       "<table id=\"T_d90cc\">\n",
       "  <caption>Table 4.4: Tumor Volume Statistics for Placebo</caption>\n",
       "  <thead>\n",
       "    <tr>\n",
       "      <th class=\"blank level0\" >&nbsp;</th>\n",
       "      <th id=\"T_d90cc_level0_col0\" class=\"col_heading level0 col0\" >Lower Quartile</th>\n",
       "      <th id=\"T_d90cc_level0_col1\" class=\"col_heading level0 col1\" >Upper Quartile</th>\n",
       "      <th id=\"T_d90cc_level0_col2\" class=\"col_heading level0 col2\" >Interquartile Range</th>\n",
       "      <th id=\"T_d90cc_level0_col3\" class=\"col_heading level0 col3\" >Median</th>\n",
       "      <th id=\"T_d90cc_level0_col4\" class=\"col_heading level0 col4\" >Lower Boundary</th>\n",
       "      <th id=\"T_d90cc_level0_col5\" class=\"col_heading level0 col5\" >Upper Boundary</th>\n",
       "      <th id=\"T_d90cc_level0_col6\" class=\"col_heading level0 col6\" >Number of Outliers</th>\n",
       "    </tr>\n",
       "  </thead>\n",
       "  <tbody>\n",
       "    <tr>\n",
       "      <th id=\"T_d90cc_level0_row0\" class=\"row_heading level0 row0\" >0</th>\n",
       "      <td id=\"T_d90cc_row0_col0\" class=\"data row0 col0\" >52.94</td>\n",
       "      <td id=\"T_d90cc_row0_col1\" class=\"data row0 col1\" >68.13</td>\n",
       "      <td id=\"T_d90cc_row0_col2\" class=\"data row0 col2\" >15.19</td>\n",
       "      <td id=\"T_d90cc_row0_col3\" class=\"data row0 col3\" >62.03</td>\n",
       "      <td id=\"T_d90cc_row0_col4\" class=\"data row0 col4\" >30.16</td>\n",
       "      <td id=\"T_d90cc_row0_col5\" class=\"data row0 col5\" >90.92</td>\n",
       "      <td id=\"T_d90cc_row0_col6\" class=\"data row0 col6\" >0</td>\n",
       "    </tr>\n",
       "  </tbody>\n",
       "</table>\n"
      ],
      "text/plain": [
       "<pandas.io.formats.style.Styler at 0x14c575750>"
      ]
     },
     "metadata": {},
     "output_type": "display_data"
    },
    {
     "data": {
      "text/html": [
       "<style type=\"text/css\">\n",
       "#T_9fc3e caption {\n",
       "  color: black;\n",
       "  font-size: 20px;\n",
       "  font-style: bold;\n",
       "  text-align: center;\n",
       "}\n",
       "#T_9fc3e_row0_col0, #T_9fc3e_row0_col1, #T_9fc3e_row0_col2, #T_9fc3e_row0_col3, #T_9fc3e_row0_col4, #T_9fc3e_row0_col5, #T_9fc3e_row0_col6 {\n",
       "  text-align: center;\n",
       "  border: 1.3px solid red;\n",
       "  color: blue;\n",
       "}\n",
       "</style>\n",
       "<table id=\"T_9fc3e\">\n",
       "  <caption>Table 4.5: Tumor Volume Statistics for Ramicane</caption>\n",
       "  <thead>\n",
       "    <tr>\n",
       "      <th class=\"blank level0\" >&nbsp;</th>\n",
       "      <th id=\"T_9fc3e_level0_col0\" class=\"col_heading level0 col0\" >Lower Quartile</th>\n",
       "      <th id=\"T_9fc3e_level0_col1\" class=\"col_heading level0 col1\" >Upper Quartile</th>\n",
       "      <th id=\"T_9fc3e_level0_col2\" class=\"col_heading level0 col2\" >Interquartile Range</th>\n",
       "      <th id=\"T_9fc3e_level0_col3\" class=\"col_heading level0 col3\" >Median</th>\n",
       "      <th id=\"T_9fc3e_level0_col4\" class=\"col_heading level0 col4\" >Lower Boundary</th>\n",
       "      <th id=\"T_9fc3e_level0_col5\" class=\"col_heading level0 col5\" >Upper Boundary</th>\n",
       "      <th id=\"T_9fc3e_level0_col6\" class=\"col_heading level0 col6\" >Number of Outliers</th>\n",
       "    </tr>\n",
       "  </thead>\n",
       "  <tbody>\n",
       "    <tr>\n",
       "      <th id=\"T_9fc3e_level0_row0\" class=\"row_heading level0 row0\" >0</th>\n",
       "      <td id=\"T_9fc3e_row0_col0\" class=\"data row0 col0\" >31.56</td>\n",
       "      <td id=\"T_9fc3e_row0_col1\" class=\"data row0 col1\" >40.66</td>\n",
       "      <td id=\"T_9fc3e_row0_col2\" class=\"data row0 col2\" >9.10</td>\n",
       "      <td id=\"T_9fc3e_row0_col3\" class=\"data row0 col3\" >36.56</td>\n",
       "      <td id=\"T_9fc3e_row0_col4\" class=\"data row0 col4\" >17.91</td>\n",
       "      <td id=\"T_9fc3e_row0_col5\" class=\"data row0 col5\" >54.31</td>\n",
       "      <td id=\"T_9fc3e_row0_col6\" class=\"data row0 col6\" >0</td>\n",
       "    </tr>\n",
       "  </tbody>\n",
       "</table>\n"
      ],
      "text/plain": [
       "<pandas.io.formats.style.Styler at 0x14c680f10>"
      ]
     },
     "metadata": {},
     "output_type": "display_data"
    }
   ],
   "source": [
    "local_subroutine \\\n",
    "    .DisplayTumorVolumeStatistics \\\n",
    "        (mostPromisingDrugRegimenNamesList, \n",
    "         tumorVolumeSeriesList)"
   ]
  },
  {
   "cell_type": "markdown",
   "id": "8bbeb2ae",
   "metadata": {},
   "source": [
    "### **Display Tumor Volume Statistics Box Plot**"
   ]
  },
  {
   "cell_type": "code",
   "execution_count": 37,
   "id": "9d32801a",
   "metadata": {},
   "outputs": [
    {
     "name": "stdout",
     "output_type": "stream",
     "text": [
      "./Images/PymaceuticalsFigure40DistrubutionofTumorVolumeforEachTreatmentGrouppng\n"
     ]
    },
    {
     "data": {
      "image/png": "[encoded data removed]",
      "text/plain": [
       "<Figure size 640x480 with 1 Axes>"
      ]
     },
     "metadata": {},
     "output_type": "display_data"
    }
   ],
   "source": [
    "subroutine \\\n",
    "    .DisplayMatplotlibBoxPlotFromSeriesList \\\n",
    "        (tumorVolumeSeriesList,\n",
    "         mostPromisingDrugRegimenNamesList,\n",
    "         'Drug Regimen',\n",
    "         'Final Tumor Volume (mm3)',\n",
    "         'Figure 4.0: Distrubution of Tumor Volume for Each Treatment Group')"
   ]
  },
  {
   "cell_type": "markdown",
   "id": "4929765f",
   "metadata": {},
   "source": [
    " # <br> **Section 5: Line Plot and Scatter Plot**"
   ]
  },
  {
   "cell_type": "markdown",
   "id": "7a409020",
   "metadata": {},
   "source": [
    "### **Capomulin Study Data**"
   ]
  },
  {
   "cell_type": "code",
   "execution_count": 38,
   "id": "e3a4e55e",
   "metadata": {},
   "outputs": [],
   "source": [
    "# This line of code extracts all rows from the clean medical study DataFrame \n",
    "# for the drug regimen, Capomulin.\n",
    "capomulinStudyDataFrame \\\n",
    "    = cleanCompleteMedicalStudyDataFrame \\\n",
    "            .loc \\\n",
    "                [(cleanCompleteMedicalStudyDataFrame \\\n",
    "                    ['Drug Regimen'] \n",
    "                        == 'Capomulin'), :]\n",
    "\n",
    "\n",
    "log_function \\\n",
    "    .DebugReturnObjectWriteObject \\\n",
    "        (capomulinStudyDataFrame)"
   ]
  },
  {
   "cell_type": "markdown",
   "id": "c6494f0b",
   "metadata": {},
   "source": [
    "### **Random Mouse ID Selection**"
   ]
  },
  {
   "cell_type": "code",
   "execution_count": 39,
   "id": "bff2b1a5",
   "metadata": {},
   "outputs": [],
   "source": [
    "randomMouseIDStringVariable \\\n",
    "    = capomulinStudyDataFrame \\\n",
    "        .sample \\\n",
    "            (n = 1, \n",
    "             replace = False) \\\n",
    "        .iloc \\\n",
    "            [0, 0]\n",
    "\n",
    "\n",
    "log_function \\\n",
    "    .DebugReturnObjectWriteObject \\\n",
    "        (randomMouseIDStringVariable)"
   ]
  },
  {
   "cell_type": "markdown",
   "id": "314336b7",
   "metadata": {},
   "source": [
    "### **Mouse Data Retrieval**"
   ]
  },
  {
   "cell_type": "code",
   "execution_count": 40,
   "id": "8c12ca4c",
   "metadata": {},
   "outputs": [],
   "source": [
    "capomulinSingleMouseDataFrame \\\n",
    "    = capomulinStudyDataFrame\\\n",
    "        .loc \\\n",
    "            [(capomulinStudyDataFrame \\\n",
    "                  ['Mouse ID'] \n",
    "              == randomMouseIDStringVariable), :]\n",
    "\n",
    "\n",
    "log_function \\\n",
    "    .DebugReturnObjectWriteObject \\\n",
    "        (capomulinSingleMouseDataFrame)"
   ]
  },
  {
   "cell_type": "markdown",
   "id": "a8fc48fc",
   "metadata": {},
   "source": [
    "### **Line Calculations**"
   ]
  },
  {
   "cell_type": "code",
   "execution_count": 41,
   "id": "601782cd",
   "metadata": {},
   "outputs": [],
   "source": [
    "capomulinXValuesSeries \\\n",
    "    = capomulinSingleMouseDataFrame \\\n",
    "        ['Timepoint']\n",
    "\n",
    "\n",
    "log_function \\\n",
    "    .DebugReturnObjectWriteObject \\\n",
    "        (capomulinXValuesSeries)"
   ]
  },
  {
   "cell_type": "code",
   "execution_count": 42,
   "id": "8e4b8251",
   "metadata": {},
   "outputs": [],
   "source": [
    "capomulinYValuesSeries \\\n",
    "    = capomulinSingleMouseDataFrame \\\n",
    "        ['Tumor Volume (mm3)']\n",
    "\n",
    "\n",
    "log_function \\\n",
    "    .DebugReturnObjectWriteObject \\\n",
    "        (capomulinYValuesSeries)"
   ]
  },
  {
   "cell_type": "markdown",
   "id": "ee8044a5",
   "metadata": {},
   "source": [
    "### **Display Line Plot**"
   ]
  },
  {
   "cell_type": "code",
   "execution_count": 43,
   "id": "653f698f",
   "metadata": {},
   "outputs": [
    {
     "name": "stdout",
     "output_type": "stream",
     "text": [
      "./Images/PymaceuticalsGraph51CapomulinTreatmentofMouseu364png\n"
     ]
    },
    {
     "data": {
      "image/png": "[encoded data removed]",
      "text/plain": [
       "<Figure size 640x480 with 1 Axes>"
      ]
     },
     "metadata": {},
     "output_type": "display_data"
    }
   ],
   "source": [
    "titleStringVariable \\\n",
    "    = f'Graph 5.1: Capomulin Treatment of Mouse {randomMouseIDStringVariable}'\n",
    "\n",
    "subroutine \\\n",
    "    .DisplayMatplotlibLineChartFromXYSeries \\\n",
    "        (capomulinXValuesSeries,\n",
    "         capomulinYValuesSeries,\n",
    "         'purple',\n",
    "         'solid',\n",
    "         'Timepoint (days)',\n",
    "         'Tumor Volume (mm3)',\n",
    "         titleStringVariable)"
   ]
  },
  {
   "cell_type": "markdown",
   "id": "273e7d7e",
   "metadata": {},
   "source": [
    "### **Mean of Tumor Volumes Per Mouse ID**"
   ]
  },
  {
   "cell_type": "code",
   "execution_count": 44,
   "id": "eec2c6fb",
   "metadata": {},
   "outputs": [],
   "source": [
    "capomulinMeanTumorVolumePerMouseSeries \\\n",
    "    = capomulinStudyDataFrame \\\n",
    "        .groupby \\\n",
    "            ('Mouse ID') \\\n",
    "                ['Tumor Volume (mm3)'] \\\n",
    "        .mean()\n",
    "\n",
    "\n",
    "log_function \\\n",
    "    .DebugReturnObjectWriteObject \\\n",
    "        (capomulinMeanTumorVolumePerMouseSeries)"
   ]
  },
  {
   "cell_type": "markdown",
   "id": "c0f21856",
   "metadata": {},
   "source": [
    "### **Mean of Weights Per Mouse ID**"
   ]
  },
  {
   "cell_type": "code",
   "execution_count": 45,
   "id": "317ec6b9",
   "metadata": {},
   "outputs": [],
   "source": [
    "capomulinMeanWeightPerMouseSeries \\\n",
    "    = capomulinStudyDataFrame \\\n",
    "        .groupby \\\n",
    "            ('Mouse ID') \\\n",
    "                ['Weight (g)'] \\\n",
    "            .mean()\n",
    "\n",
    "\n",
    "log_function \\\n",
    "    .DebugReturnObjectWriteObject \\\n",
    "        (capomulinMeanWeightPerMouseSeries)"
   ]
  },
  {
   "cell_type": "markdown",
   "id": "fa70b170",
   "metadata": {},
   "source": [
    "### **Display Scatter Plot**"
   ]
  },
  {
   "cell_type": "code",
   "execution_count": 46,
   "id": "b051fc21",
   "metadata": {},
   "outputs": [
    {
     "name": "stdout",
     "output_type": "stream",
     "text": [
      "./Images/PymaceuticalsGraph52AverageObservedTumorVolumevsWeightCapomulinpng\n"
     ]
    },
    {
     "data": {
      "image/png": "[encoded data removed]",
      "text/plain": [
       "<Figure size 640x480 with 1 Axes>"
      ]
     },
     "metadata": {},
     "output_type": "display_data"
    }
   ],
   "source": [
    "subroutine \\\n",
    "    .DisplayMatplotlibScatterPlotFromXYSeries \\\n",
    "        (capomulinMeanWeightPerMouseSeries, \n",
    "         capomulinMeanTumorVolumePerMouseSeries, \n",
    "         'Graph 5.2: Average Observed Tumor Volume vs. Weight (Capomulin)')"
   ]
  },
  {
   "cell_type": "markdown",
   "id": "8663a413",
   "metadata": {},
   "source": [
    " # <br> **Section 6: Correlation and Regression**"
   ]
  },
  {
   "cell_type": "markdown",
   "id": "90530cbb",
   "metadata": {},
   "source": [
    "### **Correlation Calculation and Display**"
   ]
  },
  {
   "cell_type": "code",
   "execution_count": 47,
   "id": "4b30ea5a",
   "metadata": {},
   "outputs": [
    {
     "name": "stdout",
     "output_type": "stream",
     "text": [
      "The correlation between mouse weight and the average tumor volume is 0.84.\n"
     ]
    }
   ],
   "source": [
    "correlationFloatVariable \\\n",
    "    = function \\\n",
    "        .ReturnPearsonCorrelation \\\n",
    "            (capomulinMeanWeightPerMouseSeries, \n",
    "             capomulinMeanTumorVolumePerMouseSeries)\n",
    "\n",
    "log_subroutine \\\n",
    "    .PrintAndLogWriteText \\\n",
    "        ('The correlation between mouse weight and the average tumor volume is ' \n",
    "         + '{:1.2f}.'.format(correlationFloatVariable))"
   ]
  },
  {
   "cell_type": "markdown",
   "id": "f9951c03",
   "metadata": {},
   "source": [
    "### **Display Scatter Plot With Regression**"
   ]
  },
  {
   "cell_type": "code",
   "execution_count": 48,
   "id": "c35fa1cf",
   "metadata": {},
   "outputs": [
    {
     "name": "stdout",
     "output_type": "stream",
     "text": [
      "r-value:     0.8419\n",
      "r-squared:   0.7089\n",
      "correlation: 0.8419\n",
      "./Images/PymaceuticalsGraph60TumorVolumevsWeightWithRegressionCapomulinpng\n"
     ]
    },
    {
     "data": {
      "image/png": "[encoded data removed]",
      "text/plain": [
       "<Figure size 640x480 with 1 Axes>"
      ]
     },
     "metadata": {},
     "output_type": "display_data"
    }
   ],
   "source": [
    "subroutine \\\n",
    "    .DisplayMatplotlibScatterPlotFromXYSeries \\\n",
    "        (capomulinMeanWeightPerMouseSeries, \n",
    "         capomulinMeanTumorVolumePerMouseSeries, \n",
    "         'Graph 6.0: Tumor Volume vs. Weight With Regression (Capomulin)',\n",
    "         1, 18.5, 37)"
   ]
  },
  {
   "cell_type": "code",
   "execution_count": null,
   "id": "2e92ba4a",
   "metadata": {},
   "outputs": [],
   "source": []
  }
 ],
 "metadata": {
  "kernelspec": {
   "display_name": "Python 3 (ipykernel)",
   "language": "python",
   "name": "python3"
  },
  "language_info": {
   "codemirror_mode": {
    "name": "ipython",
    "version": 3
   },
   "file_extension": ".py",
   "mimetype": "text/x-python",
   "name": "python",
   "nbconvert_exporter": "python",
   "pygments_lexer": "ipython3",
   "version": "3.11.3"
  }
 },
 "nbformat": 4,
 "nbformat_minor": 5
}
